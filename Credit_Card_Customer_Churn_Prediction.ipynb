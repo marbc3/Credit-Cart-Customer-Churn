{
 "cells": [
  {
   "cell_type": "markdown",
   "id": "862ff710-e340-40c4-84dc-0781e37f5d2a",
   "metadata": {},
   "source": [
    "# Importing The Libraries"
   ]
  },
  {
   "cell_type": "code",
   "execution_count": 1,
   "id": "d3dd1762-2a87-4f8f-b659-f962d495e919",
   "metadata": {},
   "outputs": [],
   "source": [
    "import pandas as pd\n",
    "import numpy as np\n",
    "import seaborn as sns\n",
    "import matplotlib.pyplot as plt\n",
    "\n",
    "from scipy.stats import shapiro\n",
    "import scipy.stats as stats\n",
    "from sklearn import preprocessing\n",
    "from sklearn.preprocessing import OneHotEncoder\n",
    "from sklearn.model_selection import train_test_split, GridSearchCV\n",
    "from sklearn.linear_model import LogisticRegression\n",
    "from sklearn.ensemble import RandomForestClassifier\n",
    "from sklearn import metrics\n",
    "\n",
    "from sklearn.metrics import classification_report\n",
    "from sklearn.metrics import confusion_matrix\n",
    "from sklearn.metrics import precision_score, recall_score, f1_score\n",
    "from sklearn.metrics import precision_recall_curve\n",
    "from sklearn.metrics import average_precision_score\n",
    "from sklearn.metrics import brier_score_loss\n",
    "\n",
    "import statsmodels.api as sm"
   ]
  },
  {
   "cell_type": "markdown",
   "id": "f6c00a67-8398-4ebd-960c-e7b4791a13ce",
   "metadata": {
    "tags": []
   },
   "source": [
    "# Data Overview"
   ]
  },
  {
   "cell_type": "code",
   "execution_count": 2,
   "id": "6be1273c-eaf5-471a-85dc-f6ed5e1bb1fe",
   "metadata": {},
   "outputs": [],
   "source": [
    "df = pd.read_csv(\"credit_card_churn.csv\")"
   ]
  },
  {
   "cell_type": "code",
   "execution_count": 3,
   "id": "ea695fcc-92a0-400c-9d94-188de41254f8",
   "metadata": {},
   "outputs": [
    {
     "data": {
      "text/html": [
       "<div>\n",
       "<style scoped>\n",
       "    .dataframe tbody tr th:only-of-type {\n",
       "        vertical-align: middle;\n",
       "    }\n",
       "\n",
       "    .dataframe tbody tr th {\n",
       "        vertical-align: top;\n",
       "    }\n",
       "\n",
       "    .dataframe thead th {\n",
       "        text-align: right;\n",
       "    }\n",
       "</style>\n",
       "<table border=\"1\" class=\"dataframe\">\n",
       "  <thead>\n",
       "    <tr style=\"text-align: right;\">\n",
       "      <th></th>\n",
       "      <th>CLIENTNUM</th>\n",
       "      <th>Attrition_Flag</th>\n",
       "      <th>Customer_Age</th>\n",
       "      <th>Gender</th>\n",
       "      <th>Dependent_count</th>\n",
       "      <th>Education_Level</th>\n",
       "      <th>Marital_Status</th>\n",
       "      <th>Income_Category</th>\n",
       "      <th>Card_Category</th>\n",
       "      <th>Months_on_book</th>\n",
       "      <th>...</th>\n",
       "      <th>Credit_Limit</th>\n",
       "      <th>Total_Revolving_Bal</th>\n",
       "      <th>Avg_Open_To_Buy</th>\n",
       "      <th>Total_Amt_Chng_Q4_Q1</th>\n",
       "      <th>Total_Trans_Amt</th>\n",
       "      <th>Total_Trans_Ct</th>\n",
       "      <th>Total_Ct_Chng_Q4_Q1</th>\n",
       "      <th>Avg_Utilization_Ratio</th>\n",
       "      <th>Naive_Bayes_Classifier_Attrition_Flag_Card_Category_Contacts_Count_12_mon_Dependent_count_Education_Level_Months_Inactive_12_mon_1</th>\n",
       "      <th>Naive_Bayes_Classifier_Attrition_Flag_Card_Category_Contacts_Count_12_mon_Dependent_count_Education_Level_Months_Inactive_12_mon_2</th>\n",
       "    </tr>\n",
       "  </thead>\n",
       "  <tbody>\n",
       "    <tr>\n",
       "      <th>0</th>\n",
       "      <td>768805383</td>\n",
       "      <td>Existing Customer</td>\n",
       "      <td>45</td>\n",
       "      <td>M</td>\n",
       "      <td>3</td>\n",
       "      <td>High School</td>\n",
       "      <td>Married</td>\n",
       "      <td>$60K - $80K</td>\n",
       "      <td>Blue</td>\n",
       "      <td>39</td>\n",
       "      <td>...</td>\n",
       "      <td>12691.0</td>\n",
       "      <td>777</td>\n",
       "      <td>11914.0</td>\n",
       "      <td>1.335</td>\n",
       "      <td>1144</td>\n",
       "      <td>42</td>\n",
       "      <td>1.625</td>\n",
       "      <td>0.061</td>\n",
       "      <td>0.000093</td>\n",
       "      <td>0.99991</td>\n",
       "    </tr>\n",
       "    <tr>\n",
       "      <th>1</th>\n",
       "      <td>818770008</td>\n",
       "      <td>Existing Customer</td>\n",
       "      <td>49</td>\n",
       "      <td>F</td>\n",
       "      <td>5</td>\n",
       "      <td>Graduate</td>\n",
       "      <td>Single</td>\n",
       "      <td>Less than $40K</td>\n",
       "      <td>Blue</td>\n",
       "      <td>44</td>\n",
       "      <td>...</td>\n",
       "      <td>8256.0</td>\n",
       "      <td>864</td>\n",
       "      <td>7392.0</td>\n",
       "      <td>1.541</td>\n",
       "      <td>1291</td>\n",
       "      <td>33</td>\n",
       "      <td>3.714</td>\n",
       "      <td>0.105</td>\n",
       "      <td>0.000057</td>\n",
       "      <td>0.99994</td>\n",
       "    </tr>\n",
       "    <tr>\n",
       "      <th>2</th>\n",
       "      <td>713982108</td>\n",
       "      <td>Existing Customer</td>\n",
       "      <td>51</td>\n",
       "      <td>M</td>\n",
       "      <td>3</td>\n",
       "      <td>Graduate</td>\n",
       "      <td>Married</td>\n",
       "      <td>$80K - $120K</td>\n",
       "      <td>Blue</td>\n",
       "      <td>36</td>\n",
       "      <td>...</td>\n",
       "      <td>3418.0</td>\n",
       "      <td>0</td>\n",
       "      <td>3418.0</td>\n",
       "      <td>2.594</td>\n",
       "      <td>1887</td>\n",
       "      <td>20</td>\n",
       "      <td>2.333</td>\n",
       "      <td>0.000</td>\n",
       "      <td>0.000021</td>\n",
       "      <td>0.99998</td>\n",
       "    </tr>\n",
       "    <tr>\n",
       "      <th>3</th>\n",
       "      <td>769911858</td>\n",
       "      <td>Existing Customer</td>\n",
       "      <td>40</td>\n",
       "      <td>F</td>\n",
       "      <td>4</td>\n",
       "      <td>High School</td>\n",
       "      <td>Unknown</td>\n",
       "      <td>Less than $40K</td>\n",
       "      <td>Blue</td>\n",
       "      <td>34</td>\n",
       "      <td>...</td>\n",
       "      <td>3313.0</td>\n",
       "      <td>2517</td>\n",
       "      <td>796.0</td>\n",
       "      <td>1.405</td>\n",
       "      <td>1171</td>\n",
       "      <td>20</td>\n",
       "      <td>2.333</td>\n",
       "      <td>0.760</td>\n",
       "      <td>0.000134</td>\n",
       "      <td>0.99987</td>\n",
       "    </tr>\n",
       "    <tr>\n",
       "      <th>4</th>\n",
       "      <td>709106358</td>\n",
       "      <td>Existing Customer</td>\n",
       "      <td>40</td>\n",
       "      <td>M</td>\n",
       "      <td>3</td>\n",
       "      <td>Uneducated</td>\n",
       "      <td>Married</td>\n",
       "      <td>$60K - $80K</td>\n",
       "      <td>Blue</td>\n",
       "      <td>21</td>\n",
       "      <td>...</td>\n",
       "      <td>4716.0</td>\n",
       "      <td>0</td>\n",
       "      <td>4716.0</td>\n",
       "      <td>2.175</td>\n",
       "      <td>816</td>\n",
       "      <td>28</td>\n",
       "      <td>2.500</td>\n",
       "      <td>0.000</td>\n",
       "      <td>0.000022</td>\n",
       "      <td>0.99998</td>\n",
       "    </tr>\n",
       "  </tbody>\n",
       "</table>\n",
       "<p>5 rows × 23 columns</p>\n",
       "</div>"
      ],
      "text/plain": [
       "   CLIENTNUM     Attrition_Flag  Customer_Age Gender  Dependent_count  \\\n",
       "0  768805383  Existing Customer            45      M                3   \n",
       "1  818770008  Existing Customer            49      F                5   \n",
       "2  713982108  Existing Customer            51      M                3   \n",
       "3  769911858  Existing Customer            40      F                4   \n",
       "4  709106358  Existing Customer            40      M                3   \n",
       "\n",
       "  Education_Level Marital_Status Income_Category Card_Category  \\\n",
       "0     High School        Married     $60K - $80K          Blue   \n",
       "1        Graduate         Single  Less than $40K          Blue   \n",
       "2        Graduate        Married    $80K - $120K          Blue   \n",
       "3     High School        Unknown  Less than $40K          Blue   \n",
       "4      Uneducated        Married     $60K - $80K          Blue   \n",
       "\n",
       "   Months_on_book  ...  Credit_Limit  Total_Revolving_Bal  Avg_Open_To_Buy  \\\n",
       "0              39  ...       12691.0                  777          11914.0   \n",
       "1              44  ...        8256.0                  864           7392.0   \n",
       "2              36  ...        3418.0                    0           3418.0   \n",
       "3              34  ...        3313.0                 2517            796.0   \n",
       "4              21  ...        4716.0                    0           4716.0   \n",
       "\n",
       "   Total_Amt_Chng_Q4_Q1  Total_Trans_Amt  Total_Trans_Ct  Total_Ct_Chng_Q4_Q1  \\\n",
       "0                 1.335             1144              42                1.625   \n",
       "1                 1.541             1291              33                3.714   \n",
       "2                 2.594             1887              20                2.333   \n",
       "3                 1.405             1171              20                2.333   \n",
       "4                 2.175              816              28                2.500   \n",
       "\n",
       "   Avg_Utilization_Ratio  \\\n",
       "0                  0.061   \n",
       "1                  0.105   \n",
       "2                  0.000   \n",
       "3                  0.760   \n",
       "4                  0.000   \n",
       "\n",
       "   Naive_Bayes_Classifier_Attrition_Flag_Card_Category_Contacts_Count_12_mon_Dependent_count_Education_Level_Months_Inactive_12_mon_1  \\\n",
       "0                                           0.000093                                                                                    \n",
       "1                                           0.000057                                                                                    \n",
       "2                                           0.000021                                                                                    \n",
       "3                                           0.000134                                                                                    \n",
       "4                                           0.000022                                                                                    \n",
       "\n",
       "   Naive_Bayes_Classifier_Attrition_Flag_Card_Category_Contacts_Count_12_mon_Dependent_count_Education_Level_Months_Inactive_12_mon_2  \n",
       "0                                            0.99991                                                                                   \n",
       "1                                            0.99994                                                                                   \n",
       "2                                            0.99998                                                                                   \n",
       "3                                            0.99987                                                                                   \n",
       "4                                            0.99998                                                                                   \n",
       "\n",
       "[5 rows x 23 columns]"
      ]
     },
     "execution_count": 3,
     "metadata": {},
     "output_type": "execute_result"
    }
   ],
   "source": [
    "df.head()"
   ]
  },
  {
   "cell_type": "code",
   "execution_count": 4,
   "id": "3bd193c9-f621-46f6-98e7-64755204eee8",
   "metadata": {},
   "outputs": [],
   "source": [
    "df = df.iloc[:,1:21]"
   ]
  },
  {
   "cell_type": "code",
   "execution_count": 5,
   "id": "768f4b1c-2d34-4d93-a5c3-ca2410a1fb47",
   "metadata": {},
   "outputs": [],
   "source": [
    "df = df.drop(\"Avg_Open_To_Buy\", axis=1)"
   ]
  },
  {
   "cell_type": "code",
   "execution_count": 6,
   "id": "289b4928-de3e-423f-8228-4b21de9d3130",
   "metadata": {},
   "outputs": [
    {
     "data": {
      "text/html": [
       "<div>\n",
       "<style scoped>\n",
       "    .dataframe tbody tr th:only-of-type {\n",
       "        vertical-align: middle;\n",
       "    }\n",
       "\n",
       "    .dataframe tbody tr th {\n",
       "        vertical-align: top;\n",
       "    }\n",
       "\n",
       "    .dataframe thead th {\n",
       "        text-align: right;\n",
       "    }\n",
       "</style>\n",
       "<table border=\"1\" class=\"dataframe\">\n",
       "  <thead>\n",
       "    <tr style=\"text-align: right;\">\n",
       "      <th></th>\n",
       "      <th>Attrition_Flag</th>\n",
       "      <th>Customer_Age</th>\n",
       "      <th>Gender</th>\n",
       "      <th>Dependent_count</th>\n",
       "      <th>Education_Level</th>\n",
       "      <th>Marital_Status</th>\n",
       "      <th>Income_Category</th>\n",
       "      <th>Card_Category</th>\n",
       "      <th>Months_on_book</th>\n",
       "      <th>Total_Relationship_Count</th>\n",
       "      <th>Months_Inactive_12_mon</th>\n",
       "      <th>Contacts_Count_12_mon</th>\n",
       "      <th>Credit_Limit</th>\n",
       "      <th>Total_Revolving_Bal</th>\n",
       "      <th>Total_Amt_Chng_Q4_Q1</th>\n",
       "      <th>Total_Trans_Amt</th>\n",
       "      <th>Total_Trans_Ct</th>\n",
       "      <th>Total_Ct_Chng_Q4_Q1</th>\n",
       "      <th>Avg_Utilization_Ratio</th>\n",
       "    </tr>\n",
       "  </thead>\n",
       "  <tbody>\n",
       "    <tr>\n",
       "      <th>0</th>\n",
       "      <td>Existing Customer</td>\n",
       "      <td>45</td>\n",
       "      <td>M</td>\n",
       "      <td>3</td>\n",
       "      <td>High School</td>\n",
       "      <td>Married</td>\n",
       "      <td>$60K - $80K</td>\n",
       "      <td>Blue</td>\n",
       "      <td>39</td>\n",
       "      <td>5</td>\n",
       "      <td>1</td>\n",
       "      <td>3</td>\n",
       "      <td>12691.0</td>\n",
       "      <td>777</td>\n",
       "      <td>1.335</td>\n",
       "      <td>1144</td>\n",
       "      <td>42</td>\n",
       "      <td>1.625</td>\n",
       "      <td>0.061</td>\n",
       "    </tr>\n",
       "    <tr>\n",
       "      <th>1</th>\n",
       "      <td>Existing Customer</td>\n",
       "      <td>49</td>\n",
       "      <td>F</td>\n",
       "      <td>5</td>\n",
       "      <td>Graduate</td>\n",
       "      <td>Single</td>\n",
       "      <td>Less than $40K</td>\n",
       "      <td>Blue</td>\n",
       "      <td>44</td>\n",
       "      <td>6</td>\n",
       "      <td>1</td>\n",
       "      <td>2</td>\n",
       "      <td>8256.0</td>\n",
       "      <td>864</td>\n",
       "      <td>1.541</td>\n",
       "      <td>1291</td>\n",
       "      <td>33</td>\n",
       "      <td>3.714</td>\n",
       "      <td>0.105</td>\n",
       "    </tr>\n",
       "    <tr>\n",
       "      <th>2</th>\n",
       "      <td>Existing Customer</td>\n",
       "      <td>51</td>\n",
       "      <td>M</td>\n",
       "      <td>3</td>\n",
       "      <td>Graduate</td>\n",
       "      <td>Married</td>\n",
       "      <td>$80K - $120K</td>\n",
       "      <td>Blue</td>\n",
       "      <td>36</td>\n",
       "      <td>4</td>\n",
       "      <td>1</td>\n",
       "      <td>0</td>\n",
       "      <td>3418.0</td>\n",
       "      <td>0</td>\n",
       "      <td>2.594</td>\n",
       "      <td>1887</td>\n",
       "      <td>20</td>\n",
       "      <td>2.333</td>\n",
       "      <td>0.000</td>\n",
       "    </tr>\n",
       "    <tr>\n",
       "      <th>3</th>\n",
       "      <td>Existing Customer</td>\n",
       "      <td>40</td>\n",
       "      <td>F</td>\n",
       "      <td>4</td>\n",
       "      <td>High School</td>\n",
       "      <td>Unknown</td>\n",
       "      <td>Less than $40K</td>\n",
       "      <td>Blue</td>\n",
       "      <td>34</td>\n",
       "      <td>3</td>\n",
       "      <td>4</td>\n",
       "      <td>1</td>\n",
       "      <td>3313.0</td>\n",
       "      <td>2517</td>\n",
       "      <td>1.405</td>\n",
       "      <td>1171</td>\n",
       "      <td>20</td>\n",
       "      <td>2.333</td>\n",
       "      <td>0.760</td>\n",
       "    </tr>\n",
       "    <tr>\n",
       "      <th>4</th>\n",
       "      <td>Existing Customer</td>\n",
       "      <td>40</td>\n",
       "      <td>M</td>\n",
       "      <td>3</td>\n",
       "      <td>Uneducated</td>\n",
       "      <td>Married</td>\n",
       "      <td>$60K - $80K</td>\n",
       "      <td>Blue</td>\n",
       "      <td>21</td>\n",
       "      <td>5</td>\n",
       "      <td>1</td>\n",
       "      <td>0</td>\n",
       "      <td>4716.0</td>\n",
       "      <td>0</td>\n",
       "      <td>2.175</td>\n",
       "      <td>816</td>\n",
       "      <td>28</td>\n",
       "      <td>2.500</td>\n",
       "      <td>0.000</td>\n",
       "    </tr>\n",
       "  </tbody>\n",
       "</table>\n",
       "</div>"
      ],
      "text/plain": [
       "      Attrition_Flag  Customer_Age Gender  Dependent_count Education_Level  \\\n",
       "0  Existing Customer            45      M                3     High School   \n",
       "1  Existing Customer            49      F                5        Graduate   \n",
       "2  Existing Customer            51      M                3        Graduate   \n",
       "3  Existing Customer            40      F                4     High School   \n",
       "4  Existing Customer            40      M                3      Uneducated   \n",
       "\n",
       "  Marital_Status Income_Category Card_Category  Months_on_book  \\\n",
       "0        Married     $60K - $80K          Blue              39   \n",
       "1         Single  Less than $40K          Blue              44   \n",
       "2        Married    $80K - $120K          Blue              36   \n",
       "3        Unknown  Less than $40K          Blue              34   \n",
       "4        Married     $60K - $80K          Blue              21   \n",
       "\n",
       "   Total_Relationship_Count  Months_Inactive_12_mon  Contacts_Count_12_mon  \\\n",
       "0                         5                       1                      3   \n",
       "1                         6                       1                      2   \n",
       "2                         4                       1                      0   \n",
       "3                         3                       4                      1   \n",
       "4                         5                       1                      0   \n",
       "\n",
       "   Credit_Limit  Total_Revolving_Bal  Total_Amt_Chng_Q4_Q1  Total_Trans_Amt  \\\n",
       "0       12691.0                  777                 1.335             1144   \n",
       "1        8256.0                  864                 1.541             1291   \n",
       "2        3418.0                    0                 2.594             1887   \n",
       "3        3313.0                 2517                 1.405             1171   \n",
       "4        4716.0                    0                 2.175              816   \n",
       "\n",
       "   Total_Trans_Ct  Total_Ct_Chng_Q4_Q1  Avg_Utilization_Ratio  \n",
       "0              42                1.625                  0.061  \n",
       "1              33                3.714                  0.105  \n",
       "2              20                2.333                  0.000  \n",
       "3              20                2.333                  0.760  \n",
       "4              28                2.500                  0.000  "
      ]
     },
     "execution_count": 6,
     "metadata": {},
     "output_type": "execute_result"
    }
   ],
   "source": [
    "df.head()"
   ]
  },
  {
   "cell_type": "code",
   "execution_count": 7,
   "id": "10cdc281-6e13-4fc0-a777-af3555e03bda",
   "metadata": {},
   "outputs": [
    {
     "name": "stderr",
     "output_type": "stream",
     "text": [
      "C:\\Users\\Mehmet\\AppData\\Local\\Temp\\ipykernel_9672\\3611951346.py:1: SettingWithCopyWarning: \n",
      "A value is trying to be set on a copy of a slice from a DataFrame\n",
      "\n",
      "See the caveats in the documentation: https://pandas.pydata.org/pandas-docs/stable/user_guide/indexing.html#returning-a-view-versus-a-copy\n",
      "  df['Attrition_Flag'].loc[df['Attrition_Flag'] == 'Existing Customer'] = 0\n",
      "C:\\Users\\Mehmet\\AppData\\Local\\Temp\\ipykernel_9672\\3611951346.py:2: SettingWithCopyWarning: \n",
      "A value is trying to be set on a copy of a slice from a DataFrame\n",
      "\n",
      "See the caveats in the documentation: https://pandas.pydata.org/pandas-docs/stable/user_guide/indexing.html#returning-a-view-versus-a-copy\n",
      "  df['Attrition_Flag'].loc[df['Attrition_Flag'] == 'Attrited Customer'] = 1\n"
     ]
    }
   ],
   "source": [
    "df['Attrition_Flag'].loc[df['Attrition_Flag'] == 'Existing Customer'] = 0\n",
    "df['Attrition_Flag'].loc[df['Attrition_Flag'] == 'Attrited Customer'] = 1"
   ]
  },
  {
   "cell_type": "code",
   "execution_count": 8,
   "id": "6e4adff5-a9ff-4dc0-8f08-bae2aa1ad051",
   "metadata": {},
   "outputs": [
    {
     "data": {
      "text/html": [
       "<div>\n",
       "<style scoped>\n",
       "    .dataframe tbody tr th:only-of-type {\n",
       "        vertical-align: middle;\n",
       "    }\n",
       "\n",
       "    .dataframe tbody tr th {\n",
       "        vertical-align: top;\n",
       "    }\n",
       "\n",
       "    .dataframe thead th {\n",
       "        text-align: right;\n",
       "    }\n",
       "</style>\n",
       "<table border=\"1\" class=\"dataframe\">\n",
       "  <thead>\n",
       "    <tr style=\"text-align: right;\">\n",
       "      <th></th>\n",
       "      <th>Attrition_Flag</th>\n",
       "      <th>Customer_Age</th>\n",
       "      <th>Gender</th>\n",
       "      <th>Dependent_count</th>\n",
       "      <th>Education_Level</th>\n",
       "      <th>Marital_Status</th>\n",
       "      <th>Income_Category</th>\n",
       "      <th>Card_Category</th>\n",
       "      <th>Months_on_book</th>\n",
       "      <th>Total_Relationship_Count</th>\n",
       "      <th>Months_Inactive_12_mon</th>\n",
       "      <th>Contacts_Count_12_mon</th>\n",
       "      <th>Credit_Limit</th>\n",
       "      <th>Total_Revolving_Bal</th>\n",
       "      <th>Total_Amt_Chng_Q4_Q1</th>\n",
       "      <th>Total_Trans_Amt</th>\n",
       "      <th>Total_Trans_Ct</th>\n",
       "      <th>Total_Ct_Chng_Q4_Q1</th>\n",
       "      <th>Avg_Utilization_Ratio</th>\n",
       "    </tr>\n",
       "  </thead>\n",
       "  <tbody>\n",
       "    <tr>\n",
       "      <th>0</th>\n",
       "      <td>0</td>\n",
       "      <td>45</td>\n",
       "      <td>M</td>\n",
       "      <td>3</td>\n",
       "      <td>High School</td>\n",
       "      <td>Married</td>\n",
       "      <td>$60K - $80K</td>\n",
       "      <td>Blue</td>\n",
       "      <td>39</td>\n",
       "      <td>5</td>\n",
       "      <td>1</td>\n",
       "      <td>3</td>\n",
       "      <td>12691.0</td>\n",
       "      <td>777</td>\n",
       "      <td>1.335</td>\n",
       "      <td>1144</td>\n",
       "      <td>42</td>\n",
       "      <td>1.625</td>\n",
       "      <td>0.061</td>\n",
       "    </tr>\n",
       "    <tr>\n",
       "      <th>1</th>\n",
       "      <td>0</td>\n",
       "      <td>49</td>\n",
       "      <td>F</td>\n",
       "      <td>5</td>\n",
       "      <td>Graduate</td>\n",
       "      <td>Single</td>\n",
       "      <td>Less than $40K</td>\n",
       "      <td>Blue</td>\n",
       "      <td>44</td>\n",
       "      <td>6</td>\n",
       "      <td>1</td>\n",
       "      <td>2</td>\n",
       "      <td>8256.0</td>\n",
       "      <td>864</td>\n",
       "      <td>1.541</td>\n",
       "      <td>1291</td>\n",
       "      <td>33</td>\n",
       "      <td>3.714</td>\n",
       "      <td>0.105</td>\n",
       "    </tr>\n",
       "    <tr>\n",
       "      <th>2</th>\n",
       "      <td>0</td>\n",
       "      <td>51</td>\n",
       "      <td>M</td>\n",
       "      <td>3</td>\n",
       "      <td>Graduate</td>\n",
       "      <td>Married</td>\n",
       "      <td>$80K - $120K</td>\n",
       "      <td>Blue</td>\n",
       "      <td>36</td>\n",
       "      <td>4</td>\n",
       "      <td>1</td>\n",
       "      <td>0</td>\n",
       "      <td>3418.0</td>\n",
       "      <td>0</td>\n",
       "      <td>2.594</td>\n",
       "      <td>1887</td>\n",
       "      <td>20</td>\n",
       "      <td>2.333</td>\n",
       "      <td>0.000</td>\n",
       "    </tr>\n",
       "    <tr>\n",
       "      <th>3</th>\n",
       "      <td>0</td>\n",
       "      <td>40</td>\n",
       "      <td>F</td>\n",
       "      <td>4</td>\n",
       "      <td>High School</td>\n",
       "      <td>Unknown</td>\n",
       "      <td>Less than $40K</td>\n",
       "      <td>Blue</td>\n",
       "      <td>34</td>\n",
       "      <td>3</td>\n",
       "      <td>4</td>\n",
       "      <td>1</td>\n",
       "      <td>3313.0</td>\n",
       "      <td>2517</td>\n",
       "      <td>1.405</td>\n",
       "      <td>1171</td>\n",
       "      <td>20</td>\n",
       "      <td>2.333</td>\n",
       "      <td>0.760</td>\n",
       "    </tr>\n",
       "    <tr>\n",
       "      <th>4</th>\n",
       "      <td>0</td>\n",
       "      <td>40</td>\n",
       "      <td>M</td>\n",
       "      <td>3</td>\n",
       "      <td>Uneducated</td>\n",
       "      <td>Married</td>\n",
       "      <td>$60K - $80K</td>\n",
       "      <td>Blue</td>\n",
       "      <td>21</td>\n",
       "      <td>5</td>\n",
       "      <td>1</td>\n",
       "      <td>0</td>\n",
       "      <td>4716.0</td>\n",
       "      <td>0</td>\n",
       "      <td>2.175</td>\n",
       "      <td>816</td>\n",
       "      <td>28</td>\n",
       "      <td>2.500</td>\n",
       "      <td>0.000</td>\n",
       "    </tr>\n",
       "  </tbody>\n",
       "</table>\n",
       "</div>"
      ],
      "text/plain": [
       "  Attrition_Flag  Customer_Age Gender  Dependent_count Education_Level  \\\n",
       "0              0            45      M                3     High School   \n",
       "1              0            49      F                5        Graduate   \n",
       "2              0            51      M                3        Graduate   \n",
       "3              0            40      F                4     High School   \n",
       "4              0            40      M                3      Uneducated   \n",
       "\n",
       "  Marital_Status Income_Category Card_Category  Months_on_book  \\\n",
       "0        Married     $60K - $80K          Blue              39   \n",
       "1         Single  Less than $40K          Blue              44   \n",
       "2        Married    $80K - $120K          Blue              36   \n",
       "3        Unknown  Less than $40K          Blue              34   \n",
       "4        Married     $60K - $80K          Blue              21   \n",
       "\n",
       "   Total_Relationship_Count  Months_Inactive_12_mon  Contacts_Count_12_mon  \\\n",
       "0                         5                       1                      3   \n",
       "1                         6                       1                      2   \n",
       "2                         4                       1                      0   \n",
       "3                         3                       4                      1   \n",
       "4                         5                       1                      0   \n",
       "\n",
       "   Credit_Limit  Total_Revolving_Bal  Total_Amt_Chng_Q4_Q1  Total_Trans_Amt  \\\n",
       "0       12691.0                  777                 1.335             1144   \n",
       "1        8256.0                  864                 1.541             1291   \n",
       "2        3418.0                    0                 2.594             1887   \n",
       "3        3313.0                 2517                 1.405             1171   \n",
       "4        4716.0                    0                 2.175              816   \n",
       "\n",
       "   Total_Trans_Ct  Total_Ct_Chng_Q4_Q1  Avg_Utilization_Ratio  \n",
       "0              42                1.625                  0.061  \n",
       "1              33                3.714                  0.105  \n",
       "2              20                2.333                  0.000  \n",
       "3              20                2.333                  0.760  \n",
       "4              28                2.500                  0.000  "
      ]
     },
     "execution_count": 8,
     "metadata": {},
     "output_type": "execute_result"
    }
   ],
   "source": [
    "df.head()"
   ]
  },
  {
   "cell_type": "code",
   "execution_count": 9,
   "id": "1cb38dd6-d739-4331-9476-ac0ffe89951c",
   "metadata": {},
   "outputs": [],
   "source": [
    "df[\"Attrition_Flag\"]=df[\"Attrition_Flag\"].astype(\"int32\")"
   ]
  },
  {
   "cell_type": "code",
   "execution_count": 10,
   "id": "f1fa45de-2cd3-4dea-9ead-36d7aac1adcc",
   "metadata": {},
   "outputs": [
    {
     "name": "stdout",
     "output_type": "stream",
     "text": [
      "<class 'pandas.core.frame.DataFrame'>\n",
      "RangeIndex: 10127 entries, 0 to 10126\n",
      "Data columns (total 19 columns):\n",
      " #   Column                    Non-Null Count  Dtype  \n",
      "---  ------                    --------------  -----  \n",
      " 0   Attrition_Flag            10127 non-null  int32  \n",
      " 1   Customer_Age              10127 non-null  int64  \n",
      " 2   Gender                    10127 non-null  object \n",
      " 3   Dependent_count           10127 non-null  int64  \n",
      " 4   Education_Level           10127 non-null  object \n",
      " 5   Marital_Status            10127 non-null  object \n",
      " 6   Income_Category           10127 non-null  object \n",
      " 7   Card_Category             10127 non-null  object \n",
      " 8   Months_on_book            10127 non-null  int64  \n",
      " 9   Total_Relationship_Count  10127 non-null  int64  \n",
      " 10  Months_Inactive_12_mon    10127 non-null  int64  \n",
      " 11  Contacts_Count_12_mon     10127 non-null  int64  \n",
      " 12  Credit_Limit              10127 non-null  float64\n",
      " 13  Total_Revolving_Bal       10127 non-null  int64  \n",
      " 14  Total_Amt_Chng_Q4_Q1      10127 non-null  float64\n",
      " 15  Total_Trans_Amt           10127 non-null  int64  \n",
      " 16  Total_Trans_Ct            10127 non-null  int64  \n",
      " 17  Total_Ct_Chng_Q4_Q1       10127 non-null  float64\n",
      " 18  Avg_Utilization_Ratio     10127 non-null  float64\n",
      "dtypes: float64(4), int32(1), int64(9), object(5)\n",
      "memory usage: 1.4+ MB\n"
     ]
    }
   ],
   "source": [
    "df.info()"
   ]
  },
  {
   "cell_type": "code",
   "execution_count": 11,
   "id": "be684464-2956-4366-89fa-8f72b71e7ac8",
   "metadata": {},
   "outputs": [
    {
     "data": {
      "text/plain": [
       "Attrition_Flag              False\n",
       "Customer_Age                False\n",
       "Gender                      False\n",
       "Dependent_count             False\n",
       "Education_Level             False\n",
       "Marital_Status              False\n",
       "Income_Category             False\n",
       "Card_Category               False\n",
       "Months_on_book              False\n",
       "Total_Relationship_Count    False\n",
       "Months_Inactive_12_mon      False\n",
       "Contacts_Count_12_mon       False\n",
       "Credit_Limit                False\n",
       "Total_Revolving_Bal         False\n",
       "Total_Amt_Chng_Q4_Q1        False\n",
       "Total_Trans_Amt             False\n",
       "Total_Trans_Ct              False\n",
       "Total_Ct_Chng_Q4_Q1         False\n",
       "Avg_Utilization_Ratio       False\n",
       "dtype: bool"
      ]
     },
     "execution_count": 11,
     "metadata": {},
     "output_type": "execute_result"
    }
   ],
   "source": [
    "df.isnull().any()"
   ]
  },
  {
   "cell_type": "code",
   "execution_count": 12,
   "id": "a1159d11-930c-4f94-853d-c6b7ae33132f",
   "metadata": {},
   "outputs": [
    {
     "data": {
      "text/plain": [
       "0"
      ]
     },
     "execution_count": 12,
     "metadata": {},
     "output_type": "execute_result"
    }
   ],
   "source": [
    "df.duplicated().sum()"
   ]
  },
  {
   "cell_type": "code",
   "execution_count": 13,
   "id": "c428c237-742d-4dfc-90d6-831c55dcd757",
   "metadata": {},
   "outputs": [],
   "source": [
    "df.rename(columns = {'Attrition_Flag':'Churned',}, inplace = True)"
   ]
  },
  {
   "cell_type": "code",
   "execution_count": 14,
   "id": "58aa3f88-a3ca-47ec-bf3d-3e90182d513c",
   "metadata": {},
   "outputs": [
    {
     "data": {
      "text/html": [
       "<div>\n",
       "<style scoped>\n",
       "    .dataframe tbody tr th:only-of-type {\n",
       "        vertical-align: middle;\n",
       "    }\n",
       "\n",
       "    .dataframe tbody tr th {\n",
       "        vertical-align: top;\n",
       "    }\n",
       "\n",
       "    .dataframe thead th {\n",
       "        text-align: right;\n",
       "    }\n",
       "</style>\n",
       "<table border=\"1\" class=\"dataframe\">\n",
       "  <thead>\n",
       "    <tr style=\"text-align: right;\">\n",
       "      <th></th>\n",
       "      <th>Churned</th>\n",
       "      <th>Customer_Age</th>\n",
       "      <th>Gender</th>\n",
       "      <th>Dependent_count</th>\n",
       "      <th>Education_Level</th>\n",
       "      <th>Marital_Status</th>\n",
       "      <th>Income_Category</th>\n",
       "      <th>Card_Category</th>\n",
       "      <th>Months_on_book</th>\n",
       "      <th>Total_Relationship_Count</th>\n",
       "      <th>Months_Inactive_12_mon</th>\n",
       "      <th>Contacts_Count_12_mon</th>\n",
       "      <th>Credit_Limit</th>\n",
       "      <th>Total_Revolving_Bal</th>\n",
       "      <th>Total_Amt_Chng_Q4_Q1</th>\n",
       "      <th>Total_Trans_Amt</th>\n",
       "      <th>Total_Trans_Ct</th>\n",
       "      <th>Total_Ct_Chng_Q4_Q1</th>\n",
       "      <th>Avg_Utilization_Ratio</th>\n",
       "    </tr>\n",
       "  </thead>\n",
       "  <tbody>\n",
       "    <tr>\n",
       "      <th>0</th>\n",
       "      <td>0</td>\n",
       "      <td>45</td>\n",
       "      <td>M</td>\n",
       "      <td>3</td>\n",
       "      <td>High School</td>\n",
       "      <td>Married</td>\n",
       "      <td>$60K - $80K</td>\n",
       "      <td>Blue</td>\n",
       "      <td>39</td>\n",
       "      <td>5</td>\n",
       "      <td>1</td>\n",
       "      <td>3</td>\n",
       "      <td>12691.0</td>\n",
       "      <td>777</td>\n",
       "      <td>1.335</td>\n",
       "      <td>1144</td>\n",
       "      <td>42</td>\n",
       "      <td>1.625</td>\n",
       "      <td>0.061</td>\n",
       "    </tr>\n",
       "    <tr>\n",
       "      <th>1</th>\n",
       "      <td>0</td>\n",
       "      <td>49</td>\n",
       "      <td>F</td>\n",
       "      <td>5</td>\n",
       "      <td>Graduate</td>\n",
       "      <td>Single</td>\n",
       "      <td>Less than $40K</td>\n",
       "      <td>Blue</td>\n",
       "      <td>44</td>\n",
       "      <td>6</td>\n",
       "      <td>1</td>\n",
       "      <td>2</td>\n",
       "      <td>8256.0</td>\n",
       "      <td>864</td>\n",
       "      <td>1.541</td>\n",
       "      <td>1291</td>\n",
       "      <td>33</td>\n",
       "      <td>3.714</td>\n",
       "      <td>0.105</td>\n",
       "    </tr>\n",
       "    <tr>\n",
       "      <th>2</th>\n",
       "      <td>0</td>\n",
       "      <td>51</td>\n",
       "      <td>M</td>\n",
       "      <td>3</td>\n",
       "      <td>Graduate</td>\n",
       "      <td>Married</td>\n",
       "      <td>$80K - $120K</td>\n",
       "      <td>Blue</td>\n",
       "      <td>36</td>\n",
       "      <td>4</td>\n",
       "      <td>1</td>\n",
       "      <td>0</td>\n",
       "      <td>3418.0</td>\n",
       "      <td>0</td>\n",
       "      <td>2.594</td>\n",
       "      <td>1887</td>\n",
       "      <td>20</td>\n",
       "      <td>2.333</td>\n",
       "      <td>0.000</td>\n",
       "    </tr>\n",
       "    <tr>\n",
       "      <th>3</th>\n",
       "      <td>0</td>\n",
       "      <td>40</td>\n",
       "      <td>F</td>\n",
       "      <td>4</td>\n",
       "      <td>High School</td>\n",
       "      <td>Unknown</td>\n",
       "      <td>Less than $40K</td>\n",
       "      <td>Blue</td>\n",
       "      <td>34</td>\n",
       "      <td>3</td>\n",
       "      <td>4</td>\n",
       "      <td>1</td>\n",
       "      <td>3313.0</td>\n",
       "      <td>2517</td>\n",
       "      <td>1.405</td>\n",
       "      <td>1171</td>\n",
       "      <td>20</td>\n",
       "      <td>2.333</td>\n",
       "      <td>0.760</td>\n",
       "    </tr>\n",
       "    <tr>\n",
       "      <th>4</th>\n",
       "      <td>0</td>\n",
       "      <td>40</td>\n",
       "      <td>M</td>\n",
       "      <td>3</td>\n",
       "      <td>Uneducated</td>\n",
       "      <td>Married</td>\n",
       "      <td>$60K - $80K</td>\n",
       "      <td>Blue</td>\n",
       "      <td>21</td>\n",
       "      <td>5</td>\n",
       "      <td>1</td>\n",
       "      <td>0</td>\n",
       "      <td>4716.0</td>\n",
       "      <td>0</td>\n",
       "      <td>2.175</td>\n",
       "      <td>816</td>\n",
       "      <td>28</td>\n",
       "      <td>2.500</td>\n",
       "      <td>0.000</td>\n",
       "    </tr>\n",
       "  </tbody>\n",
       "</table>\n",
       "</div>"
      ],
      "text/plain": [
       "   Churned  Customer_Age Gender  Dependent_count Education_Level  \\\n",
       "0        0            45      M                3     High School   \n",
       "1        0            49      F                5        Graduate   \n",
       "2        0            51      M                3        Graduate   \n",
       "3        0            40      F                4     High School   \n",
       "4        0            40      M                3      Uneducated   \n",
       "\n",
       "  Marital_Status Income_Category Card_Category  Months_on_book  \\\n",
       "0        Married     $60K - $80K          Blue              39   \n",
       "1         Single  Less than $40K          Blue              44   \n",
       "2        Married    $80K - $120K          Blue              36   \n",
       "3        Unknown  Less than $40K          Blue              34   \n",
       "4        Married     $60K - $80K          Blue              21   \n",
       "\n",
       "   Total_Relationship_Count  Months_Inactive_12_mon  Contacts_Count_12_mon  \\\n",
       "0                         5                       1                      3   \n",
       "1                         6                       1                      2   \n",
       "2                         4                       1                      0   \n",
       "3                         3                       4                      1   \n",
       "4                         5                       1                      0   \n",
       "\n",
       "   Credit_Limit  Total_Revolving_Bal  Total_Amt_Chng_Q4_Q1  Total_Trans_Amt  \\\n",
       "0       12691.0                  777                 1.335             1144   \n",
       "1        8256.0                  864                 1.541             1291   \n",
       "2        3418.0                    0                 2.594             1887   \n",
       "3        3313.0                 2517                 1.405             1171   \n",
       "4        4716.0                    0                 2.175              816   \n",
       "\n",
       "   Total_Trans_Ct  Total_Ct_Chng_Q4_Q1  Avg_Utilization_Ratio  \n",
       "0              42                1.625                  0.061  \n",
       "1              33                3.714                  0.105  \n",
       "2              20                2.333                  0.000  \n",
       "3              20                2.333                  0.760  \n",
       "4              28                2.500                  0.000  "
      ]
     },
     "execution_count": 14,
     "metadata": {},
     "output_type": "execute_result"
    }
   ],
   "source": [
    "df.head()"
   ]
  },
  {
   "cell_type": "markdown",
   "id": "c73d3735-fe08-4816-a2ba-8fff657c0581",
   "metadata": {
    "tags": []
   },
   "source": [
    "## Statistical Overview"
   ]
  },
  {
   "cell_type": "code",
   "execution_count": 15,
   "id": "9477cdae-b2d7-44f0-9172-807d28756563",
   "metadata": {},
   "outputs": [
    {
     "name": "stderr",
     "output_type": "stream",
     "text": [
      "C:\\Users\\Mehmet\\anaconda3\\lib\\site-packages\\seaborn\\distributions.py:2619: FutureWarning: `distplot` is a deprecated function and will be removed in a future version. Please adapt your code to use either `displot` (a figure-level function with similar flexibility) or `histplot` (an axes-level function for histograms).\n",
      "  warnings.warn(msg, FutureWarning)\n"
     ]
    },
    {
     "data": {
      "text/plain": [
       "<AxesSubplot:xlabel='Customer_Age', ylabel='Density'>"
      ]
     },
     "execution_count": 15,
     "metadata": {},
     "output_type": "execute_result"
    },
    {
     "data": {
      "image/png": "[encoded data removed]",
      "text/plain": [
       "<Figure size 432x288 with 1 Axes>"
      ]
     },
     "metadata": {
      "needs_background": "light"
     },
     "output_type": "display_data"
    }
   ],
   "source": [
    "sns.distplot(df['Customer_Age'], color=\"Blue\")"
   ]
  },
  {
   "cell_type": "code",
   "execution_count": 16,
   "id": "265d8a45-b0a8-4536-b167-e2850246c074",
   "metadata": {},
   "outputs": [
    {
     "name": "stderr",
     "output_type": "stream",
     "text": [
      "C:\\Users\\Mehmet\\anaconda3\\lib\\site-packages\\seaborn\\_decorators.py:36: FutureWarning: Pass the following variable as a keyword arg: x. From version 0.12, the only valid positional argument will be `data`, and passing other arguments without an explicit keyword will result in an error or misinterpretation.\n",
      "  warnings.warn(\n"
     ]
    },
    {
     "data": {
      "text/plain": [
       "<AxesSubplot:xlabel='Gender', ylabel='count'>"
      ]
     },
     "execution_count": 16,
     "metadata": {},
     "output_type": "execute_result"
    },
    {
     "data": {
      "image/png": "[encoded data removed]",
      "text/plain": [
       "<Figure size 432x288 with 1 Axes>"
      ]
     },
     "metadata": {
      "needs_background": "light"
     },
     "output_type": "display_data"
    }
   ],
   "source": [
    "sns.countplot(df['Gender'], palette='dark')"
   ]
  },
  {
   "cell_type": "code",
   "execution_count": 17,
   "id": "82b622ec-2ef0-46ed-898b-426653db26c3",
   "metadata": {},
   "outputs": [
    {
     "name": "stderr",
     "output_type": "stream",
     "text": [
      "C:\\Users\\Mehmet\\anaconda3\\lib\\site-packages\\seaborn\\_decorators.py:36: FutureWarning: Pass the following variable as a keyword arg: x. From version 0.12, the only valid positional argument will be `data`, and passing other arguments without an explicit keyword will result in an error or misinterpretation.\n",
      "  warnings.warn(\n",
      "C:\\Users\\Mehmet\\anaconda3\\lib\\site-packages\\seaborn\\_decorators.py:36: FutureWarning: Pass the following variable as a keyword arg: x. From version 0.12, the only valid positional argument will be `data`, and passing other arguments without an explicit keyword will result in an error or misinterpretation.\n",
      "  warnings.warn(\n"
     ]
    },
    {
     "data": {
      "image/png": "[encoded data removed]",
      "text/plain": [
       "<Figure size 432x288 with 2 Axes>"
      ]
     },
     "metadata": {
      "needs_background": "light"
     },
     "output_type": "display_data"
    }
   ],
   "source": [
    "pic1= df[df[\"Churned\"]==1]\n",
    "pic0= df[df[\"Churned\"]==0]\n",
    "r= plt.subplot2grid((1,2),(0,0))\n",
    "sns.countplot(pic0[\"Gender\"], palette= \"dark\")\n",
    "plt.title(\"NOT CHURNED\", fontsize= 10, weight= \"bold\")\n",
    "#plt.show()\n",
    "r= plt.subplot2grid((1,2),(0,1))\n",
    "sns.countplot(pic1[\"Gender\"], palette= \"dark\")\n",
    "plt.title(\"CHURNED\", fontsize= 10, weight= \"bold\")\n",
    "plt.show()"
   ]
  },
  {
   "cell_type": "code",
   "execution_count": 18,
   "id": "9ad68c91-4daa-483e-ac84-8f0f75c89d4d",
   "metadata": {},
   "outputs": [
    {
     "name": "stderr",
     "output_type": "stream",
     "text": [
      "C:\\Users\\Mehmet\\anaconda3\\lib\\site-packages\\seaborn\\_decorators.py:36: FutureWarning: Pass the following variable as a keyword arg: x. From version 0.12, the only valid positional argument will be `data`, and passing other arguments without an explicit keyword will result in an error or misinterpretation.\n",
      "  warnings.warn(\n"
     ]
    },
    {
     "data": {
      "text/plain": [
       "<AxesSubplot:xlabel='Education_Level', ylabel='count'>"
      ]
     },
     "execution_count": 18,
     "metadata": {},
     "output_type": "execute_result"
    },
    {
     "data": {
      "image/png": "[encoded data removed]",
      "text/plain": [
       "<Figure size 576x432 with 1 Axes>"
      ]
     },
     "metadata": {
      "needs_background": "light"
     },
     "output_type": "display_data"
    }
   ],
   "source": [
    "plt.figure(figsize=(8,6))\n",
    "sns.countplot(df['Education_Level'], palette='Paired')"
   ]
  },
  {
   "cell_type": "code",
   "execution_count": 19,
   "id": "bc02ccb9-6d7e-4372-87db-ed4357d4e447",
   "metadata": {},
   "outputs": [
    {
     "name": "stderr",
     "output_type": "stream",
     "text": [
      "C:\\Users\\Mehmet\\anaconda3\\lib\\site-packages\\seaborn\\_decorators.py:36: FutureWarning: Pass the following variable as a keyword arg: x. From version 0.12, the only valid positional argument will be `data`, and passing other arguments without an explicit keyword will result in an error or misinterpretation.\n",
      "  warnings.warn(\n",
      "C:\\Users\\Mehmet\\anaconda3\\lib\\site-packages\\seaborn\\_decorators.py:36: FutureWarning: Pass the following variable as a keyword arg: x. From version 0.12, the only valid positional argument will be `data`, and passing other arguments without an explicit keyword will result in an error or misinterpretation.\n",
      "  warnings.warn(\n"
     ]
    },
    {
     "data": {
      "image/png": "[encoded data removed]",
      "text/plain": [
       "<Figure size 1440x576 with 2 Axes>"
      ]
     },
     "metadata": {
      "needs_background": "light"
     },
     "output_type": "display_data"
    }
   ],
   "source": [
    "plt.figure(figsize=(20,8))\n",
    "pic1= df[df[\"Churned\"]==1]\n",
    "pic0= df[df[\"Churned\"]==0]\n",
    "r= plt.subplot2grid((1,2),(0,0))\n",
    "sns.countplot(pic0[\"Education_Level\"], palette= \"Paired\")\n",
    "plt.title(\"NOT CHURNED\", fontsize= 10, weight= \"bold\")\n",
    "#plt.show()\n",
    "r= plt.subplot2grid((1,2),(0,1))\n",
    "sns.countplot(pic1[\"Education_Level\"], palette= \"Paired\")\n",
    "plt.title(\"CHURNED\", fontsize= 10, weight= \"bold\")\n",
    "plt.show()"
   ]
  },
  {
   "cell_type": "code",
   "execution_count": 20,
   "id": "995dc122-8f58-40b2-a244-0229cd06d0f6",
   "metadata": {},
   "outputs": [
    {
     "name": "stderr",
     "output_type": "stream",
     "text": [
      "C:\\Users\\Mehmet\\anaconda3\\lib\\site-packages\\seaborn\\_decorators.py:36: FutureWarning: Pass the following variable as a keyword arg: x. From version 0.12, the only valid positional argument will be `data`, and passing other arguments without an explicit keyword will result in an error or misinterpretation.\n",
      "  warnings.warn(\n"
     ]
    },
    {
     "data": {
      "text/plain": [
       "<AxesSubplot:xlabel='Marital_Status', ylabel='count'>"
      ]
     },
     "execution_count": 20,
     "metadata": {},
     "output_type": "execute_result"
    },
    {
     "data": {
      "image/png": "[encoded data removed]",
      "text/plain": [
       "<Figure size 432x288 with 1 Axes>"
      ]
     },
     "metadata": {
      "needs_background": "light"
     },
     "output_type": "display_data"
    }
   ],
   "source": [
    "sns.countplot(df['Marital_Status'], palette='Set2')"
   ]
  },
  {
   "cell_type": "code",
   "execution_count": 21,
   "id": "f947951e-5926-4c1e-aa70-6f85043f1507",
   "metadata": {},
   "outputs": [
    {
     "name": "stderr",
     "output_type": "stream",
     "text": [
      "C:\\Users\\Mehmet\\anaconda3\\lib\\site-packages\\seaborn\\_decorators.py:36: FutureWarning: Pass the following variable as a keyword arg: x. From version 0.12, the only valid positional argument will be `data`, and passing other arguments without an explicit keyword will result in an error or misinterpretation.\n",
      "  warnings.warn(\n",
      "C:\\Users\\Mehmet\\anaconda3\\lib\\site-packages\\seaborn\\_decorators.py:36: FutureWarning: Pass the following variable as a keyword arg: x. From version 0.12, the only valid positional argument will be `data`, and passing other arguments without an explicit keyword will result in an error or misinterpretation.\n",
      "  warnings.warn(\n"
     ]
    },
    {
     "data": {
      "image/png": "[encoded data removed]",
      "text/plain": [
       "<Figure size 1152x576 with 2 Axes>"
      ]
     },
     "metadata": {
      "needs_background": "light"
     },
     "output_type": "display_data"
    }
   ],
   "source": [
    "plt.figure(figsize=(16,8))\n",
    "pic1= df[df[\"Churned\"]==1]\n",
    "pic0= df[df[\"Churned\"]==0]\n",
    "r= plt.subplot2grid((1,2),(0,0))\n",
    "sns.countplot(pic0[\"Marital_Status\"], palette= \"Set2\")\n",
    "plt.title(\"NOT CHURNED\", fontsize= 10, weight= \"bold\")\n",
    "#plt.show()\n",
    "r= plt.subplot2grid((1,2),(0,1))\n",
    "sns.countplot(pic1[\"Marital_Status\"], palette= \"Set2\")\n",
    "plt.title(\"CHURNED\", fontsize= 10, weight= \"bold\")\n",
    "plt.show()"
   ]
  },
  {
   "cell_type": "code",
   "execution_count": 22,
   "id": "0cd3288b-db79-46c3-9e1c-8bf0cb1d1e48",
   "metadata": {},
   "outputs": [
    {
     "name": "stderr",
     "output_type": "stream",
     "text": [
      "C:\\Users\\Mehmet\\anaconda3\\lib\\site-packages\\seaborn\\_decorators.py:36: FutureWarning: Pass the following variable as a keyword arg: x. From version 0.12, the only valid positional argument will be `data`, and passing other arguments without an explicit keyword will result in an error or misinterpretation.\n",
      "  warnings.warn(\n"
     ]
    },
    {
     "data": {
      "text/plain": [
       "<AxesSubplot:xlabel='Income_Category', ylabel='count'>"
      ]
     },
     "execution_count": 22,
     "metadata": {},
     "output_type": "execute_result"
    },
    {
     "data": {
      "image/png": "[encoded data removed]",
      "text/plain": [
       "<Figure size 576x432 with 1 Axes>"
      ]
     },
     "metadata": {
      "needs_background": "light"
     },
     "output_type": "display_data"
    }
   ],
   "source": [
    "plt.figure(figsize=(8,6))\n",
    "sns.countplot(df['Income_Category'], palette='bright')"
   ]
  },
  {
   "cell_type": "code",
   "execution_count": 23,
   "id": "3fa0a809-2a5e-418a-86e2-7792c454f257",
   "metadata": {},
   "outputs": [
    {
     "name": "stderr",
     "output_type": "stream",
     "text": [
      "C:\\Users\\Mehmet\\anaconda3\\lib\\site-packages\\seaborn\\_decorators.py:36: FutureWarning: Pass the following variable as a keyword arg: x. From version 0.12, the only valid positional argument will be `data`, and passing other arguments without an explicit keyword will result in an error or misinterpretation.\n",
      "  warnings.warn(\n",
      "C:\\Users\\Mehmet\\anaconda3\\lib\\site-packages\\seaborn\\_decorators.py:36: FutureWarning: Pass the following variable as a keyword arg: x. From version 0.12, the only valid positional argument will be `data`, and passing other arguments without an explicit keyword will result in an error or misinterpretation.\n",
      "  warnings.warn(\n"
     ]
    },
    {
     "data": {
      "image/png": "[encoded data removed]",
      "text/plain": [
       "<Figure size 1152x576 with 2 Axes>"
      ]
     },
     "metadata": {
      "needs_background": "light"
     },
     "output_type": "display_data"
    }
   ],
   "source": [
    "plt.figure(figsize=(16,8))\n",
    "pic1= df[df[\"Churned\"]==1]\n",
    "pic0= df[df[\"Churned\"]==0]\n",
    "r= plt.subplot2grid((1,2),(0,0))\n",
    "sns.countplot(pic0[\"Income_Category\"], palette= \"bright\")\n",
    "plt.title(\"NOT CHURNED\", fontsize= 10, weight= \"bold\")\n",
    "#plt.show()\n",
    "r= plt.subplot2grid((1,2),(0,1))\n",
    "sns.countplot(pic1[\"Income_Category\"], palette= \"bright\")\n",
    "plt.title(\"CHURNED\", fontsize= 10, weight= \"bold\")\n",
    "plt.show()"
   ]
  },
  {
   "cell_type": "code",
   "execution_count": 24,
   "id": "152de8c6-9648-46ee-97e3-90b6e0b1e870",
   "metadata": {},
   "outputs": [
    {
     "name": "stderr",
     "output_type": "stream",
     "text": [
      "C:\\Users\\Mehmet\\anaconda3\\lib\\site-packages\\seaborn\\_decorators.py:36: FutureWarning: Pass the following variable as a keyword arg: x. From version 0.12, the only valid positional argument will be `data`, and passing other arguments without an explicit keyword will result in an error or misinterpretation.\n",
      "  warnings.warn(\n"
     ]
    },
    {
     "data": {
      "text/plain": [
       "<AxesSubplot:xlabel='Card_Category', ylabel='count'>"
      ]
     },
     "execution_count": 24,
     "metadata": {},
     "output_type": "execute_result"
    },
    {
     "data": {
      "image/png": "[encoded data removed]",
      "text/plain": [
       "<Figure size 576x432 with 1 Axes>"
      ]
     },
     "metadata": {
      "needs_background": "light"
     },
     "output_type": "display_data"
    }
   ],
   "source": [
    "plt.figure(figsize=(8,6))\n",
    "sns.countplot(df['Card_Category'], palette='bright')"
   ]
  },
  {
   "cell_type": "code",
   "execution_count": 25,
   "id": "a0b221ba-075d-4a50-8f9a-398a20b1cfcf",
   "metadata": {},
   "outputs": [
    {
     "name": "stderr",
     "output_type": "stream",
     "text": [
      "C:\\Users\\Mehmet\\anaconda3\\lib\\site-packages\\seaborn\\_decorators.py:36: FutureWarning: Pass the following variable as a keyword arg: x. From version 0.12, the only valid positional argument will be `data`, and passing other arguments without an explicit keyword will result in an error or misinterpretation.\n",
      "  warnings.warn(\n",
      "C:\\Users\\Mehmet\\anaconda3\\lib\\site-packages\\seaborn\\_decorators.py:36: FutureWarning: Pass the following variable as a keyword arg: x. From version 0.12, the only valid positional argument will be `data`, and passing other arguments without an explicit keyword will result in an error or misinterpretation.\n",
      "  warnings.warn(\n"
     ]
    },
    {
     "data": {
      "image/png": "[encoded data removed]",
      "text/plain": [
       "<Figure size 1152x576 with 2 Axes>"
      ]
     },
     "metadata": {
      "needs_background": "light"
     },
     "output_type": "display_data"
    }
   ],
   "source": [
    "plt.figure(figsize=(16,8))\n",
    "pic1= df[df[\"Churned\"]==1]\n",
    "pic0= df[df[\"Churned\"]==0]\n",
    "r= plt.subplot2grid((1,2),(0,0))\n",
    "sns.countplot(pic0[\"Card_Category\"], palette= \"YlOrRd\")\n",
    "plt.title(\"NOT CHURNED\", fontsize= 10, weight= \"bold\")\n",
    "#plt.show()\n",
    "r= plt.subplot2grid((1,2),(0,1))\n",
    "sns.countplot(pic1[\"Card_Category\"], palette= \"YlOrRd\")\n",
    "plt.title(\"CHURNED\", fontsize= 10, weight= \"bold\")\n",
    "plt.show()"
   ]
  },
  {
   "cell_type": "code",
   "execution_count": 26,
   "id": "ae05e32f-e329-4382-bf24-55f3910fb82b",
   "metadata": {},
   "outputs": [
    {
     "name": "stderr",
     "output_type": "stream",
     "text": [
      "C:\\Users\\Mehmet\\anaconda3\\lib\\site-packages\\seaborn\\distributions.py:2619: FutureWarning: `distplot` is a deprecated function and will be removed in a future version. Please adapt your code to use either `displot` (a figure-level function with similar flexibility) or `histplot` (an axes-level function for histograms).\n",
      "  warnings.warn(msg, FutureWarning)\n"
     ]
    },
    {
     "data": {
      "text/plain": [
       "<AxesSubplot:xlabel='Credit_Limit', ylabel='Density'>"
      ]
     },
     "execution_count": 26,
     "metadata": {},
     "output_type": "execute_result"
    },
    {
     "data": {
      "image/png": "[encoded data removed]",
      "text/plain": [
       "<Figure size 432x288 with 1 Axes>"
      ]
     },
     "metadata": {
      "needs_background": "light"
     },
     "output_type": "display_data"
    }
   ],
   "source": [
    "sns.distplot(df['Credit_Limit'], color=\"Green\")"
   ]
  },
  {
   "cell_type": "code",
   "execution_count": 27,
   "id": "5af293e8-e337-453b-8d6c-fc4addf664c7",
   "metadata": {},
   "outputs": [
    {
     "data": {
      "text/plain": [
       "(10127, 19)"
      ]
     },
     "execution_count": 27,
     "metadata": {},
     "output_type": "execute_result"
    }
   ],
   "source": [
    "df.shape"
   ]
  },
  {
   "cell_type": "code",
   "execution_count": 28,
   "id": "71734baf-a6a9-49bd-9535-a3def3deeb35",
   "metadata": {},
   "outputs": [
    {
     "name": "stdout",
     "output_type": "stream",
     "text": [
      " Leaving and non-leaving customer rates:\n",
      "\n",
      " 0.1606596227905599 \n",
      " 0.8393403772094401\n"
     ]
    }
   ],
   "source": [
    "churn_rate = df.Churned.value_counts() / len(df)\n",
    "print(\" Leaving and non-leaving customer rates:\\n\\n\",churn_rate[1],\"\\n\",churn_rate[0])"
   ]
  },
  {
   "cell_type": "code",
   "execution_count": 29,
   "id": "ecb3f135-f3b5-4729-9476-7942880eb720",
   "metadata": {},
   "outputs": [
    {
     "data": {
      "text/html": [
       "<div>\n",
       "<style scoped>\n",
       "    .dataframe tbody tr th:only-of-type {\n",
       "        vertical-align: middle;\n",
       "    }\n",
       "\n",
       "    .dataframe tbody tr th {\n",
       "        vertical-align: top;\n",
       "    }\n",
       "\n",
       "    .dataframe thead th {\n",
       "        text-align: right;\n",
       "    }\n",
       "</style>\n",
       "<table border=\"1\" class=\"dataframe\">\n",
       "  <thead>\n",
       "    <tr style=\"text-align: right;\">\n",
       "      <th></th>\n",
       "      <th>count</th>\n",
       "      <th>mean</th>\n",
       "      <th>std</th>\n",
       "      <th>min</th>\n",
       "      <th>25%</th>\n",
       "      <th>50%</th>\n",
       "      <th>75%</th>\n",
       "      <th>max</th>\n",
       "    </tr>\n",
       "  </thead>\n",
       "  <tbody>\n",
       "    <tr>\n",
       "      <th>Churned</th>\n",
       "      <td>10127.0</td>\n",
       "      <td>0.160660</td>\n",
       "      <td>0.367235</td>\n",
       "      <td>0.0</td>\n",
       "      <td>0.000</td>\n",
       "      <td>0.000</td>\n",
       "      <td>0.000</td>\n",
       "      <td>1.000</td>\n",
       "    </tr>\n",
       "    <tr>\n",
       "      <th>Customer_Age</th>\n",
       "      <td>10127.0</td>\n",
       "      <td>46.325960</td>\n",
       "      <td>8.016814</td>\n",
       "      <td>26.0</td>\n",
       "      <td>41.000</td>\n",
       "      <td>46.000</td>\n",
       "      <td>52.000</td>\n",
       "      <td>73.000</td>\n",
       "    </tr>\n",
       "    <tr>\n",
       "      <th>Dependent_count</th>\n",
       "      <td>10127.0</td>\n",
       "      <td>2.346203</td>\n",
       "      <td>1.298908</td>\n",
       "      <td>0.0</td>\n",
       "      <td>1.000</td>\n",
       "      <td>2.000</td>\n",
       "      <td>3.000</td>\n",
       "      <td>5.000</td>\n",
       "    </tr>\n",
       "    <tr>\n",
       "      <th>Months_on_book</th>\n",
       "      <td>10127.0</td>\n",
       "      <td>35.928409</td>\n",
       "      <td>7.986416</td>\n",
       "      <td>13.0</td>\n",
       "      <td>31.000</td>\n",
       "      <td>36.000</td>\n",
       "      <td>40.000</td>\n",
       "      <td>56.000</td>\n",
       "    </tr>\n",
       "    <tr>\n",
       "      <th>Total_Relationship_Count</th>\n",
       "      <td>10127.0</td>\n",
       "      <td>3.812580</td>\n",
       "      <td>1.554408</td>\n",
       "      <td>1.0</td>\n",
       "      <td>3.000</td>\n",
       "      <td>4.000</td>\n",
       "      <td>5.000</td>\n",
       "      <td>6.000</td>\n",
       "    </tr>\n",
       "    <tr>\n",
       "      <th>Months_Inactive_12_mon</th>\n",
       "      <td>10127.0</td>\n",
       "      <td>2.341167</td>\n",
       "      <td>1.010622</td>\n",
       "      <td>0.0</td>\n",
       "      <td>2.000</td>\n",
       "      <td>2.000</td>\n",
       "      <td>3.000</td>\n",
       "      <td>6.000</td>\n",
       "    </tr>\n",
       "    <tr>\n",
       "      <th>Contacts_Count_12_mon</th>\n",
       "      <td>10127.0</td>\n",
       "      <td>2.455317</td>\n",
       "      <td>1.106225</td>\n",
       "      <td>0.0</td>\n",
       "      <td>2.000</td>\n",
       "      <td>2.000</td>\n",
       "      <td>3.000</td>\n",
       "      <td>6.000</td>\n",
       "    </tr>\n",
       "    <tr>\n",
       "      <th>Credit_Limit</th>\n",
       "      <td>10127.0</td>\n",
       "      <td>8631.953698</td>\n",
       "      <td>9088.776650</td>\n",
       "      <td>1438.3</td>\n",
       "      <td>2555.000</td>\n",
       "      <td>4549.000</td>\n",
       "      <td>11067.500</td>\n",
       "      <td>34516.000</td>\n",
       "    </tr>\n",
       "    <tr>\n",
       "      <th>Total_Revolving_Bal</th>\n",
       "      <td>10127.0</td>\n",
       "      <td>1162.814061</td>\n",
       "      <td>814.987335</td>\n",
       "      <td>0.0</td>\n",
       "      <td>359.000</td>\n",
       "      <td>1276.000</td>\n",
       "      <td>1784.000</td>\n",
       "      <td>2517.000</td>\n",
       "    </tr>\n",
       "    <tr>\n",
       "      <th>Total_Amt_Chng_Q4_Q1</th>\n",
       "      <td>10127.0</td>\n",
       "      <td>0.759941</td>\n",
       "      <td>0.219207</td>\n",
       "      <td>0.0</td>\n",
       "      <td>0.631</td>\n",
       "      <td>0.736</td>\n",
       "      <td>0.859</td>\n",
       "      <td>3.397</td>\n",
       "    </tr>\n",
       "    <tr>\n",
       "      <th>Total_Trans_Amt</th>\n",
       "      <td>10127.0</td>\n",
       "      <td>4404.086304</td>\n",
       "      <td>3397.129254</td>\n",
       "      <td>510.0</td>\n",
       "      <td>2155.500</td>\n",
       "      <td>3899.000</td>\n",
       "      <td>4741.000</td>\n",
       "      <td>18484.000</td>\n",
       "    </tr>\n",
       "    <tr>\n",
       "      <th>Total_Trans_Ct</th>\n",
       "      <td>10127.0</td>\n",
       "      <td>64.858695</td>\n",
       "      <td>23.472570</td>\n",
       "      <td>10.0</td>\n",
       "      <td>45.000</td>\n",
       "      <td>67.000</td>\n",
       "      <td>81.000</td>\n",
       "      <td>139.000</td>\n",
       "    </tr>\n",
       "    <tr>\n",
       "      <th>Total_Ct_Chng_Q4_Q1</th>\n",
       "      <td>10127.0</td>\n",
       "      <td>0.712222</td>\n",
       "      <td>0.238086</td>\n",
       "      <td>0.0</td>\n",
       "      <td>0.582</td>\n",
       "      <td>0.702</td>\n",
       "      <td>0.818</td>\n",
       "      <td>3.714</td>\n",
       "    </tr>\n",
       "    <tr>\n",
       "      <th>Avg_Utilization_Ratio</th>\n",
       "      <td>10127.0</td>\n",
       "      <td>0.274894</td>\n",
       "      <td>0.275691</td>\n",
       "      <td>0.0</td>\n",
       "      <td>0.023</td>\n",
       "      <td>0.176</td>\n",
       "      <td>0.503</td>\n",
       "      <td>0.999</td>\n",
       "    </tr>\n",
       "  </tbody>\n",
       "</table>\n",
       "</div>"
      ],
      "text/plain": [
       "                            count         mean          std     min       25%  \\\n",
       "Churned                   10127.0     0.160660     0.367235     0.0     0.000   \n",
       "Customer_Age              10127.0    46.325960     8.016814    26.0    41.000   \n",
       "Dependent_count           10127.0     2.346203     1.298908     0.0     1.000   \n",
       "Months_on_book            10127.0    35.928409     7.986416    13.0    31.000   \n",
       "Total_Relationship_Count  10127.0     3.812580     1.554408     1.0     3.000   \n",
       "Months_Inactive_12_mon    10127.0     2.341167     1.010622     0.0     2.000   \n",
       "Contacts_Count_12_mon     10127.0     2.455317     1.106225     0.0     2.000   \n",
       "Credit_Limit              10127.0  8631.953698  9088.776650  1438.3  2555.000   \n",
       "Total_Revolving_Bal       10127.0  1162.814061   814.987335     0.0   359.000   \n",
       "Total_Amt_Chng_Q4_Q1      10127.0     0.759941     0.219207     0.0     0.631   \n",
       "Total_Trans_Amt           10127.0  4404.086304  3397.129254   510.0  2155.500   \n",
       "Total_Trans_Ct            10127.0    64.858695    23.472570    10.0    45.000   \n",
       "Total_Ct_Chng_Q4_Q1       10127.0     0.712222     0.238086     0.0     0.582   \n",
       "Avg_Utilization_Ratio     10127.0     0.274894     0.275691     0.0     0.023   \n",
       "\n",
       "                               50%        75%        max  \n",
       "Churned                      0.000      0.000      1.000  \n",
       "Customer_Age                46.000     52.000     73.000  \n",
       "Dependent_count              2.000      3.000      5.000  \n",
       "Months_on_book              36.000     40.000     56.000  \n",
       "Total_Relationship_Count     4.000      5.000      6.000  \n",
       "Months_Inactive_12_mon       2.000      3.000      6.000  \n",
       "Contacts_Count_12_mon        2.000      3.000      6.000  \n",
       "Credit_Limit              4549.000  11067.500  34516.000  \n",
       "Total_Revolving_Bal       1276.000   1784.000   2517.000  \n",
       "Total_Amt_Chng_Q4_Q1         0.736      0.859      3.397  \n",
       "Total_Trans_Amt           3899.000   4741.000  18484.000  \n",
       "Total_Trans_Ct              67.000     81.000    139.000  \n",
       "Total_Ct_Chng_Q4_Q1          0.702      0.818      3.714  \n",
       "Avg_Utilization_Ratio        0.176      0.503      0.999  "
      ]
     },
     "execution_count": 29,
     "metadata": {},
     "output_type": "execute_result"
    }
   ],
   "source": [
    "df.describe().T"
   ]
  },
  {
   "cell_type": "code",
   "execution_count": 30,
   "id": "6c3b60ad-4ac7-483a-bed7-7b249d485d0f",
   "metadata": {},
   "outputs": [
    {
     "data": {
      "text/plain": [
       "[Text(0.5, 1.0, 'Correlation Matrix')]"
      ]
     },
     "execution_count": 30,
     "metadata": {},
     "output_type": "execute_result"
    },
    {
     "data": {
      "image/png": "[encoded data removed]",
      "text/plain": [
       "<Figure size 1080x504 with 2 Axes>"
      ]
     },
     "metadata": {
      "needs_background": "light"
     },
     "output_type": "display_data"
    }
   ],
   "source": [
    "plt.figure(figsize=(15,7))\n",
    "sns.heatmap(df.corr(), annot=True, cmap='hot').set(title='Correlation Matrix')"
   ]
  },
  {
   "cell_type": "code",
   "execution_count": 31,
   "id": "4a886207-74d4-4aca-a5d8-54fbc38b1f5d",
   "metadata": {},
   "outputs": [
    {
     "data": {
      "text/html": [
       "<div>\n",
       "<style scoped>\n",
       "    .dataframe tbody tr th:only-of-type {\n",
       "        vertical-align: middle;\n",
       "    }\n",
       "\n",
       "    .dataframe tbody tr th {\n",
       "        vertical-align: top;\n",
       "    }\n",
       "\n",
       "    .dataframe thead th {\n",
       "        text-align: right;\n",
       "    }\n",
       "</style>\n",
       "<table border=\"1\" class=\"dataframe\">\n",
       "  <thead>\n",
       "    <tr style=\"text-align: right;\">\n",
       "      <th></th>\n",
       "      <th>Customer_Age</th>\n",
       "      <th>Dependent_count</th>\n",
       "      <th>Months_on_book</th>\n",
       "      <th>Total_Relationship_Count</th>\n",
       "      <th>Months_Inactive_12_mon</th>\n",
       "      <th>Contacts_Count_12_mon</th>\n",
       "      <th>Credit_Limit</th>\n",
       "      <th>Total_Revolving_Bal</th>\n",
       "      <th>Total_Amt_Chng_Q4_Q1</th>\n",
       "      <th>Total_Trans_Amt</th>\n",
       "      <th>Total_Trans_Ct</th>\n",
       "      <th>Total_Ct_Chng_Q4_Q1</th>\n",
       "      <th>Avg_Utilization_Ratio</th>\n",
       "    </tr>\n",
       "    <tr>\n",
       "      <th>Churned</th>\n",
       "      <th></th>\n",
       "      <th></th>\n",
       "      <th></th>\n",
       "      <th></th>\n",
       "      <th></th>\n",
       "      <th></th>\n",
       "      <th></th>\n",
       "      <th></th>\n",
       "      <th></th>\n",
       "      <th></th>\n",
       "      <th></th>\n",
       "      <th></th>\n",
       "      <th></th>\n",
       "    </tr>\n",
       "  </thead>\n",
       "  <tbody>\n",
       "    <tr>\n",
       "      <th>0</th>\n",
       "      <td>46.262118</td>\n",
       "      <td>2.335412</td>\n",
       "      <td>35.880588</td>\n",
       "      <td>3.914588</td>\n",
       "      <td>2.273765</td>\n",
       "      <td>2.356353</td>\n",
       "      <td>8726.877518</td>\n",
       "      <td>1256.604118</td>\n",
       "      <td>0.772510</td>\n",
       "      <td>4654.655882</td>\n",
       "      <td>68.672588</td>\n",
       "      <td>0.742434</td>\n",
       "      <td>0.296412</td>\n",
       "    </tr>\n",
       "    <tr>\n",
       "      <th>1</th>\n",
       "      <td>46.659496</td>\n",
       "      <td>2.402581</td>\n",
       "      <td>36.178242</td>\n",
       "      <td>3.279656</td>\n",
       "      <td>2.693301</td>\n",
       "      <td>2.972342</td>\n",
       "      <td>8136.039459</td>\n",
       "      <td>672.822987</td>\n",
       "      <td>0.694277</td>\n",
       "      <td>3095.025814</td>\n",
       "      <td>44.933620</td>\n",
       "      <td>0.554386</td>\n",
       "      <td>0.162475</td>\n",
       "    </tr>\n",
       "  </tbody>\n",
       "</table>\n",
       "</div>"
      ],
      "text/plain": [
       "         Customer_Age  Dependent_count  Months_on_book  \\\n",
       "Churned                                                  \n",
       "0           46.262118         2.335412       35.880588   \n",
       "1           46.659496         2.402581       36.178242   \n",
       "\n",
       "         Total_Relationship_Count  Months_Inactive_12_mon  \\\n",
       "Churned                                                     \n",
       "0                        3.914588                2.273765   \n",
       "1                        3.279656                2.693301   \n",
       "\n",
       "         Contacts_Count_12_mon  Credit_Limit  Total_Revolving_Bal  \\\n",
       "Churned                                                             \n",
       "0                     2.356353   8726.877518          1256.604118   \n",
       "1                     2.972342   8136.039459           672.822987   \n",
       "\n",
       "         Total_Amt_Chng_Q4_Q1  Total_Trans_Amt  Total_Trans_Ct  \\\n",
       "Churned                                                          \n",
       "0                    0.772510      4654.655882       68.672588   \n",
       "1                    0.694277      3095.025814       44.933620   \n",
       "\n",
       "         Total_Ct_Chng_Q4_Q1  Avg_Utilization_Ratio  \n",
       "Churned                                              \n",
       "0                   0.742434               0.296412  \n",
       "1                   0.554386               0.162475  "
      ]
     },
     "execution_count": 31,
     "metadata": {},
     "output_type": "execute_result"
    }
   ],
   "source": [
    "df.groupby(\"Churned\").mean()"
   ]
  },
  {
   "cell_type": "markdown",
   "id": "8e959e49-c69d-49fe-8f47-cd02f2154eb2",
   "metadata": {},
   "source": [
    "***We wonder whether if not there is a statististical signifance difference between the mean of customer's credit limit who's leaved and who's not.\n",
    "To learn this we can apply a statistical test that name is two-sample t-test. To conduct a valid test data in each group must normally distributed and the variances for the two independent groups must equal.***"
   ]
  },
  {
   "cell_type": "markdown",
   "id": "4ea391a9-aee6-43bf-b4eb-d9ba682d9efd",
   "metadata": {},
   "source": [
    "<d><i>C</i><sub>0</sub>: Credit limit of customer who's not leaved"
   ]
  },
  {
   "cell_type": "markdown",
   "id": "5aa5f517-f657-43bc-b4e4-41a0f4c219ea",
   "metadata": {},
   "source": [
    "<d><i>C</i><sub>1</sub>: Tenures of customer who's leaved"
   ]
  },
  {
   "cell_type": "markdown",
   "id": "ef1c8855-c510-415a-bf3f-2af46a21626c",
   "metadata": {},
   "source": [
    "**Hypothesis:**\n",
    "\n",
    "<d><i>H</i><sub>0</sub>:  There is no difference between the distribution of <d><i>C</i><sub>0</sub> and the normal distribution.  \n",
    "<d><i>H</i><sub>1</sub>:  There is difference between the distribution of <d><i>C</i><sub>1</sub> and the normal distribution.  "
   ]
  },
  {
   "cell_type": "code",
   "execution_count": 32,
   "id": "aa904449-5d80-4341-b3fd-81abeb5e2160",
   "metadata": {},
   "outputs": [],
   "source": [
    "for_t0_normality_test = df.loc[(df['Churned'] == 0)]\n",
    "for_t1_normality_test = df.loc[(df['Churned'] == 1)]"
   ]
  },
  {
   "cell_type": "code",
   "execution_count": 33,
   "id": "dccd0ad7-6f06-453b-b133-1561f9c04eaf",
   "metadata": {},
   "outputs": [
    {
     "name": "stdout",
     "output_type": "stream",
     "text": [
      "ShapiroResult(statistic=0.7462177872657776, pvalue=0.0) \n",
      "\n",
      "We reject null hypothesis. There is no enough evidence to say that C0 is normally distributed.\n"
     ]
    },
    {
     "name": "stderr",
     "output_type": "stream",
     "text": [
      "C:\\Users\\Mehmet\\anaconda3\\lib\\site-packages\\scipy\\stats\\morestats.py:1760: UserWarning: p-value may not be accurate for N > 5000.\n",
      "  warnings.warn(\"p-value may not be accurate for N > 5000.\")\n"
     ]
    }
   ],
   "source": [
    "name = ['normality test', 'p-value']\n",
    "test = shapiro(for_t0_normality_test.Credit_Limit)\n",
    " \n",
    "print(test, \"\\n\") \n",
    " \n",
    "if test[1] > 0.05:\n",
    "    print('We can not reject null hypothesis. There is enough evidence to say that C0 is normally distributed.')\n",
    " \n",
    "else:\n",
    "    print('We reject null hypothesis. There is no enough evidence to say that C0 is normally distributed.')"
   ]
  },
  {
   "cell_type": "markdown",
   "id": "fef65e7d-b281-41d1-af46-226cb4ef28de",
   "metadata": {},
   "source": [
    "***Because of we reject the null hypothesis for <d><i>C</i><sub>0</sub> there is no need to check normality of <d><i>C</i><sub>1</sub> and instead of two-sample t-test we will use Mann-Whitney U test which is non-parametric.***"
   ]
  },
  {
   "cell_type": "markdown",
   "id": "451c5237-871f-429f-a142-0f8cb357895e",
   "metadata": {},
   "source": [
    "<d><i>μ</i><sub>0</sub>: The mean of <d><i>C</i><sub>0</sub>"
   ]
  },
  {
   "cell_type": "markdown",
   "id": "44806a85-9f44-4342-bc9b-4bc8527809a2",
   "metadata": {},
   "source": [
    "<d><i>μ</i><sub>1</sub>: The mean of <d><i>C</i><sub>1</sub>"
   ]
  },
  {
   "cell_type": "markdown",
   "id": "f7bb3f9d-1ab8-4547-b7a1-58dd2e17d808",
   "metadata": {},
   "source": [
    "**Hypothesis:**"
   ]
  },
  {
   "cell_type": "markdown",
   "id": "49963d51-7cc4-407e-bcab-5613108add70",
   "metadata": {},
   "source": [
    "<d><i>H</i><sub>0</sub>: <d><i>μ</i><sub>0</sub>=<d><i>μ</i><sub>1</sub>"
   ]
  },
  {
   "cell_type": "markdown",
   "id": "70920bd5-c634-4241-9523-0fe25b434540",
   "metadata": {},
   "source": [
    "<d><i>H</i><sub>0</sub>: <d><i>μ</i><sub>0</sub>≠<d><i>μ</i><sub>1</sub>"
   ]
  },
  {
   "cell_type": "code",
   "execution_count": 34,
   "id": "d26d479c-411b-435d-8f86-97d50766f7a7",
   "metadata": {},
   "outputs": [
    {
     "name": "stdout",
     "output_type": "stream",
     "text": [
      "p-value: 0.000 \n",
      "\n",
      "We reject null hypothesis. There is no enough evidence to say that there is no difference between μo and μ1.\n"
     ]
    }
   ],
   "source": [
    "name = ['Mann Whitney-U', 'p-value']\n",
    "test = stats.mannwhitneyu(for_t0_normality_test.Credit_Limit, for_t1_normality_test.Credit_Limit)\n",
    " \n",
    "print(\"p-value: %.3f\" % test[1], \"\\n\") \n",
    " \n",
    "if test[1] > 0.05:\n",
    "    print('We can not reject null hypothesis. There is enough evidence to say that there is no difference between μo and μ1.')\n",
    " \n",
    "else:\n",
    "    print('We reject null hypothesis. There is no enough evidence to say that there is no difference between μo and μ1.')"
   ]
  },
  {
   "cell_type": "markdown",
   "id": "2f447088-aca6-4c7f-8349-7b461603ec77",
   "metadata": {},
   "source": [
    "***In according to Mann-Whitney U test result we can say that the credit limit of customers who's leaved is smaller than customers who's not leaved***"
   ]
  },
  {
   "cell_type": "markdown",
   "id": "cd83794c-ac5f-4bb8-9c93-79d0d3720c0c",
   "metadata": {
    "tags": []
   },
   "source": [
    "# Model"
   ]
  },
  {
   "cell_type": "markdown",
   "id": "fd7fe975-e49a-4947-b5f7-36d5c28d3a88",
   "metadata": {
    "tags": []
   },
   "source": [
    "## Preparing Data for Modeling"
   ]
  },
  {
   "cell_type": "code",
   "execution_count": 35,
   "id": "2e04e4b3-2b8e-441e-9874-9d2290fa535f",
   "metadata": {},
   "outputs": [
    {
     "data": {
      "text/html": [
       "<div>\n",
       "<style scoped>\n",
       "    .dataframe tbody tr th:only-of-type {\n",
       "        vertical-align: middle;\n",
       "    }\n",
       "\n",
       "    .dataframe tbody tr th {\n",
       "        vertical-align: top;\n",
       "    }\n",
       "\n",
       "    .dataframe thead th {\n",
       "        text-align: right;\n",
       "    }\n",
       "</style>\n",
       "<table border=\"1\" class=\"dataframe\">\n",
       "  <thead>\n",
       "    <tr style=\"text-align: right;\">\n",
       "      <th></th>\n",
       "      <th>Churned</th>\n",
       "      <th>Customer_Age</th>\n",
       "      <th>Gender</th>\n",
       "      <th>Dependent_count</th>\n",
       "      <th>Education_Level</th>\n",
       "      <th>Marital_Status</th>\n",
       "      <th>Income_Category</th>\n",
       "      <th>Card_Category</th>\n",
       "      <th>Months_on_book</th>\n",
       "      <th>Total_Relationship_Count</th>\n",
       "      <th>Months_Inactive_12_mon</th>\n",
       "      <th>Contacts_Count_12_mon</th>\n",
       "      <th>Credit_Limit</th>\n",
       "      <th>Total_Revolving_Bal</th>\n",
       "      <th>Total_Amt_Chng_Q4_Q1</th>\n",
       "      <th>Total_Trans_Amt</th>\n",
       "      <th>Total_Trans_Ct</th>\n",
       "      <th>Total_Ct_Chng_Q4_Q1</th>\n",
       "      <th>Avg_Utilization_Ratio</th>\n",
       "    </tr>\n",
       "  </thead>\n",
       "  <tbody>\n",
       "    <tr>\n",
       "      <th>0</th>\n",
       "      <td>0</td>\n",
       "      <td>45</td>\n",
       "      <td>M</td>\n",
       "      <td>3</td>\n",
       "      <td>High School</td>\n",
       "      <td>Married</td>\n",
       "      <td>$60K - $80K</td>\n",
       "      <td>Blue</td>\n",
       "      <td>39</td>\n",
       "      <td>5</td>\n",
       "      <td>1</td>\n",
       "      <td>3</td>\n",
       "      <td>12691.0</td>\n",
       "      <td>777</td>\n",
       "      <td>1.335</td>\n",
       "      <td>1144</td>\n",
       "      <td>42</td>\n",
       "      <td>1.625</td>\n",
       "      <td>0.061</td>\n",
       "    </tr>\n",
       "    <tr>\n",
       "      <th>1</th>\n",
       "      <td>0</td>\n",
       "      <td>49</td>\n",
       "      <td>F</td>\n",
       "      <td>5</td>\n",
       "      <td>Graduate</td>\n",
       "      <td>Single</td>\n",
       "      <td>Less than $40K</td>\n",
       "      <td>Blue</td>\n",
       "      <td>44</td>\n",
       "      <td>6</td>\n",
       "      <td>1</td>\n",
       "      <td>2</td>\n",
       "      <td>8256.0</td>\n",
       "      <td>864</td>\n",
       "      <td>1.541</td>\n",
       "      <td>1291</td>\n",
       "      <td>33</td>\n",
       "      <td>3.714</td>\n",
       "      <td>0.105</td>\n",
       "    </tr>\n",
       "    <tr>\n",
       "      <th>2</th>\n",
       "      <td>0</td>\n",
       "      <td>51</td>\n",
       "      <td>M</td>\n",
       "      <td>3</td>\n",
       "      <td>Graduate</td>\n",
       "      <td>Married</td>\n",
       "      <td>$80K - $120K</td>\n",
       "      <td>Blue</td>\n",
       "      <td>36</td>\n",
       "      <td>4</td>\n",
       "      <td>1</td>\n",
       "      <td>0</td>\n",
       "      <td>3418.0</td>\n",
       "      <td>0</td>\n",
       "      <td>2.594</td>\n",
       "      <td>1887</td>\n",
       "      <td>20</td>\n",
       "      <td>2.333</td>\n",
       "      <td>0.000</td>\n",
       "    </tr>\n",
       "    <tr>\n",
       "      <th>3</th>\n",
       "      <td>0</td>\n",
       "      <td>40</td>\n",
       "      <td>F</td>\n",
       "      <td>4</td>\n",
       "      <td>High School</td>\n",
       "      <td>Unknown</td>\n",
       "      <td>Less than $40K</td>\n",
       "      <td>Blue</td>\n",
       "      <td>34</td>\n",
       "      <td>3</td>\n",
       "      <td>4</td>\n",
       "      <td>1</td>\n",
       "      <td>3313.0</td>\n",
       "      <td>2517</td>\n",
       "      <td>1.405</td>\n",
       "      <td>1171</td>\n",
       "      <td>20</td>\n",
       "      <td>2.333</td>\n",
       "      <td>0.760</td>\n",
       "    </tr>\n",
       "    <tr>\n",
       "      <th>4</th>\n",
       "      <td>0</td>\n",
       "      <td>40</td>\n",
       "      <td>M</td>\n",
       "      <td>3</td>\n",
       "      <td>Uneducated</td>\n",
       "      <td>Married</td>\n",
       "      <td>$60K - $80K</td>\n",
       "      <td>Blue</td>\n",
       "      <td>21</td>\n",
       "      <td>5</td>\n",
       "      <td>1</td>\n",
       "      <td>0</td>\n",
       "      <td>4716.0</td>\n",
       "      <td>0</td>\n",
       "      <td>2.175</td>\n",
       "      <td>816</td>\n",
       "      <td>28</td>\n",
       "      <td>2.500</td>\n",
       "      <td>0.000</td>\n",
       "    </tr>\n",
       "  </tbody>\n",
       "</table>\n",
       "</div>"
      ],
      "text/plain": [
       "   Churned  Customer_Age Gender  Dependent_count Education_Level  \\\n",
       "0        0            45      M                3     High School   \n",
       "1        0            49      F                5        Graduate   \n",
       "2        0            51      M                3        Graduate   \n",
       "3        0            40      F                4     High School   \n",
       "4        0            40      M                3      Uneducated   \n",
       "\n",
       "  Marital_Status Income_Category Card_Category  Months_on_book  \\\n",
       "0        Married     $60K - $80K          Blue              39   \n",
       "1         Single  Less than $40K          Blue              44   \n",
       "2        Married    $80K - $120K          Blue              36   \n",
       "3        Unknown  Less than $40K          Blue              34   \n",
       "4        Married     $60K - $80K          Blue              21   \n",
       "\n",
       "   Total_Relationship_Count  Months_Inactive_12_mon  Contacts_Count_12_mon  \\\n",
       "0                         5                       1                      3   \n",
       "1                         6                       1                      2   \n",
       "2                         4                       1                      0   \n",
       "3                         3                       4                      1   \n",
       "4                         5                       1                      0   \n",
       "\n",
       "   Credit_Limit  Total_Revolving_Bal  Total_Amt_Chng_Q4_Q1  Total_Trans_Amt  \\\n",
       "0       12691.0                  777                 1.335             1144   \n",
       "1        8256.0                  864                 1.541             1291   \n",
       "2        3418.0                    0                 2.594             1887   \n",
       "3        3313.0                 2517                 1.405             1171   \n",
       "4        4716.0                    0                 2.175              816   \n",
       "\n",
       "   Total_Trans_Ct  Total_Ct_Chng_Q4_Q1  Avg_Utilization_Ratio  \n",
       "0              42                1.625                  0.061  \n",
       "1              33                3.714                  0.105  \n",
       "2              20                2.333                  0.000  \n",
       "3              20                2.333                  0.760  \n",
       "4              28                2.500                  0.000  "
      ]
     },
     "execution_count": 35,
     "metadata": {},
     "output_type": "execute_result"
    }
   ],
   "source": [
    "df.head()"
   ]
  },
  {
   "cell_type": "code",
   "execution_count": 36,
   "id": "d1f26ea9-e6d5-4312-a51b-23b7f8fb6c08",
   "metadata": {},
   "outputs": [
    {
     "data": {
      "text/html": [
       "<div>\n",
       "<style scoped>\n",
       "    .dataframe tbody tr th:only-of-type {\n",
       "        vertical-align: middle;\n",
       "    }\n",
       "\n",
       "    .dataframe tbody tr th {\n",
       "        vertical-align: top;\n",
       "    }\n",
       "\n",
       "    .dataframe thead th {\n",
       "        text-align: right;\n",
       "    }\n",
       "</style>\n",
       "<table border=\"1\" class=\"dataframe\">\n",
       "  <thead>\n",
       "    <tr style=\"text-align: right;\">\n",
       "      <th></th>\n",
       "      <th>Churned</th>\n",
       "      <th>Customer_Age</th>\n",
       "      <th>Gender</th>\n",
       "      <th>Dependent_count</th>\n",
       "      <th>Education_Level</th>\n",
       "      <th>Marital_Status</th>\n",
       "      <th>Income_Category</th>\n",
       "      <th>Card_Category</th>\n",
       "      <th>Months_on_book</th>\n",
       "      <th>Total_Relationship_Count</th>\n",
       "      <th>Months_Inactive_12_mon</th>\n",
       "      <th>Contacts_Count_12_mon</th>\n",
       "      <th>Credit_Limit</th>\n",
       "      <th>Total_Revolving_Bal</th>\n",
       "      <th>Total_Amt_Chng_Q4_Q1</th>\n",
       "      <th>Total_Trans_Amt</th>\n",
       "      <th>Total_Trans_Ct</th>\n",
       "      <th>Total_Ct_Chng_Q4_Q1</th>\n",
       "      <th>Avg_Utilization_Ratio</th>\n",
       "    </tr>\n",
       "  </thead>\n",
       "  <tbody>\n",
       "    <tr>\n",
       "      <th>0</th>\n",
       "      <td>0</td>\n",
       "      <td>45</td>\n",
       "      <td>1</td>\n",
       "      <td>3</td>\n",
       "      <td>High School</td>\n",
       "      <td>Married</td>\n",
       "      <td>$60K - $80K</td>\n",
       "      <td>Blue</td>\n",
       "      <td>39</td>\n",
       "      <td>5</td>\n",
       "      <td>1</td>\n",
       "      <td>3</td>\n",
       "      <td>12691.0</td>\n",
       "      <td>777</td>\n",
       "      <td>1.335</td>\n",
       "      <td>1144</td>\n",
       "      <td>42</td>\n",
       "      <td>1.625</td>\n",
       "      <td>0.061</td>\n",
       "    </tr>\n",
       "    <tr>\n",
       "      <th>1</th>\n",
       "      <td>0</td>\n",
       "      <td>49</td>\n",
       "      <td>0</td>\n",
       "      <td>5</td>\n",
       "      <td>Graduate</td>\n",
       "      <td>Single</td>\n",
       "      <td>Less than $40K</td>\n",
       "      <td>Blue</td>\n",
       "      <td>44</td>\n",
       "      <td>6</td>\n",
       "      <td>1</td>\n",
       "      <td>2</td>\n",
       "      <td>8256.0</td>\n",
       "      <td>864</td>\n",
       "      <td>1.541</td>\n",
       "      <td>1291</td>\n",
       "      <td>33</td>\n",
       "      <td>3.714</td>\n",
       "      <td>0.105</td>\n",
       "    </tr>\n",
       "    <tr>\n",
       "      <th>2</th>\n",
       "      <td>0</td>\n",
       "      <td>51</td>\n",
       "      <td>1</td>\n",
       "      <td>3</td>\n",
       "      <td>Graduate</td>\n",
       "      <td>Married</td>\n",
       "      <td>$80K - $120K</td>\n",
       "      <td>Blue</td>\n",
       "      <td>36</td>\n",
       "      <td>4</td>\n",
       "      <td>1</td>\n",
       "      <td>0</td>\n",
       "      <td>3418.0</td>\n",
       "      <td>0</td>\n",
       "      <td>2.594</td>\n",
       "      <td>1887</td>\n",
       "      <td>20</td>\n",
       "      <td>2.333</td>\n",
       "      <td>0.000</td>\n",
       "    </tr>\n",
       "    <tr>\n",
       "      <th>3</th>\n",
       "      <td>0</td>\n",
       "      <td>40</td>\n",
       "      <td>0</td>\n",
       "      <td>4</td>\n",
       "      <td>High School</td>\n",
       "      <td>Unknown</td>\n",
       "      <td>Less than $40K</td>\n",
       "      <td>Blue</td>\n",
       "      <td>34</td>\n",
       "      <td>3</td>\n",
       "      <td>4</td>\n",
       "      <td>1</td>\n",
       "      <td>3313.0</td>\n",
       "      <td>2517</td>\n",
       "      <td>1.405</td>\n",
       "      <td>1171</td>\n",
       "      <td>20</td>\n",
       "      <td>2.333</td>\n",
       "      <td>0.760</td>\n",
       "    </tr>\n",
       "    <tr>\n",
       "      <th>4</th>\n",
       "      <td>0</td>\n",
       "      <td>40</td>\n",
       "      <td>1</td>\n",
       "      <td>3</td>\n",
       "      <td>Uneducated</td>\n",
       "      <td>Married</td>\n",
       "      <td>$60K - $80K</td>\n",
       "      <td>Blue</td>\n",
       "      <td>21</td>\n",
       "      <td>5</td>\n",
       "      <td>1</td>\n",
       "      <td>0</td>\n",
       "      <td>4716.0</td>\n",
       "      <td>0</td>\n",
       "      <td>2.175</td>\n",
       "      <td>816</td>\n",
       "      <td>28</td>\n",
       "      <td>2.500</td>\n",
       "      <td>0.000</td>\n",
       "    </tr>\n",
       "  </tbody>\n",
       "</table>\n",
       "</div>"
      ],
      "text/plain": [
       "   Churned  Customer_Age  Gender  Dependent_count Education_Level  \\\n",
       "0        0            45       1                3     High School   \n",
       "1        0            49       0                5        Graduate   \n",
       "2        0            51       1                3        Graduate   \n",
       "3        0            40       0                4     High School   \n",
       "4        0            40       1                3      Uneducated   \n",
       "\n",
       "  Marital_Status Income_Category Card_Category  Months_on_book  \\\n",
       "0        Married     $60K - $80K          Blue              39   \n",
       "1         Single  Less than $40K          Blue              44   \n",
       "2        Married    $80K - $120K          Blue              36   \n",
       "3        Unknown  Less than $40K          Blue              34   \n",
       "4        Married     $60K - $80K          Blue              21   \n",
       "\n",
       "   Total_Relationship_Count  Months_Inactive_12_mon  Contacts_Count_12_mon  \\\n",
       "0                         5                       1                      3   \n",
       "1                         6                       1                      2   \n",
       "2                         4                       1                      0   \n",
       "3                         3                       4                      1   \n",
       "4                         5                       1                      0   \n",
       "\n",
       "   Credit_Limit  Total_Revolving_Bal  Total_Amt_Chng_Q4_Q1  Total_Trans_Amt  \\\n",
       "0       12691.0                  777                 1.335             1144   \n",
       "1        8256.0                  864                 1.541             1291   \n",
       "2        3418.0                    0                 2.594             1887   \n",
       "3        3313.0                 2517                 1.405             1171   \n",
       "4        4716.0                    0                 2.175              816   \n",
       "\n",
       "   Total_Trans_Ct  Total_Ct_Chng_Q4_Q1  Avg_Utilization_Ratio  \n",
       "0              42                1.625                  0.061  \n",
       "1              33                3.714                  0.105  \n",
       "2              20                2.333                  0.000  \n",
       "3              20                2.333                  0.760  \n",
       "4              28                2.500                  0.000  "
      ]
     },
     "execution_count": 36,
     "metadata": {},
     "output_type": "execute_result"
    }
   ],
   "source": [
    "df_model = df\n",
    "\n",
    "label_encoder = preprocessing.LabelEncoder()\n",
    "  \n",
    "df_model['Gender']= label_encoder.fit_transform(df_model['Gender'])\n",
    "\n",
    "df_model.head()"
   ]
  },
  {
   "cell_type": "code",
   "execution_count": 37,
   "id": "d772c95a-636c-486c-8a00-dc57fe8f6d72",
   "metadata": {},
   "outputs": [
    {
     "data": {
      "text/plain": [
       "array(['High School', 'Graduate', 'Uneducated', 'Unknown', 'College',\n",
       "       'Post-Graduate', 'Doctorate'], dtype=object)"
      ]
     },
     "execution_count": 37,
     "metadata": {},
     "output_type": "execute_result"
    }
   ],
   "source": [
    "df_model[\"Education_Level\"].unique()"
   ]
  },
  {
   "cell_type": "code",
   "execution_count": 38,
   "id": "e2921cfd-7aa8-468b-891d-dc09f72e82b6",
   "metadata": {},
   "outputs": [
    {
     "name": "stdout",
     "output_type": "stream",
     "text": [
      "<class 'pandas.core.frame.DataFrame'>\n",
      "RangeIndex: 10127 entries, 0 to 10126\n",
      "Data columns (total 19 columns):\n",
      " #   Column                    Non-Null Count  Dtype  \n",
      "---  ------                    --------------  -----  \n",
      " 0   Churned                   10127 non-null  int32  \n",
      " 1   Customer_Age              10127 non-null  int64  \n",
      " 2   Gender                    10127 non-null  int32  \n",
      " 3   Dependent_count           10127 non-null  int64  \n",
      " 4   Education_Level           10127 non-null  int32  \n",
      " 5   Marital_Status            10127 non-null  object \n",
      " 6   Income_Category           10127 non-null  object \n",
      " 7   Card_Category             10127 non-null  object \n",
      " 8   Months_on_book            10127 non-null  int64  \n",
      " 9   Total_Relationship_Count  10127 non-null  int64  \n",
      " 10  Months_Inactive_12_mon    10127 non-null  int64  \n",
      " 11  Contacts_Count_12_mon     10127 non-null  int64  \n",
      " 12  Credit_Limit              10127 non-null  float64\n",
      " 13  Total_Revolving_Bal       10127 non-null  int64  \n",
      " 14  Total_Amt_Chng_Q4_Q1      10127 non-null  float64\n",
      " 15  Total_Trans_Amt           10127 non-null  int64  \n",
      " 16  Total_Trans_Ct            10127 non-null  int64  \n",
      " 17  Total_Ct_Chng_Q4_Q1       10127 non-null  float64\n",
      " 18  Avg_Utilization_Ratio     10127 non-null  float64\n",
      "dtypes: float64(4), int32(3), int64(9), object(3)\n",
      "memory usage: 1.4+ MB\n"
     ]
    },
    {
     "name": "stderr",
     "output_type": "stream",
     "text": [
      "C:\\Users\\Mehmet\\AppData\\Local\\Temp\\ipykernel_9672\\584040032.py:1: SettingWithCopyWarning: \n",
      "A value is trying to be set on a copy of a slice from a DataFrame\n",
      "\n",
      "See the caveats in the documentation: https://pandas.pydata.org/pandas-docs/stable/user_guide/indexing.html#returning-a-view-versus-a-copy\n",
      "  df_model['Education_Level'].loc[df_model['Education_Level'] == 'Uneducated'] = 1\n",
      "C:\\Users\\Mehmet\\AppData\\Local\\Temp\\ipykernel_9672\\584040032.py:2: SettingWithCopyWarning: \n",
      "A value is trying to be set on a copy of a slice from a DataFrame\n",
      "\n",
      "See the caveats in the documentation: https://pandas.pydata.org/pandas-docs/stable/user_guide/indexing.html#returning-a-view-versus-a-copy\n",
      "  df_model['Education_Level'].loc[df_model['Education_Level'] == 'High School'] = 2\n",
      "C:\\Users\\Mehmet\\AppData\\Local\\Temp\\ipykernel_9672\\584040032.py:3: SettingWithCopyWarning: \n",
      "A value is trying to be set on a copy of a slice from a DataFrame\n",
      "\n",
      "See the caveats in the documentation: https://pandas.pydata.org/pandas-docs/stable/user_guide/indexing.html#returning-a-view-versus-a-copy\n",
      "  df_model['Education_Level'].loc[df_model['Education_Level'] == 'College'] = 3\n",
      "C:\\Users\\Mehmet\\AppData\\Local\\Temp\\ipykernel_9672\\584040032.py:4: SettingWithCopyWarning: \n",
      "A value is trying to be set on a copy of a slice from a DataFrame\n",
      "\n",
      "See the caveats in the documentation: https://pandas.pydata.org/pandas-docs/stable/user_guide/indexing.html#returning-a-view-versus-a-copy\n",
      "  df_model['Education_Level'].loc[df_model['Education_Level'] == 'Unknown'] = 4\n",
      "C:\\Users\\Mehmet\\AppData\\Local\\Temp\\ipykernel_9672\\584040032.py:5: SettingWithCopyWarning: \n",
      "A value is trying to be set on a copy of a slice from a DataFrame\n",
      "\n",
      "See the caveats in the documentation: https://pandas.pydata.org/pandas-docs/stable/user_guide/indexing.html#returning-a-view-versus-a-copy\n",
      "  df_model['Education_Level'].loc[df_model['Education_Level'] == 'Graduate'] = 5\n",
      "C:\\Users\\Mehmet\\AppData\\Local\\Temp\\ipykernel_9672\\584040032.py:6: SettingWithCopyWarning: \n",
      "A value is trying to be set on a copy of a slice from a DataFrame\n",
      "\n",
      "See the caveats in the documentation: https://pandas.pydata.org/pandas-docs/stable/user_guide/indexing.html#returning-a-view-versus-a-copy\n",
      "  df_model['Education_Level'].loc[df_model['Education_Level'] == 'Post-Graduate'] = 7\n",
      "C:\\Users\\Mehmet\\AppData\\Local\\Temp\\ipykernel_9672\\584040032.py:7: SettingWithCopyWarning: \n",
      "A value is trying to be set on a copy of a slice from a DataFrame\n",
      "\n",
      "See the caveats in the documentation: https://pandas.pydata.org/pandas-docs/stable/user_guide/indexing.html#returning-a-view-versus-a-copy\n",
      "  df_model['Education_Level'].loc[df_model['Education_Level'] == 'Doctorate'] = 7\n"
     ]
    }
   ],
   "source": [
    "df_model['Education_Level'].loc[df_model['Education_Level'] == 'Uneducated'] = 1\n",
    "df_model['Education_Level'].loc[df_model['Education_Level'] == 'High School'] = 2\n",
    "df_model['Education_Level'].loc[df_model['Education_Level'] == 'College'] = 3\n",
    "df_model['Education_Level'].loc[df_model['Education_Level'] == 'Unknown'] = 4\n",
    "df_model['Education_Level'].loc[df_model['Education_Level'] == 'Graduate'] = 5\n",
    "df_model['Education_Level'].loc[df_model['Education_Level'] == 'Post-Graduate'] = 7\n",
    "df_model['Education_Level'].loc[df_model['Education_Level'] == 'Doctorate'] = 7\n",
    "\n",
    "df[\"Education_Level\"]=df[\"Education_Level\"].astype(\"int32\")\n",
    "\n",
    "df.info()"
   ]
  },
  {
   "cell_type": "code",
   "execution_count": 39,
   "id": "f0e229bc-6c61-4819-89d7-5b434494bc80",
   "metadata": {},
   "outputs": [
    {
     "data": {
      "text/html": [
       "<div>\n",
       "<style scoped>\n",
       "    .dataframe tbody tr th:only-of-type {\n",
       "        vertical-align: middle;\n",
       "    }\n",
       "\n",
       "    .dataframe tbody tr th {\n",
       "        vertical-align: top;\n",
       "    }\n",
       "\n",
       "    .dataframe thead th {\n",
       "        text-align: right;\n",
       "    }\n",
       "</style>\n",
       "<table border=\"1\" class=\"dataframe\">\n",
       "  <thead>\n",
       "    <tr style=\"text-align: right;\">\n",
       "      <th></th>\n",
       "      <th>Churned</th>\n",
       "      <th>Customer_Age</th>\n",
       "      <th>Gender</th>\n",
       "      <th>Dependent_count</th>\n",
       "      <th>Education_Level</th>\n",
       "      <th>Marital_Status</th>\n",
       "      <th>Income_Category</th>\n",
       "      <th>Card_Category</th>\n",
       "      <th>Months_on_book</th>\n",
       "      <th>Total_Relationship_Count</th>\n",
       "      <th>Months_Inactive_12_mon</th>\n",
       "      <th>Contacts_Count_12_mon</th>\n",
       "      <th>Credit_Limit</th>\n",
       "      <th>Total_Revolving_Bal</th>\n",
       "      <th>Total_Amt_Chng_Q4_Q1</th>\n",
       "      <th>Total_Trans_Amt</th>\n",
       "      <th>Total_Trans_Ct</th>\n",
       "      <th>Total_Ct_Chng_Q4_Q1</th>\n",
       "      <th>Avg_Utilization_Ratio</th>\n",
       "    </tr>\n",
       "  </thead>\n",
       "  <tbody>\n",
       "    <tr>\n",
       "      <th>0</th>\n",
       "      <td>0</td>\n",
       "      <td>45</td>\n",
       "      <td>1</td>\n",
       "      <td>3</td>\n",
       "      <td>2</td>\n",
       "      <td>Married</td>\n",
       "      <td>$60K - $80K</td>\n",
       "      <td>Blue</td>\n",
       "      <td>39</td>\n",
       "      <td>5</td>\n",
       "      <td>1</td>\n",
       "      <td>3</td>\n",
       "      <td>12691.0</td>\n",
       "      <td>777</td>\n",
       "      <td>1.335</td>\n",
       "      <td>1144</td>\n",
       "      <td>42</td>\n",
       "      <td>1.625</td>\n",
       "      <td>0.061</td>\n",
       "    </tr>\n",
       "    <tr>\n",
       "      <th>1</th>\n",
       "      <td>0</td>\n",
       "      <td>49</td>\n",
       "      <td>0</td>\n",
       "      <td>5</td>\n",
       "      <td>5</td>\n",
       "      <td>Single</td>\n",
       "      <td>Less than $40K</td>\n",
       "      <td>Blue</td>\n",
       "      <td>44</td>\n",
       "      <td>6</td>\n",
       "      <td>1</td>\n",
       "      <td>2</td>\n",
       "      <td>8256.0</td>\n",
       "      <td>864</td>\n",
       "      <td>1.541</td>\n",
       "      <td>1291</td>\n",
       "      <td>33</td>\n",
       "      <td>3.714</td>\n",
       "      <td>0.105</td>\n",
       "    </tr>\n",
       "    <tr>\n",
       "      <th>2</th>\n",
       "      <td>0</td>\n",
       "      <td>51</td>\n",
       "      <td>1</td>\n",
       "      <td>3</td>\n",
       "      <td>5</td>\n",
       "      <td>Married</td>\n",
       "      <td>$80K - $120K</td>\n",
       "      <td>Blue</td>\n",
       "      <td>36</td>\n",
       "      <td>4</td>\n",
       "      <td>1</td>\n",
       "      <td>0</td>\n",
       "      <td>3418.0</td>\n",
       "      <td>0</td>\n",
       "      <td>2.594</td>\n",
       "      <td>1887</td>\n",
       "      <td>20</td>\n",
       "      <td>2.333</td>\n",
       "      <td>0.000</td>\n",
       "    </tr>\n",
       "    <tr>\n",
       "      <th>3</th>\n",
       "      <td>0</td>\n",
       "      <td>40</td>\n",
       "      <td>0</td>\n",
       "      <td>4</td>\n",
       "      <td>2</td>\n",
       "      <td>Unknown</td>\n",
       "      <td>Less than $40K</td>\n",
       "      <td>Blue</td>\n",
       "      <td>34</td>\n",
       "      <td>3</td>\n",
       "      <td>4</td>\n",
       "      <td>1</td>\n",
       "      <td>3313.0</td>\n",
       "      <td>2517</td>\n",
       "      <td>1.405</td>\n",
       "      <td>1171</td>\n",
       "      <td>20</td>\n",
       "      <td>2.333</td>\n",
       "      <td>0.760</td>\n",
       "    </tr>\n",
       "    <tr>\n",
       "      <th>4</th>\n",
       "      <td>0</td>\n",
       "      <td>40</td>\n",
       "      <td>1</td>\n",
       "      <td>3</td>\n",
       "      <td>1</td>\n",
       "      <td>Married</td>\n",
       "      <td>$60K - $80K</td>\n",
       "      <td>Blue</td>\n",
       "      <td>21</td>\n",
       "      <td>5</td>\n",
       "      <td>1</td>\n",
       "      <td>0</td>\n",
       "      <td>4716.0</td>\n",
       "      <td>0</td>\n",
       "      <td>2.175</td>\n",
       "      <td>816</td>\n",
       "      <td>28</td>\n",
       "      <td>2.500</td>\n",
       "      <td>0.000</td>\n",
       "    </tr>\n",
       "  </tbody>\n",
       "</table>\n",
       "</div>"
      ],
      "text/plain": [
       "   Churned  Customer_Age  Gender  Dependent_count  Education_Level  \\\n",
       "0        0            45       1                3                2   \n",
       "1        0            49       0                5                5   \n",
       "2        0            51       1                3                5   \n",
       "3        0            40       0                4                2   \n",
       "4        0            40       1                3                1   \n",
       "\n",
       "  Marital_Status Income_Category Card_Category  Months_on_book  \\\n",
       "0        Married     $60K - $80K          Blue              39   \n",
       "1         Single  Less than $40K          Blue              44   \n",
       "2        Married    $80K - $120K          Blue              36   \n",
       "3        Unknown  Less than $40K          Blue              34   \n",
       "4        Married     $60K - $80K          Blue              21   \n",
       "\n",
       "   Total_Relationship_Count  Months_Inactive_12_mon  Contacts_Count_12_mon  \\\n",
       "0                         5                       1                      3   \n",
       "1                         6                       1                      2   \n",
       "2                         4                       1                      0   \n",
       "3                         3                       4                      1   \n",
       "4                         5                       1                      0   \n",
       "\n",
       "   Credit_Limit  Total_Revolving_Bal  Total_Amt_Chng_Q4_Q1  Total_Trans_Amt  \\\n",
       "0       12691.0                  777                 1.335             1144   \n",
       "1        8256.0                  864                 1.541             1291   \n",
       "2        3418.0                    0                 2.594             1887   \n",
       "3        3313.0                 2517                 1.405             1171   \n",
       "4        4716.0                    0                 2.175              816   \n",
       "\n",
       "   Total_Trans_Ct  Total_Ct_Chng_Q4_Q1  Avg_Utilization_Ratio  \n",
       "0              42                1.625                  0.061  \n",
       "1              33                3.714                  0.105  \n",
       "2              20                2.333                  0.000  \n",
       "3              20                2.333                  0.760  \n",
       "4              28                2.500                  0.000  "
      ]
     },
     "execution_count": 39,
     "metadata": {},
     "output_type": "execute_result"
    }
   ],
   "source": [
    "df_model.head()"
   ]
  },
  {
   "cell_type": "code",
   "execution_count": 40,
   "id": "6d05a8a2-75a7-4248-a835-b21dd4e06d60",
   "metadata": {},
   "outputs": [
    {
     "data": {
      "text/plain": [
       "array(['Married', 'Single', 'Unknown', 'Divorced'], dtype=object)"
      ]
     },
     "execution_count": 40,
     "metadata": {},
     "output_type": "execute_result"
    }
   ],
   "source": [
    "df_model[\"Marital_Status\"].unique()"
   ]
  },
  {
   "cell_type": "code",
   "execution_count": 41,
   "id": "f25d0466-e95d-4154-b03f-76be3f4d79ab",
   "metadata": {},
   "outputs": [
    {
     "data": {
      "text/plain": [
       "array(['$60K - $80K', 'Less than $40K', '$80K - $120K', '$40K - $60K',\n",
       "       '$120K +', 'Unknown'], dtype=object)"
      ]
     },
     "execution_count": 41,
     "metadata": {},
     "output_type": "execute_result"
    }
   ],
   "source": [
    "df_model[\"Income_Category\"].unique()"
   ]
  },
  {
   "cell_type": "code",
   "execution_count": 42,
   "id": "42532f0f-988a-4022-b28c-c2041b1476d4",
   "metadata": {},
   "outputs": [
    {
     "data": {
      "text/plain": [
       "array(['Blue', 'Gold', 'Silver', 'Platinum'], dtype=object)"
      ]
     },
     "execution_count": 42,
     "metadata": {},
     "output_type": "execute_result"
    }
   ],
   "source": [
    "df_model[\"Card_Category\"].unique()"
   ]
  },
  {
   "cell_type": "code",
   "execution_count": 43,
   "id": "b0e66ced-2b52-40bf-8b4a-6cd76a3047a1",
   "metadata": {},
   "outputs": [],
   "source": [
    "df_model = pd.get_dummies(df_model, columns = ['Marital_Status',\"Income_Category\", \"Card_Category\"])"
   ]
  },
  {
   "cell_type": "code",
   "execution_count": 44,
   "id": "f9de7b9e-1b52-46b6-b000-39f939f6bf64",
   "metadata": {},
   "outputs": [
    {
     "data": {
      "text/html": [
       "<div>\n",
       "<style scoped>\n",
       "    .dataframe tbody tr th:only-of-type {\n",
       "        vertical-align: middle;\n",
       "    }\n",
       "\n",
       "    .dataframe tbody tr th {\n",
       "        vertical-align: top;\n",
       "    }\n",
       "\n",
       "    .dataframe thead th {\n",
       "        text-align: right;\n",
       "    }\n",
       "</style>\n",
       "<table border=\"1\" class=\"dataframe\">\n",
       "  <thead>\n",
       "    <tr style=\"text-align: right;\">\n",
       "      <th></th>\n",
       "      <th>Churned</th>\n",
       "      <th>Customer_Age</th>\n",
       "      <th>Gender</th>\n",
       "      <th>Dependent_count</th>\n",
       "      <th>Education_Level</th>\n",
       "      <th>Months_on_book</th>\n",
       "      <th>Total_Relationship_Count</th>\n",
       "      <th>Months_Inactive_12_mon</th>\n",
       "      <th>Contacts_Count_12_mon</th>\n",
       "      <th>Credit_Limit</th>\n",
       "      <th>...</th>\n",
       "      <th>Income_Category_$120K +</th>\n",
       "      <th>Income_Category_$40K - $60K</th>\n",
       "      <th>Income_Category_$60K - $80K</th>\n",
       "      <th>Income_Category_$80K - $120K</th>\n",
       "      <th>Income_Category_Less than $40K</th>\n",
       "      <th>Income_Category_Unknown</th>\n",
       "      <th>Card_Category_Blue</th>\n",
       "      <th>Card_Category_Gold</th>\n",
       "      <th>Card_Category_Platinum</th>\n",
       "      <th>Card_Category_Silver</th>\n",
       "    </tr>\n",
       "  </thead>\n",
       "  <tbody>\n",
       "    <tr>\n",
       "      <th>0</th>\n",
       "      <td>0</td>\n",
       "      <td>45</td>\n",
       "      <td>1</td>\n",
       "      <td>3</td>\n",
       "      <td>2</td>\n",
       "      <td>39</td>\n",
       "      <td>5</td>\n",
       "      <td>1</td>\n",
       "      <td>3</td>\n",
       "      <td>12691.0</td>\n",
       "      <td>...</td>\n",
       "      <td>0</td>\n",
       "      <td>0</td>\n",
       "      <td>1</td>\n",
       "      <td>0</td>\n",
       "      <td>0</td>\n",
       "      <td>0</td>\n",
       "      <td>1</td>\n",
       "      <td>0</td>\n",
       "      <td>0</td>\n",
       "      <td>0</td>\n",
       "    </tr>\n",
       "    <tr>\n",
       "      <th>1</th>\n",
       "      <td>0</td>\n",
       "      <td>49</td>\n",
       "      <td>0</td>\n",
       "      <td>5</td>\n",
       "      <td>5</td>\n",
       "      <td>44</td>\n",
       "      <td>6</td>\n",
       "      <td>1</td>\n",
       "      <td>2</td>\n",
       "      <td>8256.0</td>\n",
       "      <td>...</td>\n",
       "      <td>0</td>\n",
       "      <td>0</td>\n",
       "      <td>0</td>\n",
       "      <td>0</td>\n",
       "      <td>1</td>\n",
       "      <td>0</td>\n",
       "      <td>1</td>\n",
       "      <td>0</td>\n",
       "      <td>0</td>\n",
       "      <td>0</td>\n",
       "    </tr>\n",
       "    <tr>\n",
       "      <th>2</th>\n",
       "      <td>0</td>\n",
       "      <td>51</td>\n",
       "      <td>1</td>\n",
       "      <td>3</td>\n",
       "      <td>5</td>\n",
       "      <td>36</td>\n",
       "      <td>4</td>\n",
       "      <td>1</td>\n",
       "      <td>0</td>\n",
       "      <td>3418.0</td>\n",
       "      <td>...</td>\n",
       "      <td>0</td>\n",
       "      <td>0</td>\n",
       "      <td>0</td>\n",
       "      <td>1</td>\n",
       "      <td>0</td>\n",
       "      <td>0</td>\n",
       "      <td>1</td>\n",
       "      <td>0</td>\n",
       "      <td>0</td>\n",
       "      <td>0</td>\n",
       "    </tr>\n",
       "    <tr>\n",
       "      <th>3</th>\n",
       "      <td>0</td>\n",
       "      <td>40</td>\n",
       "      <td>0</td>\n",
       "      <td>4</td>\n",
       "      <td>2</td>\n",
       "      <td>34</td>\n",
       "      <td>3</td>\n",
       "      <td>4</td>\n",
       "      <td>1</td>\n",
       "      <td>3313.0</td>\n",
       "      <td>...</td>\n",
       "      <td>0</td>\n",
       "      <td>0</td>\n",
       "      <td>0</td>\n",
       "      <td>0</td>\n",
       "      <td>1</td>\n",
       "      <td>0</td>\n",
       "      <td>1</td>\n",
       "      <td>0</td>\n",
       "      <td>0</td>\n",
       "      <td>0</td>\n",
       "    </tr>\n",
       "    <tr>\n",
       "      <th>4</th>\n",
       "      <td>0</td>\n",
       "      <td>40</td>\n",
       "      <td>1</td>\n",
       "      <td>3</td>\n",
       "      <td>1</td>\n",
       "      <td>21</td>\n",
       "      <td>5</td>\n",
       "      <td>1</td>\n",
       "      <td>0</td>\n",
       "      <td>4716.0</td>\n",
       "      <td>...</td>\n",
       "      <td>0</td>\n",
       "      <td>0</td>\n",
       "      <td>1</td>\n",
       "      <td>0</td>\n",
       "      <td>0</td>\n",
       "      <td>0</td>\n",
       "      <td>1</td>\n",
       "      <td>0</td>\n",
       "      <td>0</td>\n",
       "      <td>0</td>\n",
       "    </tr>\n",
       "  </tbody>\n",
       "</table>\n",
       "<p>5 rows × 30 columns</p>\n",
       "</div>"
      ],
      "text/plain": [
       "   Churned  Customer_Age  Gender  Dependent_count  Education_Level  \\\n",
       "0        0            45       1                3                2   \n",
       "1        0            49       0                5                5   \n",
       "2        0            51       1                3                5   \n",
       "3        0            40       0                4                2   \n",
       "4        0            40       1                3                1   \n",
       "\n",
       "   Months_on_book  Total_Relationship_Count  Months_Inactive_12_mon  \\\n",
       "0              39                         5                       1   \n",
       "1              44                         6                       1   \n",
       "2              36                         4                       1   \n",
       "3              34                         3                       4   \n",
       "4              21                         5                       1   \n",
       "\n",
       "   Contacts_Count_12_mon  Credit_Limit  ...  Income_Category_$120K +  \\\n",
       "0                      3       12691.0  ...                        0   \n",
       "1                      2        8256.0  ...                        0   \n",
       "2                      0        3418.0  ...                        0   \n",
       "3                      1        3313.0  ...                        0   \n",
       "4                      0        4716.0  ...                        0   \n",
       "\n",
       "   Income_Category_$40K - $60K  Income_Category_$60K - $80K  \\\n",
       "0                            0                            1   \n",
       "1                            0                            0   \n",
       "2                            0                            0   \n",
       "3                            0                            0   \n",
       "4                            0                            1   \n",
       "\n",
       "   Income_Category_$80K - $120K  Income_Category_Less than $40K  \\\n",
       "0                             0                               0   \n",
       "1                             0                               1   \n",
       "2                             1                               0   \n",
       "3                             0                               1   \n",
       "4                             0                               0   \n",
       "\n",
       "   Income_Category_Unknown  Card_Category_Blue  Card_Category_Gold  \\\n",
       "0                        0                   1                   0   \n",
       "1                        0                   1                   0   \n",
       "2                        0                   1                   0   \n",
       "3                        0                   1                   0   \n",
       "4                        0                   1                   0   \n",
       "\n",
       "   Card_Category_Platinum  Card_Category_Silver  \n",
       "0                       0                     0  \n",
       "1                       0                     0  \n",
       "2                       0                     0  \n",
       "3                       0                     0  \n",
       "4                       0                     0  \n",
       "\n",
       "[5 rows x 30 columns]"
      ]
     },
     "execution_count": 44,
     "metadata": {},
     "output_type": "execute_result"
    }
   ],
   "source": [
    "df_model.head()"
   ]
  },
  {
   "cell_type": "code",
   "execution_count": 45,
   "id": "1084f922-f96b-4069-ab04-cbc59ee1186f",
   "metadata": {},
   "outputs": [
    {
     "name": "stdout",
     "output_type": "stream",
     "text": [
      "<class 'pandas.core.frame.DataFrame'>\n",
      "RangeIndex: 10127 entries, 0 to 10126\n",
      "Data columns (total 30 columns):\n",
      " #   Column                          Non-Null Count  Dtype  \n",
      "---  ------                          --------------  -----  \n",
      " 0   Churned                         10127 non-null  int32  \n",
      " 1   Customer_Age                    10127 non-null  int64  \n",
      " 2   Gender                          10127 non-null  int32  \n",
      " 3   Dependent_count                 10127 non-null  int64  \n",
      " 4   Education_Level                 10127 non-null  int32  \n",
      " 5   Months_on_book                  10127 non-null  int64  \n",
      " 6   Total_Relationship_Count        10127 non-null  int64  \n",
      " 7   Months_Inactive_12_mon          10127 non-null  int64  \n",
      " 8   Contacts_Count_12_mon           10127 non-null  int64  \n",
      " 9   Credit_Limit                    10127 non-null  float64\n",
      " 10  Total_Revolving_Bal             10127 non-null  int64  \n",
      " 11  Total_Amt_Chng_Q4_Q1            10127 non-null  float64\n",
      " 12  Total_Trans_Amt                 10127 non-null  int64  \n",
      " 13  Total_Trans_Ct                  10127 non-null  int64  \n",
      " 14  Total_Ct_Chng_Q4_Q1             10127 non-null  float64\n",
      " 15  Avg_Utilization_Ratio           10127 non-null  float64\n",
      " 16  Marital_Status_Divorced         10127 non-null  uint8  \n",
      " 17  Marital_Status_Married          10127 non-null  uint8  \n",
      " 18  Marital_Status_Single           10127 non-null  uint8  \n",
      " 19  Marital_Status_Unknown          10127 non-null  uint8  \n",
      " 20  Income_Category_$120K +         10127 non-null  uint8  \n",
      " 21  Income_Category_$40K - $60K     10127 non-null  uint8  \n",
      " 22  Income_Category_$60K - $80K     10127 non-null  uint8  \n",
      " 23  Income_Category_$80K - $120K    10127 non-null  uint8  \n",
      " 24  Income_Category_Less than $40K  10127 non-null  uint8  \n",
      " 25  Income_Category_Unknown         10127 non-null  uint8  \n",
      " 26  Card_Category_Blue              10127 non-null  uint8  \n",
      " 27  Card_Category_Gold              10127 non-null  uint8  \n",
      " 28  Card_Category_Platinum          10127 non-null  uint8  \n",
      " 29  Card_Category_Silver            10127 non-null  uint8  \n",
      "dtypes: float64(4), int32(3), int64(9), uint8(14)\n",
      "memory usage: 1.3 MB\n"
     ]
    }
   ],
   "source": [
    "df_model.info()"
   ]
  },
  {
   "cell_type": "raw",
   "id": "e65953e0-86cf-44c1-aa38-f1fd04e80ab6",
   "metadata": {
    "tags": []
   },
   "source": [
    "df[\"Marital_Status_Divorced\"]=df[\"Marital_Status_Divorced\"].astype(int)\n",
    "df[\"Marital_Status_Married\"]=df[\"Marital_Status_Married\"].astype(int)\n",
    "df[\"Marital_Status_Single\"]=df[\"Marital_Status_Single\"].astype(int)\n",
    "df[\"Marital_Status_Unknown\"]=df[\"Marital_Status_Unknown\"].astype(int)\n",
    "\n",
    "df[\"Income_Category_$120K +\"]=df[\"Income_Category_$120K +\"].astype(\"int32\")\n",
    "df[\"Income_Category_$40K - $60K\"]=df[\"Income_Category_$40K - $60K\"].astype(\"int32\")\n",
    "df[\"Income_Category_$60K - $80K\"]=df[\"Income_Category_$60K - $80K\"].astype(\"int32\")\n",
    "df[\"Income_Category_$80K - $120K\"]=df[\"Income_Category_$80K - $120K\"].astype(\"int32\")\n",
    "df[\"Income_Category_Less than $40K\"]=df[\"Income_Category_Less than $40K\"].astype(\"int32\")\n",
    "df[\"Income_Category_Unknown\"]=df[\"Income_Category_Unknown\"].astype(\"int32\")\n",
    "\n",
    "df[\"Card_Category_Blue\"]=df[\"Card_Category_Blue\"].astype(\"int32\")\n",
    "df[\"Card_Category_Gold\"]=df[\"Card_Category_Gold\"].astype(\"int32\")\n",
    "df[\"Card_Category_Platinum\"]=df[\"Card_Category_Platinum\"].astype(\"int32\")\n",
    "df[\"Card_Category_Silver\"]=df[\"Card_Category_Silver\"].astype(\"int32\")"
   ]
  },
  {
   "cell_type": "code",
   "execution_count": 46,
   "id": "538cd565-f0ac-4b9a-9f6e-60ebbea11556",
   "metadata": {},
   "outputs": [],
   "source": [
    "x = df_model.drop(\"Churned\", axis=1)\n",
    "y = df_model[\"Churned\"]"
   ]
  },
  {
   "cell_type": "code",
   "execution_count": 47,
   "id": "a132ce3d-8a13-4f3d-a66c-5124b86569d5",
   "metadata": {},
   "outputs": [],
   "source": [
    "x_train, x_test, y_train, y_test = train_test_split(x, y, test_size=0.33, random_state=3)"
   ]
  },
  {
   "cell_type": "markdown",
   "id": "17894c53-7478-483e-be25-d02e848f3717",
   "metadata": {},
   "source": [
    "## Logistic Regression"
   ]
  },
  {
   "cell_type": "code",
   "execution_count": 48,
   "id": "665b539d-066b-49b3-9097-8440717ff105",
   "metadata": {},
   "outputs": [
    {
     "name": "stderr",
     "output_type": "stream",
     "text": [
      "C:\\Users\\Mehmet\\anaconda3\\lib\\site-packages\\sklearn\\linear_model\\_logistic.py:814: ConvergenceWarning: lbfgs failed to converge (status=1):\n",
      "STOP: TOTAL NO. of ITERATIONS REACHED LIMIT.\n",
      "\n",
      "Increase the number of iterations (max_iter) or scale the data as shown in:\n",
      "    https://scikit-learn.org/stable/modules/preprocessing.html\n",
      "Please also refer to the documentation for alternative solver options:\n",
      "    https://scikit-learn.org/stable/modules/linear_model.html#logistic-regression\n",
      "  n_iter_i = _check_optimize_result(\n"
     ]
    },
    {
     "data": {
      "text/plain": [
       "LogisticRegression()"
      ]
     },
     "execution_count": 48,
     "metadata": {},
     "output_type": "execute_result"
    }
   ],
   "source": [
    "logr= LogisticRegression()\n",
    "logr.fit(x_train, y_train)"
   ]
  },
  {
   "cell_type": "code",
   "execution_count": 49,
   "id": "07e27e8b-4ccb-4e72-b374-534d433d6073",
   "metadata": {},
   "outputs": [],
   "source": [
    "logr_predicts= logr.predict(x_test)"
   ]
  },
  {
   "cell_type": "code",
   "execution_count": 50,
   "id": "e3ef0941-c079-4778-aac8-b0e7ae64e949",
   "metadata": {},
   "outputs": [
    {
     "name": "stdout",
     "output_type": "stream",
     "text": [
      "\n",
      "Logistic Regression Confusion Matrix:\n",
      "\n",
      "[[2698  120]\n",
      " [ 309  215]]\n"
     ]
    }
   ],
   "source": [
    "logr_cm= confusion_matrix(y_test, logr_predicts)\n",
    "print(\"\\nLogistic Regression Confusion Matrix:\\n\")\n",
    "print(logr_cm)"
   ]
  },
  {
   "cell_type": "code",
   "execution_count": 51,
   "id": "c109aa09-5beb-4f88-a3aa-22b681bec116",
   "metadata": {},
   "outputs": [
    {
     "name": "stdout",
     "output_type": "stream",
     "text": [
      "              precision    recall  f1-score   support\n",
      "\n",
      " Not Churned       0.90      0.96      0.93      2818\n",
      "     Churned       0.64      0.41      0.50       524\n",
      "\n",
      "    accuracy                           0.87      3342\n",
      "   macro avg       0.77      0.68      0.71      3342\n",
      "weighted avg       0.86      0.87      0.86      3342\n",
      "\n"
     ]
    }
   ],
   "source": [
    "target_names = ['Not Churned', 'Churned']\n",
    "print(classification_report(y_test, logr_predicts, target_names=target_names))"
   ]
  },
  {
   "cell_type": "markdown",
   "id": "5f5555d5-275d-45c4-9d5f-6ca9e7b0ca9c",
   "metadata": {},
   "source": [
    "* Precision-Recall Curve"
   ]
  },
  {
   "cell_type": "code",
   "execution_count": 52,
   "id": "7d048db3-e144-4fde-b34c-63d87eff58aa",
   "metadata": {},
   "outputs": [
    {
     "name": "stdout",
     "output_type": "stream",
     "text": [
      "Threshold = 0.00 | Accuracy = 0.157, Completeness = 1.000 | F1 = 0.271\n",
      "Threshold = 0.01 | Accuracy = 0.184, Completeness = 0.998 | F1 = 0.310\n",
      "Threshold = 0.02 | Accuracy = 0.214, Completeness = 0.994 | F1 = 0.352\n",
      "Threshold = 0.03 | Accuracy = 0.240, Completeness = 0.989 | F1 = 0.387\n",
      "Threshold = 0.04 | Accuracy = 0.264, Completeness = 0.979 | F1 = 0.416\n",
      "Threshold = 0.05 | Accuracy = 0.281, Completeness = 0.956 | F1 = 0.435\n",
      "Threshold = 0.06 | Accuracy = 0.303, Completeness = 0.948 | F1 = 0.460\n",
      "Threshold = 0.07 | Accuracy = 0.324, Completeness = 0.947 | F1 = 0.482\n",
      "Threshold = 0.08 | Accuracy = 0.338, Completeness = 0.926 | F1 = 0.495\n",
      "Threshold = 0.09 | Accuracy = 0.351, Completeness = 0.912 | F1 = 0.507\n",
      "Threshold = 0.10 | Accuracy = 0.365, Completeness = 0.905 | F1 = 0.521\n",
      "Threshold = 0.11 | Accuracy = 0.376, Completeness = 0.893 | F1 = 0.529\n",
      "Threshold = 0.12 | Accuracy = 0.387, Completeness = 0.876 | F1 = 0.537\n",
      "Threshold = 0.13 | Accuracy = 0.398, Completeness = 0.868 | F1 = 0.546\n",
      "Threshold = 0.14 | Accuracy = 0.407, Completeness = 0.844 | F1 = 0.549\n",
      "Threshold = 0.15 | Accuracy = 0.418, Completeness = 0.832 | F1 = 0.557\n",
      "Threshold = 0.16 | Accuracy = 0.422, Completeness = 0.811 | F1 = 0.555\n",
      "Threshold = 0.17 | Accuracy = 0.429, Completeness = 0.800 | F1 = 0.559\n",
      "Threshold = 0.18 | Accuracy = 0.437, Completeness = 0.788 | F1 = 0.562\n",
      "Threshold = 0.19 | Accuracy = 0.446, Completeness = 0.782 | F1 = 0.568\n",
      "Threshold = 0.20 | Accuracy = 0.455, Completeness = 0.769 | F1 = 0.572\n",
      "Threshold = 0.21 | Accuracy = 0.466, Completeness = 0.758 | F1 = 0.577\n",
      "Threshold = 0.22 | Accuracy = 0.472, Completeness = 0.744 | F1 = 0.578\n",
      "Threshold = 0.23 | Accuracy = 0.478, Completeness = 0.725 | F1 = 0.576\n",
      "Threshold = 0.24 | Accuracy = 0.483, Completeness = 0.718 | F1 = 0.577\n",
      "Threshold = 0.25 | Accuracy = 0.486, Completeness = 0.706 | F1 = 0.576\n",
      "Threshold = 0.26 | Accuracy = 0.491, Completeness = 0.685 | F1 = 0.572\n",
      "Threshold = 0.27 | Accuracy = 0.505, Completeness = 0.676 | F1 = 0.578\n",
      "Threshold = 0.28 | Accuracy = 0.517, Completeness = 0.660 | F1 = 0.580\n",
      "Threshold = 0.29 | Accuracy = 0.525, Completeness = 0.649 | F1 = 0.580\n",
      "Threshold = 0.30 | Accuracy = 0.533, Completeness = 0.630 | F1 = 0.577\n",
      "Threshold = 0.31 | Accuracy = 0.543, Completeness = 0.626 | F1 = 0.582\n",
      "Threshold = 0.32 | Accuracy = 0.554, Completeness = 0.618 | F1 = 0.584\n",
      "Threshold = 0.33 | Accuracy = 0.554, Completeness = 0.595 | F1 = 0.574\n",
      "Threshold = 0.34 | Accuracy = 0.560, Completeness = 0.582 | F1 = 0.571\n",
      "Threshold = 0.35 | Accuracy = 0.564, Completeness = 0.571 | F1 = 0.567\n",
      "Threshold = 0.36 | Accuracy = 0.569, Completeness = 0.561 | F1 = 0.565\n",
      "Threshold = 0.37 | Accuracy = 0.573, Completeness = 0.555 | F1 = 0.564\n",
      "Threshold = 0.38 | Accuracy = 0.577, Completeness = 0.548 | F1 = 0.562\n",
      "Threshold = 0.39 | Accuracy = 0.591, Completeness = 0.538 | F1 = 0.563\n",
      "Threshold = 0.40 | Accuracy = 0.597, Completeness = 0.523 | F1 = 0.557\n",
      "Threshold = 0.41 | Accuracy = 0.600, Completeness = 0.506 | F1 = 0.549\n",
      "Threshold = 0.42 | Accuracy = 0.601, Completeness = 0.492 | F1 = 0.541\n",
      "Threshold = 0.43 | Accuracy = 0.607, Completeness = 0.481 | F1 = 0.537\n",
      "Threshold = 0.44 | Accuracy = 0.616, Completeness = 0.471 | F1 = 0.534\n",
      "Threshold = 0.45 | Accuracy = 0.620, Completeness = 0.468 | F1 = 0.533\n",
      "Threshold = 0.46 | Accuracy = 0.620, Completeness = 0.452 | F1 = 0.523\n",
      "Threshold = 0.47 | Accuracy = 0.625, Completeness = 0.443 | F1 = 0.518\n",
      "Threshold = 0.48 | Accuracy = 0.634, Completeness = 0.433 | F1 = 0.515\n",
      "Threshold = 0.49 | Accuracy = 0.636, Completeness = 0.424 | F1 = 0.509\n",
      "Threshold = 0.50 | Accuracy = 0.642, Completeness = 0.410 | F1 = 0.501\n",
      "Threshold = 0.51 | Accuracy = 0.643, Completeness = 0.403 | F1 = 0.495\n",
      "Threshold = 0.52 | Accuracy = 0.649, Completeness = 0.387 | F1 = 0.485\n",
      "Threshold = 0.53 | Accuracy = 0.666, Completeness = 0.380 | F1 = 0.484\n",
      "Threshold = 0.54 | Accuracy = 0.667, Completeness = 0.363 | F1 = 0.470\n",
      "Threshold = 0.55 | Accuracy = 0.684, Completeness = 0.359 | F1 = 0.471\n",
      "Threshold = 0.56 | Accuracy = 0.696, Completeness = 0.345 | F1 = 0.462\n",
      "Threshold = 0.57 | Accuracy = 0.700, Completeness = 0.338 | F1 = 0.456\n",
      "Threshold = 0.58 | Accuracy = 0.705, Completeness = 0.324 | F1 = 0.444\n",
      "Threshold = 0.59 | Accuracy = 0.717, Completeness = 0.319 | F1 = 0.441\n",
      "Threshold = 0.60 | Accuracy = 0.729, Completeness = 0.303 | F1 = 0.429\n",
      "Threshold = 0.61 | Accuracy = 0.740, Completeness = 0.294 | F1 = 0.421\n",
      "Threshold = 0.62 | Accuracy = 0.742, Completeness = 0.281 | F1 = 0.407\n",
      "Threshold = 0.63 | Accuracy = 0.747, Completeness = 0.271 | F1 = 0.398\n",
      "Threshold = 0.64 | Accuracy = 0.746, Completeness = 0.263 | F1 = 0.389\n",
      "Threshold = 0.65 | Accuracy = 0.747, Completeness = 0.254 | F1 = 0.379\n",
      "Threshold = 0.66 | Accuracy = 0.755, Completeness = 0.235 | F1 = 0.358\n",
      "Threshold = 0.67 | Accuracy = 0.782, Completeness = 0.219 | F1 = 0.343\n",
      "Threshold = 0.68 | Accuracy = 0.794, Completeness = 0.206 | F1 = 0.327\n",
      "Threshold = 0.69 | Accuracy = 0.800, Completeness = 0.198 | F1 = 0.318\n",
      "Threshold = 0.70 | Accuracy = 0.806, Completeness = 0.191 | F1 = 0.309\n",
      "Threshold = 0.71 | Accuracy = 0.800, Completeness = 0.183 | F1 = 0.298\n",
      "Threshold = 0.72 | Accuracy = 0.818, Completeness = 0.172 | F1 = 0.284\n",
      "Threshold = 0.73 | Accuracy = 0.821, Completeness = 0.166 | F1 = 0.276\n",
      "Threshold = 0.74 | Accuracy = 0.820, Completeness = 0.156 | F1 = 0.263\n",
      "Threshold = 0.75 | Accuracy = 0.828, Completeness = 0.147 | F1 = 0.250\n",
      "Threshold = 0.76 | Accuracy = 0.833, Completeness = 0.134 | F1 = 0.230\n",
      "Threshold = 0.77 | Accuracy = 0.846, Completeness = 0.126 | F1 = 0.219\n",
      "Threshold = 0.78 | Accuracy = 0.847, Completeness = 0.116 | F1 = 0.205\n",
      "Threshold = 0.79 | Accuracy = 0.873, Completeness = 0.105 | F1 = 0.187\n",
      "Threshold = 0.80 | Accuracy = 0.864, Completeness = 0.097 | F1 = 0.175\n",
      "Threshold = 0.81 | Accuracy = 0.875, Completeness = 0.094 | F1 = 0.169\n",
      "Threshold = 0.82 | Accuracy = 0.882, Completeness = 0.086 | F1 = 0.157\n",
      "Threshold = 0.83 | Accuracy = 0.886, Completeness = 0.074 | F1 = 0.137\n",
      "Threshold = 0.84 | Accuracy = 0.886, Completeness = 0.074 | F1 = 0.137\n",
      "Threshold = 0.85 | Accuracy = 0.949, Completeness = 0.071 | F1 = 0.131\n",
      "Threshold = 0.86 | Accuracy = 0.939, Completeness = 0.059 | F1 = 0.111\n",
      "Threshold = 0.87 | Accuracy = 0.929, Completeness = 0.050 | F1 = 0.094\n",
      "Threshold = 0.88 | Accuracy = 0.913, Completeness = 0.040 | F1 = 0.077\n",
      "Threshold = 0.89 | Accuracy = 0.941, Completeness = 0.031 | F1 = 0.059\n",
      "Threshold = 0.90 | Accuracy = 0.941, Completeness = 0.031 | F1 = 0.059\n",
      "Threshold = 0.91 | Accuracy = 1.000, Completeness = 0.025 | F1 = 0.048\n",
      "Threshold = 0.92 | Accuracy = 1.000, Completeness = 0.015 | F1 = 0.030\n",
      "Threshold = 0.93 | Accuracy = 1.000, Completeness = 0.010 | F1 = 0.019\n",
      "Threshold = 0.94 | Accuracy = 1.000, Completeness = 0.004 | F1 = 0.008\n"
     ]
    }
   ],
   "source": [
    "logr_class1_probs = logr.predict_proba(x_test)[:, 1]\n",
    "\n",
    "f1_list = []\n",
    "\n",
    "for threshold in np.arange(0, 0.95, 0.01):\n",
    "    logr_thresh_predicts = logr_class1_probs > threshold\n",
    "    precision = precision_score(y_test, logr_thresh_predicts)\n",
    "    recall = recall_score(y_test, logr_thresh_predicts)\n",
    "    f1 = f1_score(y_test, logr_thresh_predicts)\n",
    "    f1_list.append(f1)\n",
    "\n",
    "    print(\"Threshold = {:.2f} | Accuracy = {:.3f}, Completeness = {:.3f} | F1 = {:.3f}\".format(\n",
    "        threshold, precision, recall, f1))"
   ]
  },
  {
   "cell_type": "code",
   "execution_count": 53,
   "id": "8aeaec0b-cd5b-4ea8-bc0f-a9ef061ddd67",
   "metadata": {},
   "outputs": [
    {
     "name": "stdout",
     "output_type": "stream",
     "text": [
      "Maximum f1 score is: 0.584 and best threshold is: 0.32\n"
     ]
    }
   ],
   "source": [
    "f1_list = np.asarray(f1_list)\n",
    "\n",
    "for threshold in np.arange(0, 0.95, 0.01):\n",
    "    logr_thresh_predicts = logr_class1_probs > threshold\n",
    "    f1 = f1_score(y_test, logr_thresh_predicts)\n",
    "    if f1_list.max() == f1:\n",
    "        logr_best_threshold = threshold\n",
    "\n",
    "print(\"Maximum f1 score is: %.3f\" % f1_list.max(),\"and best threshold is:\", logr_best_threshold)"
   ]
  },
  {
   "cell_type": "code",
   "execution_count": 54,
   "id": "343354c7-3b6a-493c-9ac1-68cc646147fb",
   "metadata": {},
   "outputs": [
    {
     "data": {
      "image/png": "[encoded data removed]",
      "text/plain": [
       "<Figure size 720x720 with 1 Axes>"
      ]
     },
     "metadata": {},
     "output_type": "display_data"
    }
   ],
   "source": [
    "precision, recall, threshold = precision_recall_curve(y_test, logr_class1_probs)\n",
    "\n",
    "sns.set_theme(style= \"whitegrid\")\n",
    "plt.figure(figsize=(10,10))\n",
    "plt.step(recall, precision)\n",
    "plt.xlabel('Recall')\n",
    "plt.ylabel('Precision')\n",
    "plt.ylim([0.0, 1.05])\n",
    "plt.xlim([0.0, 1.0])\n",
    "plt.title('Precision-Recall')\n",
    "plt.show()"
   ]
  },
  {
   "cell_type": "code",
   "execution_count": 55,
   "id": "45b0a038-a09a-4394-b728-ec281d577e7b",
   "metadata": {},
   "outputs": [
    {
     "name": "stdout",
     "output_type": "stream",
     "text": [
      "Logistic Regression AUC score: 0.610\n"
     ]
    }
   ],
   "source": [
    "print('Logistic Regression AUC score: %.3f' % average_precision_score(y_test, logr_class1_probs)) "
   ]
  },
  {
   "cell_type": "code",
   "execution_count": 56,
   "id": "25cc6456-b982-43ec-9fde-652707e2f110",
   "metadata": {},
   "outputs": [],
   "source": [
    "def custom_predict(X, threshold):\n",
    "    #probs = logr.predict_proba(x_test) \n",
    "    return (logr_class1_probs > threshold).astype(int)\n",
    "    \n",
    "    \n",
    "logr_thresh_predicts = custom_predict(X = x_test, threshold = logr_best_threshold) "
   ]
  },
  {
   "cell_type": "code",
   "execution_count": 57,
   "id": "e3769f15-fc62-477e-8b73-63afaacbfe1a",
   "metadata": {},
   "outputs": [
    {
     "name": "stdout",
     "output_type": "stream",
     "text": [
      "\n",
      "Logistic Regression Confusion Matrix:\n",
      "\n",
      "[[2557  261]\n",
      " [ 200  324]]\n"
     ]
    }
   ],
   "source": [
    "logr_thresh_cm= confusion_matrix(y_test, logr_thresh_predicts)\n",
    "print(\"\\nLogistic Regression Confusion Matrix:\\n\")\n",
    "print(logr_thresh_cm)"
   ]
  },
  {
   "cell_type": "code",
   "execution_count": 58,
   "id": "6a4b3b80-c602-4ffa-a69d-0f99a470a365",
   "metadata": {},
   "outputs": [
    {
     "name": "stdout",
     "output_type": "stream",
     "text": [
      "              precision    recall  f1-score   support\n",
      "\n",
      " Not Churned       0.93      0.91      0.92      2818\n",
      "     Churned       0.55      0.62      0.58       524\n",
      "\n",
      "    accuracy                           0.86      3342\n",
      "   macro avg       0.74      0.76      0.75      3342\n",
      "weighted avg       0.87      0.86      0.87      3342\n",
      "\n"
     ]
    }
   ],
   "source": [
    "target_names = ['Not Churned', 'Churned']\n",
    "print(classification_report(y_test, logr_thresh_predicts, target_names=target_names))"
   ]
  },
  {
   "cell_type": "code",
   "execution_count": 59,
   "id": "86db68fa-d606-4448-af31-d35d19b5d736",
   "metadata": {},
   "outputs": [
    {
     "name": "stdout",
     "output_type": "stream",
     "text": [
      "Logistic Regression Brier Score: 0.08903616482795411\n"
     ]
    }
   ],
   "source": [
    "print(\"Logistic Regression Brier Score:\",brier_score_loss(y_test, logr_class1_probs))"
   ]
  },
  {
   "cell_type": "markdown",
   "id": "685697dc-868a-4b59-84bc-80833210571a",
   "metadata": {},
   "source": [
    "* Model Tuning"
   ]
  },
  {
   "cell_type": "code",
   "execution_count": 60,
   "id": "566a704b-9589-4279-8676-3ed9486e68e5",
   "metadata": {},
   "outputs": [],
   "source": [
    "logr_prmt = {\"penalty\": [\"l1\", \"l2\", \"elastic_net\", \"none\"],\n",
    "           \"C\": [1, 5, 10, 0.5, 0.1, 0.05],\n",
    "           \"class_weight\": [\"balanced\", \"weight\"],\n",
    "           \"solver\" : ['newton-cg', 'lbfgs', 'liblinear', 'sag', 'saga']\n",
    "          }"
   ]
  },
  {
   "cell_type": "code",
   "execution_count": 61,
   "id": "5c7b5d66-ab8a-48e5-bc75-dcb9a10bcec8",
   "metadata": {},
   "outputs": [],
   "source": [
    "logr_cv_model = GridSearchCV(logr, \n",
    "                           logr_prmt, \n",
    "                           cv = 10, \n",
    "                            n_jobs = -1)"
   ]
  },
  {
   "cell_type": "code",
   "execution_count": 62,
   "id": "76159c71-6d53-441d-a5a4-f8670d6075b1",
   "metadata": {},
   "outputs": [
    {
     "name": "stderr",
     "output_type": "stream",
     "text": [
      "C:\\Users\\Mehmet\\anaconda3\\lib\\site-packages\\sklearn\\model_selection\\_validation.py:372: FitFailedWarning: \n",
      "1200 fits failed out of a total of 2400.\n",
      "The score on these train-test partitions for these parameters will be set to nan.\n",
      "If these failures are not expected, you can try to debug them by setting error_score='raise'.\n",
      "\n",
      "Below are more details about the failures:\n",
      "--------------------------------------------------------------------------------\n",
      "120 fits failed with the following error:\n",
      "Traceback (most recent call last):\n",
      "  File \"C:\\Users\\Mehmet\\anaconda3\\lib\\site-packages\\sklearn\\model_selection\\_validation.py\", line 680, in _fit_and_score\n",
      "    estimator.fit(X_train, y_train, **fit_params)\n",
      "  File \"C:\\Users\\Mehmet\\anaconda3\\lib\\site-packages\\sklearn\\linear_model\\_logistic.py\", line 1461, in fit\n",
      "    solver = _check_solver(self.solver, self.penalty, self.dual)\n",
      "  File \"C:\\Users\\Mehmet\\anaconda3\\lib\\site-packages\\sklearn\\linear_model\\_logistic.py\", line 447, in _check_solver\n",
      "    raise ValueError(\n",
      "ValueError: Solver newton-cg supports only 'l2' or 'none' penalties, got l1 penalty.\n",
      "\n",
      "--------------------------------------------------------------------------------\n",
      "120 fits failed with the following error:\n",
      "Traceback (most recent call last):\n",
      "  File \"C:\\Users\\Mehmet\\anaconda3\\lib\\site-packages\\sklearn\\model_selection\\_validation.py\", line 680, in _fit_and_score\n",
      "    estimator.fit(X_train, y_train, **fit_params)\n",
      "  File \"C:\\Users\\Mehmet\\anaconda3\\lib\\site-packages\\sklearn\\linear_model\\_logistic.py\", line 1461, in fit\n",
      "    solver = _check_solver(self.solver, self.penalty, self.dual)\n",
      "  File \"C:\\Users\\Mehmet\\anaconda3\\lib\\site-packages\\sklearn\\linear_model\\_logistic.py\", line 447, in _check_solver\n",
      "    raise ValueError(\n",
      "ValueError: Solver lbfgs supports only 'l2' or 'none' penalties, got l1 penalty.\n",
      "\n",
      "--------------------------------------------------------------------------------\n",
      "120 fits failed with the following error:\n",
      "Traceback (most recent call last):\n",
      "  File \"C:\\Users\\Mehmet\\anaconda3\\lib\\site-packages\\sklearn\\model_selection\\_validation.py\", line 680, in _fit_and_score\n",
      "    estimator.fit(X_train, y_train, **fit_params)\n",
      "  File \"C:\\Users\\Mehmet\\anaconda3\\lib\\site-packages\\sklearn\\linear_model\\_logistic.py\", line 1461, in fit\n",
      "    solver = _check_solver(self.solver, self.penalty, self.dual)\n",
      "  File \"C:\\Users\\Mehmet\\anaconda3\\lib\\site-packages\\sklearn\\linear_model\\_logistic.py\", line 447, in _check_solver\n",
      "    raise ValueError(\n",
      "ValueError: Solver sag supports only 'l2' or 'none' penalties, got l1 penalty.\n",
      "\n",
      "--------------------------------------------------------------------------------\n",
      "600 fits failed with the following error:\n",
      "Traceback (most recent call last):\n",
      "  File \"C:\\Users\\Mehmet\\anaconda3\\lib\\site-packages\\sklearn\\model_selection\\_validation.py\", line 680, in _fit_and_score\n",
      "    estimator.fit(X_train, y_train, **fit_params)\n",
      "  File \"C:\\Users\\Mehmet\\anaconda3\\lib\\site-packages\\sklearn\\linear_model\\_logistic.py\", line 1461, in fit\n",
      "    solver = _check_solver(self.solver, self.penalty, self.dual)\n",
      "  File \"C:\\Users\\Mehmet\\anaconda3\\lib\\site-packages\\sklearn\\linear_model\\_logistic.py\", line 441, in _check_solver\n",
      "    raise ValueError(\n",
      "ValueError: Logistic Regression supports only penalties in ['l1', 'l2', 'elasticnet', 'none'], got elastic_net.\n",
      "\n",
      "--------------------------------------------------------------------------------\n",
      "120 fits failed with the following error:\n",
      "Traceback (most recent call last):\n",
      "  File \"C:\\Users\\Mehmet\\anaconda3\\lib\\site-packages\\sklearn\\model_selection\\_validation.py\", line 680, in _fit_and_score\n",
      "    estimator.fit(X_train, y_train, **fit_params)\n",
      "  File \"C:\\Users\\Mehmet\\anaconda3\\lib\\site-packages\\sklearn\\linear_model\\_logistic.py\", line 1461, in fit\n",
      "    solver = _check_solver(self.solver, self.penalty, self.dual)\n",
      "  File \"C:\\Users\\Mehmet\\anaconda3\\lib\\site-packages\\sklearn\\linear_model\\_logistic.py\", line 464, in _check_solver\n",
      "    raise ValueError(\"penalty='none' is not supported for the liblinear solver\")\n",
      "ValueError: penalty='none' is not supported for the liblinear solver\n",
      "\n",
      "--------------------------------------------------------------------------------\n",
      "120 fits failed with the following error:\n",
      "Traceback (most recent call last):\n",
      "  File \"C:\\Users\\Mehmet\\anaconda3\\lib\\site-packages\\sklearn\\model_selection\\_validation.py\", line 680, in _fit_and_score\n",
      "    estimator.fit(X_train, y_train, **fit_params)\n",
      "  File \"C:\\Users\\Mehmet\\anaconda3\\lib\\site-packages\\sklearn\\linear_model\\_logistic.py\", line 1528, in fit\n",
      "    self.coef_, self.intercept_, n_iter_ = _fit_liblinear(\n",
      "  File \"C:\\Users\\Mehmet\\anaconda3\\lib\\site-packages\\sklearn\\svm\\_base.py\", line 1150, in _fit_liblinear\n",
      "    class_weight_ = compute_class_weight(class_weight, classes=classes_, y=y)\n",
      "  File \"C:\\Users\\Mehmet\\anaconda3\\lib\\site-packages\\sklearn\\utils\\class_weight.py\", line 58, in compute_class_weight\n",
      "    raise ValueError(\n",
      "ValueError: class_weight must be dict, 'balanced', or None, got: 'weight'\n",
      "\n",
      "  warnings.warn(some_fits_failed_message, FitFailedWarning)\n",
      "C:\\Users\\Mehmet\\anaconda3\\lib\\site-packages\\sklearn\\model_selection\\_search.py:969: UserWarning: One or more of the test scores are non-finite: [       nan        nan 0.84406489        nan 0.79956143 0.84465464\n",
      " 0.80486313 0.84465508 0.78187557 0.79956143        nan        nan\n",
      "        nan        nan        nan 0.84465464 0.81090164        nan\n",
      " 0.78128647 0.79956143        nan        nan        nan        nan\n",
      " 0.83743576 0.90095881 0.88135446        nan 0.83743576 0.83743576\n",
      "        nan        nan        nan        nan        nan 0.90051568\n",
      " 0.88342066        nan 0.83743576 0.83743576        nan        nan\n",
      " 0.84435987        nan 0.79941394 0.84450715 0.80663087 0.84671671\n",
      " 0.78172829 0.79970871        nan        nan        nan        nan\n",
      "        nan 0.84465464 0.81090164        nan 0.78187535 0.79956143\n",
      "        nan        nan        nan        nan 0.83743576 0.9016954\n",
      " 0.88106077        nan 0.83743576 0.83743576        nan        nan\n",
      "        nan        nan        nan 0.90051568 0.88342066        nan\n",
      " 0.83743576 0.83743576        nan        nan 0.84406511        nan\n",
      " 0.79956143 0.84465464 0.81016526 0.84539189 0.78217012 0.79941394\n",
      "        nan        nan        nan        nan        nan 0.84465464\n",
      " 0.81090164        nan 0.78113832 0.79956143        nan        nan\n",
      "        nan        nan 0.83743576 0.90036906 0.88253722        nan\n",
      " 0.83743576 0.83743576        nan        nan        nan        nan\n",
      "        nan 0.90051568 0.88342066        nan 0.83743576 0.83743576\n",
      "        nan        nan 0.84288603        nan 0.79970871 0.8439174\n",
      " 0.80766093 0.8439174  0.78143374 0.79970871        nan        nan\n",
      "        nan        nan        nan 0.84465464 0.81090164        nan\n",
      " 0.7815808  0.79970871        nan        nan        nan        nan\n",
      " 0.83743576 0.90081088 0.88135576        nan 0.83743576 0.83743576\n",
      "        nan        nan        nan        nan        nan 0.90051568\n",
      " 0.88342066        nan 0.83743576 0.83743576        nan        nan\n",
      " 0.84141198        nan 0.79970871 0.84067516 0.81001256 0.84037953\n",
      " 0.78158123 0.79956143        nan        nan        nan        nan\n",
      "        nan 0.84465464 0.81090164        nan 0.78113876 0.79956143\n",
      "        nan        nan        nan        nan 0.83743576 0.89978017\n",
      " 0.87884925        nan 0.83743576 0.83743576        nan        nan\n",
      "        nan        nan        nan 0.90051568 0.88342066        nan\n",
      " 0.83743576 0.83743576        nan        nan 0.83861114        nan\n",
      " 0.79956143 0.83816931 0.80840013 0.8372837  0.78143352 0.79956143\n",
      "        nan        nan        nan        nan        nan 0.84465464\n",
      " 0.81090164        nan 0.78172829 0.79956143        nan        nan\n",
      "        nan        nan 0.83743576 0.89963377 0.88106077        nan\n",
      " 0.83743576 0.83743576        nan        nan        nan        nan\n",
      "        nan 0.90051568 0.88342066        nan 0.83743576 0.83743576]\n",
      "  warnings.warn(\n",
      "C:\\Users\\Mehmet\\anaconda3\\lib\\site-packages\\sklearn\\utils\\optimize.py:210: ConvergenceWarning: newton-cg failed to converge. Increase the number of iterations.\n",
      "  warnings.warn(\n"
     ]
    },
    {
     "data": {
      "text/plain": [
       "GridSearchCV(cv=10, estimator=LogisticRegression(), n_jobs=-1,\n",
       "             param_grid={'C': [1, 5, 10, 0.5, 0.1, 0.05],\n",
       "                         'class_weight': ['balanced', 'weight'],\n",
       "                         'penalty': ['l1', 'l2', 'elastic_net', 'none'],\n",
       "                         'solver': ['newton-cg', 'lbfgs', 'liblinear', 'sag',\n",
       "                                    'saga']})"
      ]
     },
     "execution_count": 62,
     "metadata": {},
     "output_type": "execute_result"
    }
   ],
   "source": [
    "logr_cv_model.fit(x_train, y_train)"
   ]
  },
  {
   "cell_type": "code",
   "execution_count": 63,
   "id": "79d05bf8-898f-4f82-ae38-569e824f404f",
   "metadata": {},
   "outputs": [
    {
     "name": "stdout",
     "output_type": "stream",
     "text": [
      "Best parameters: {'C': 5, 'class_weight': 'weight', 'penalty': 'l2', 'solver': 'newton-cg'}\n"
     ]
    }
   ],
   "source": [
    "print(\"Best parameters:\", logr_cv_model.best_params_)"
   ]
  },
  {
   "cell_type": "code",
   "execution_count": 64,
   "id": "a4213bd4-2b94-447b-96f8-97a4055add78",
   "metadata": {},
   "outputs": [
    {
     "name": "stderr",
     "output_type": "stream",
     "text": [
      "C:\\Users\\Mehmet\\anaconda3\\lib\\site-packages\\sklearn\\utils\\optimize.py:210: ConvergenceWarning: newton-cg failed to converge. Increase the number of iterations.\n",
      "  warnings.warn(\n"
     ]
    },
    {
     "data": {
      "text/plain": [
       "LogisticRegression(C=5, class_weight='weight', solver='newton-cg')"
      ]
     },
     "execution_count": 64,
     "metadata": {},
     "output_type": "execute_result"
    }
   ],
   "source": [
    "logr_tuned= LogisticRegression(C=logr_cv_model.best_params_[\"C\"], \n",
    "                       class_weight=logr_cv_model.best_params_[\"class_weight\"],\n",
    "                       penalty=logr_cv_model.best_params_[\"penalty\"],\n",
    "                       solver=logr_cv_model.best_params_[\"solver\"])\n",
    "\n",
    "logr_tuned.fit(x_train, y_train)"
   ]
  },
  {
   "cell_type": "code",
   "execution_count": 65,
   "id": "be7ff8bc-9470-435e-8329-754779d2deeb",
   "metadata": {},
   "outputs": [
    {
     "name": "stdout",
     "output_type": "stream",
     "text": [
      "\n",
      "Logistic Regression Confusion Matrix:\n",
      "\n",
      "[[2721   97]\n",
      " [ 223  301]]\n"
     ]
    }
   ],
   "source": [
    "logr_tuned_predicts= logr_tuned.predict(x_test)\n",
    "\n",
    "logr_tuned_cm = confusion_matrix(y_test, logr_tuned_predicts)\n",
    "print(\"\\nLogistic Regression Confusion Matrix:\\n\")\n",
    "print(logr_tuned_cm)"
   ]
  },
  {
   "cell_type": "code",
   "execution_count": 66,
   "id": "65759111-765e-494f-b407-1d03ea320aea",
   "metadata": {},
   "outputs": [
    {
     "name": "stdout",
     "output_type": "stream",
     "text": [
      "              precision    recall  f1-score   support\n",
      "\n",
      " Not Churned       0.92      0.97      0.94      2818\n",
      "     Churned       0.76      0.57      0.65       524\n",
      "\n",
      "    accuracy                           0.90      3342\n",
      "   macro avg       0.84      0.77      0.80      3342\n",
      "weighted avg       0.90      0.90      0.90      3342\n",
      "\n"
     ]
    }
   ],
   "source": [
    "print(classification_report(y_test, logr_tuned_predicts, target_names=target_names))"
   ]
  },
  {
   "cell_type": "markdown",
   "id": "134ac2d5-37db-48ad-bbfd-d4ca05bcd3e8",
   "metadata": {},
   "source": [
    "* Final Model"
   ]
  },
  {
   "cell_type": "code",
   "execution_count": 67,
   "id": "c6f9f9da-a060-48ae-bb42-aeceb7dfc9ea",
   "metadata": {},
   "outputs": [
    {
     "name": "stdout",
     "output_type": "stream",
     "text": [
      "Threshold = 0.00 | Accuracy = 0.157, Completeness = 1.000 | F1 = 0.271\n",
      "Threshold = 0.01 | Accuracy = 0.209, Completeness = 0.996 | F1 = 0.345\n",
      "Threshold = 0.02 | Accuracy = 0.247, Completeness = 0.989 | F1 = 0.396\n",
      "Threshold = 0.03 | Accuracy = 0.278, Completeness = 0.987 | F1 = 0.433\n",
      "Threshold = 0.04 | Accuracy = 0.303, Completeness = 0.981 | F1 = 0.462\n",
      "Threshold = 0.05 | Accuracy = 0.327, Completeness = 0.968 | F1 = 0.489\n",
      "Threshold = 0.06 | Accuracy = 0.349, Completeness = 0.956 | F1 = 0.511\n",
      "Threshold = 0.07 | Accuracy = 0.367, Completeness = 0.943 | F1 = 0.528\n",
      "Threshold = 0.08 | Accuracy = 0.383, Completeness = 0.933 | F1 = 0.543\n",
      "Threshold = 0.09 | Accuracy = 0.399, Completeness = 0.922 | F1 = 0.556\n",
      "Threshold = 0.10 | Accuracy = 0.412, Completeness = 0.916 | F1 = 0.568\n",
      "Threshold = 0.11 | Accuracy = 0.428, Completeness = 0.908 | F1 = 0.582\n",
      "Threshold = 0.12 | Accuracy = 0.446, Completeness = 0.903 | F1 = 0.597\n",
      "Threshold = 0.13 | Accuracy = 0.460, Completeness = 0.895 | F1 = 0.608\n",
      "Threshold = 0.14 | Accuracy = 0.476, Completeness = 0.895 | F1 = 0.621\n",
      "Threshold = 0.15 | Accuracy = 0.488, Completeness = 0.887 | F1 = 0.630\n",
      "Threshold = 0.16 | Accuracy = 0.499, Completeness = 0.878 | F1 = 0.637\n",
      "Threshold = 0.17 | Accuracy = 0.511, Completeness = 0.872 | F1 = 0.644\n",
      "Threshold = 0.18 | Accuracy = 0.519, Completeness = 0.861 | F1 = 0.648\n",
      "Threshold = 0.19 | Accuracy = 0.533, Completeness = 0.851 | F1 = 0.655\n",
      "Threshold = 0.20 | Accuracy = 0.541, Completeness = 0.836 | F1 = 0.657\n",
      "Threshold = 0.21 | Accuracy = 0.552, Completeness = 0.830 | F1 = 0.663\n",
      "Threshold = 0.22 | Accuracy = 0.561, Completeness = 0.821 | F1 = 0.666\n",
      "Threshold = 0.23 | Accuracy = 0.569, Completeness = 0.813 | F1 = 0.669\n",
      "Threshold = 0.24 | Accuracy = 0.575, Completeness = 0.802 | F1 = 0.669\n",
      "Threshold = 0.25 | Accuracy = 0.591, Completeness = 0.794 | F1 = 0.678\n",
      "Threshold = 0.26 | Accuracy = 0.602, Completeness = 0.788 | F1 = 0.683\n",
      "Threshold = 0.27 | Accuracy = 0.606, Completeness = 0.779 | F1 = 0.682\n",
      "Threshold = 0.28 | Accuracy = 0.618, Completeness = 0.777 | F1 = 0.688\n",
      "Threshold = 0.29 | Accuracy = 0.625, Completeness = 0.760 | F1 = 0.686\n",
      "Threshold = 0.30 | Accuracy = 0.629, Completeness = 0.748 | F1 = 0.684\n",
      "Threshold = 0.31 | Accuracy = 0.636, Completeness = 0.740 | F1 = 0.684\n",
      "Threshold = 0.32 | Accuracy = 0.640, Completeness = 0.740 | F1 = 0.687\n",
      "Threshold = 0.33 | Accuracy = 0.644, Completeness = 0.735 | F1 = 0.686\n",
      "Threshold = 0.34 | Accuracy = 0.655, Completeness = 0.721 | F1 = 0.687\n",
      "Threshold = 0.35 | Accuracy = 0.662, Completeness = 0.710 | F1 = 0.685\n",
      "Threshold = 0.36 | Accuracy = 0.668, Completeness = 0.702 | F1 = 0.685\n",
      "Threshold = 0.37 | Accuracy = 0.675, Completeness = 0.695 | F1 = 0.685\n",
      "Threshold = 0.38 | Accuracy = 0.678, Completeness = 0.683 | F1 = 0.681\n",
      "Threshold = 0.39 | Accuracy = 0.685, Completeness = 0.676 | F1 = 0.680\n",
      "Threshold = 0.40 | Accuracy = 0.697, Completeness = 0.666 | F1 = 0.681\n",
      "Threshold = 0.41 | Accuracy = 0.704, Completeness = 0.653 | F1 = 0.677\n",
      "Threshold = 0.42 | Accuracy = 0.709, Completeness = 0.647 | F1 = 0.677\n",
      "Threshold = 0.43 | Accuracy = 0.714, Completeness = 0.637 | F1 = 0.673\n",
      "Threshold = 0.44 | Accuracy = 0.725, Completeness = 0.634 | F1 = 0.676\n",
      "Threshold = 0.45 | Accuracy = 0.734, Completeness = 0.628 | F1 = 0.677\n",
      "Threshold = 0.46 | Accuracy = 0.737, Completeness = 0.615 | F1 = 0.670\n",
      "Threshold = 0.47 | Accuracy = 0.738, Completeness = 0.603 | F1 = 0.664\n",
      "Threshold = 0.48 | Accuracy = 0.745, Completeness = 0.590 | F1 = 0.658\n",
      "Threshold = 0.49 | Accuracy = 0.749, Completeness = 0.580 | F1 = 0.654\n",
      "Threshold = 0.50 | Accuracy = 0.756, Completeness = 0.574 | F1 = 0.653\n",
      "Threshold = 0.51 | Accuracy = 0.763, Completeness = 0.573 | F1 = 0.654\n",
      "Threshold = 0.52 | Accuracy = 0.765, Completeness = 0.567 | F1 = 0.651\n",
      "Threshold = 0.53 | Accuracy = 0.766, Completeness = 0.561 | F1 = 0.648\n",
      "Threshold = 0.54 | Accuracy = 0.770, Completeness = 0.555 | F1 = 0.645\n",
      "Threshold = 0.55 | Accuracy = 0.776, Completeness = 0.548 | F1 = 0.642\n",
      "Threshold = 0.56 | Accuracy = 0.779, Completeness = 0.546 | F1 = 0.642\n",
      "Threshold = 0.57 | Accuracy = 0.790, Completeness = 0.538 | F1 = 0.640\n",
      "Threshold = 0.58 | Accuracy = 0.793, Completeness = 0.527 | F1 = 0.633\n",
      "Threshold = 0.59 | Accuracy = 0.801, Completeness = 0.523 | F1 = 0.633\n",
      "Threshold = 0.60 | Accuracy = 0.804, Completeness = 0.523 | F1 = 0.634\n",
      "Threshold = 0.61 | Accuracy = 0.809, Completeness = 0.508 | F1 = 0.624\n",
      "Threshold = 0.62 | Accuracy = 0.809, Completeness = 0.502 | F1 = 0.620\n",
      "Threshold = 0.63 | Accuracy = 0.811, Completeness = 0.500 | F1 = 0.619\n",
      "Threshold = 0.64 | Accuracy = 0.821, Completeness = 0.490 | F1 = 0.614\n",
      "Threshold = 0.65 | Accuracy = 0.822, Completeness = 0.477 | F1 = 0.604\n",
      "Threshold = 0.66 | Accuracy = 0.824, Completeness = 0.466 | F1 = 0.595\n",
      "Threshold = 0.67 | Accuracy = 0.824, Completeness = 0.456 | F1 = 0.587\n",
      "Threshold = 0.68 | Accuracy = 0.833, Completeness = 0.447 | F1 = 0.581\n",
      "Threshold = 0.69 | Accuracy = 0.833, Completeness = 0.429 | F1 = 0.567\n",
      "Threshold = 0.70 | Accuracy = 0.834, Completeness = 0.422 | F1 = 0.560\n",
      "Threshold = 0.71 | Accuracy = 0.841, Completeness = 0.414 | F1 = 0.555\n",
      "Threshold = 0.72 | Accuracy = 0.847, Completeness = 0.403 | F1 = 0.546\n",
      "Threshold = 0.73 | Accuracy = 0.858, Completeness = 0.393 | F1 = 0.539\n",
      "Threshold = 0.74 | Accuracy = 0.854, Completeness = 0.380 | F1 = 0.526\n",
      "Threshold = 0.75 | Accuracy = 0.863, Completeness = 0.372 | F1 = 0.520\n",
      "Threshold = 0.76 | Accuracy = 0.882, Completeness = 0.357 | F1 = 0.508\n",
      "Threshold = 0.77 | Accuracy = 0.892, Completeness = 0.345 | F1 = 0.498\n",
      "Threshold = 0.78 | Accuracy = 0.906, Completeness = 0.332 | F1 = 0.486\n",
      "Threshold = 0.79 | Accuracy = 0.902, Completeness = 0.315 | F1 = 0.467\n",
      "Threshold = 0.80 | Accuracy = 0.902, Completeness = 0.300 | F1 = 0.450\n",
      "Threshold = 0.81 | Accuracy = 0.920, Completeness = 0.286 | F1 = 0.437\n",
      "Threshold = 0.82 | Accuracy = 0.923, Completeness = 0.273 | F1 = 0.421\n",
      "Threshold = 0.83 | Accuracy = 0.933, Completeness = 0.265 | F1 = 0.413\n",
      "Threshold = 0.84 | Accuracy = 0.949, Completeness = 0.246 | F1 = 0.391\n",
      "Threshold = 0.85 | Accuracy = 0.946, Completeness = 0.233 | F1 = 0.374\n",
      "Threshold = 0.86 | Accuracy = 0.949, Completeness = 0.212 | F1 = 0.346\n",
      "Threshold = 0.87 | Accuracy = 0.954, Completeness = 0.197 | F1 = 0.326\n",
      "Threshold = 0.88 | Accuracy = 0.960, Completeness = 0.183 | F1 = 0.308\n",
      "Threshold = 0.89 | Accuracy = 0.978, Completeness = 0.172 | F1 = 0.292\n",
      "Threshold = 0.90 | Accuracy = 0.988, Completeness = 0.155 | F1 = 0.267\n",
      "Threshold = 0.91 | Accuracy = 1.000, Completeness = 0.137 | F1 = 0.242\n",
      "Threshold = 0.92 | Accuracy = 1.000, Completeness = 0.122 | F1 = 0.218\n",
      "Threshold = 0.93 | Accuracy = 1.000, Completeness = 0.111 | F1 = 0.199\n",
      "Threshold = 0.94 | Accuracy = 1.000, Completeness = 0.094 | F1 = 0.171\n"
     ]
    }
   ],
   "source": [
    "logr_class1_probs_tuned = logr_tuned.predict_proba(x_test)[:, 1]\n",
    "\n",
    "f1_list = []\n",
    "for threshold in np.arange(0, 0.95, 0.01):\n",
    "    logr_tuned_thres_predicts = logr_class1_probs_tuned > threshold\n",
    "    precision = precision_score(y_test, logr_tuned_thres_predicts)\n",
    "    recall = recall_score(y_test, logr_tuned_thres_predicts)\n",
    "    f1 = f1_score(y_test, logr_tuned_thres_predicts)\n",
    "    f1_list.append(f1)\n",
    "\n",
    "    print(\"Threshold = {:.2f} | Accuracy = {:.3f}, Completeness = {:.3f} | F1 = {:.3f}\".format(\n",
    "        threshold, precision, recall, f1))"
   ]
  },
  {
   "cell_type": "code",
   "execution_count": 68,
   "id": "f782e6bd-3634-4f54-a1da-51ff6b9390ca",
   "metadata": {},
   "outputs": [
    {
     "name": "stdout",
     "output_type": "stream",
     "text": [
      "Maximum f1 score is: 0.688 and best threshold is: 0.28\n"
     ]
    }
   ],
   "source": [
    "f1_list = np.asarray(f1_list)\n",
    "f1_list.max()\n",
    "\n",
    "for threshold in np.arange(0, 0.95, 0.01):\n",
    "    logr_tuned_thres_predicts = logr_class1_probs_tuned > threshold\n",
    "    f1 = f1_score(y_test, logr_tuned_thres_predicts)\n",
    "    if f1_list.max() == f1:\n",
    "        logr_tuned_best_threshold = threshold\n",
    "\n",
    "\n",
    "print(\"Maximum f1 score is: %.3f\" % f1_list.max(),\"and best threshold is:\", logr_tuned_best_threshold)"
   ]
  },
  {
   "cell_type": "markdown",
   "id": "19f0b13d-9b71-4127-9480-17c7dc11f6c8",
   "metadata": {},
   "source": [
    "* Precision-Recall Curve"
   ]
  },
  {
   "cell_type": "code",
   "execution_count": 69,
   "id": "62d8f594-dae0-432c-a2f9-3f63f48d6e3c",
   "metadata": {},
   "outputs": [
    {
     "data": {
      "image/png": "[encoded data removed]",
      "text/plain": [
       "<Figure size 720x720 with 1 Axes>"
      ]
     },
     "metadata": {},
     "output_type": "display_data"
    }
   ],
   "source": [
    "precision, recall, threshold = precision_recall_curve(y_test, logr_class1_probs_tuned)\n",
    "\n",
    "sns.set_theme(style= \"whitegrid\")\n",
    "plt.figure(figsize=(10,10))\n",
    "plt.step(recall, precision)\n",
    "plt.xlabel('Recall')\n",
    "plt.ylabel('Precision')\n",
    "plt.ylim([0.0, 1.05])\n",
    "plt.xlim([0.0, 1.0])\n",
    "plt.title('Precision-Recall')\n",
    "plt.show() "
   ]
  },
  {
   "cell_type": "code",
   "execution_count": 70,
   "id": "274c62b2-c1c4-46c1-90b6-3343b6c62aae",
   "metadata": {},
   "outputs": [
    {
     "name": "stdout",
     "output_type": "stream",
     "text": [
      "Tuned Logistic Regression AUC Score: 0.763\n"
     ]
    }
   ],
   "source": [
    "print('Tuned Logistic Regression AUC Score: %.3f' % average_precision_score(y_test, logr_class1_probs_tuned)) "
   ]
  },
  {
   "cell_type": "code",
   "execution_count": 71,
   "id": "434365d3-899f-4821-8cee-30001d777831",
   "metadata": {},
   "outputs": [],
   "source": [
    "def custom_predict(X, threshold):\n",
    "\n",
    "    return (logr_class1_probs_tuned > threshold).astype(int)\n",
    "    \n",
    "    \n",
    "logr_final_predicts = custom_predict(X=x_test, threshold = logr_tuned_best_threshold) "
   ]
  },
  {
   "cell_type": "code",
   "execution_count": 72,
   "id": "ce7cd1f0-6033-42f9-83b4-50da65b91dea",
   "metadata": {},
   "outputs": [
    {
     "name": "stdout",
     "output_type": "stream",
     "text": [
      "\n",
      "Tuned Logistic Regression Confusion Matrix:\n",
      "\n",
      "[[2566  252]\n",
      " [ 117  407]]\n"
     ]
    }
   ],
   "source": [
    "logr_final_cm = confusion_matrix(y_test, logr_final_predicts)\n",
    "print(\"\\nTuned Logistic Regression Confusion Matrix:\\n\")\n",
    "print(logr_final_cm)"
   ]
  },
  {
   "cell_type": "code",
   "execution_count": 73,
   "id": "1e306e60-d84b-497f-9d55-1f752a9231a3",
   "metadata": {},
   "outputs": [
    {
     "name": "stdout",
     "output_type": "stream",
     "text": [
      "              precision    recall  f1-score   support\n",
      "\n",
      " Not Churned       0.96      0.91      0.93      2818\n",
      "     Churned       0.62      0.78      0.69       524\n",
      "\n",
      "    accuracy                           0.89      3342\n",
      "   macro avg       0.79      0.84      0.81      3342\n",
      "weighted avg       0.90      0.89      0.89      3342\n",
      "\n"
     ]
    }
   ],
   "source": [
    "print(classification_report(y_test, logr_final_predicts, target_names=target_names))"
   ]
  },
  {
   "cell_type": "code",
   "execution_count": 74,
   "id": "50be2311-743d-42f6-ad03-24f7b0569919",
   "metadata": {},
   "outputs": [
    {
     "name": "stdout",
     "output_type": "stream",
     "text": [
      "Brier score: 0.0686356221749847\n"
     ]
    }
   ],
   "source": [
    "print(\"Brier score:\",brier_score_loss(y_test, logr_class1_probs_tuned))"
   ]
  },
  {
   "cell_type": "code",
   "execution_count": 75,
   "id": "17a96b4e-949b-4836-9663-7bc3c5195108",
   "metadata": {},
   "outputs": [
    {
     "data": {
      "image/png": "[encoded data removed]",
      "text/plain": [
       "<Figure size 432x288 with 1 Axes>"
      ]
     },
     "metadata": {},
     "output_type": "display_data"
    }
   ],
   "source": [
    "brier_scores = [brier_score_loss(y_test, logr_class1_probs), brier_score_loss(y_test, logr_class1_probs_tuned)]\n",
    "f1_scores =[f1_score(y_test, logr_predicts), f1_score(y_test, logr_final_predicts)]\n",
    "X = ['LogR','LogR Tuned']\n",
    "\n",
    "  \n",
    "X_axis = np.arange(len(X))\n",
    "  \n",
    "plt.bar(X_axis - 0.2, brier_scores, 0.4, label = 'Brier')\n",
    "plt.bar(X_axis + 0.2, f1_scores, 0.4, label = 'F1')\n",
    "  \n",
    "plt.xticks(X_axis, X)\n",
    "plt.xlabel(\"Algorithms\")\n",
    "plt.ylabel(\"Scores\")\n",
    "plt.title(\"Comparing Brier and F1 Scores for Logistic Regression\")\n",
    "plt.legend()\n",
    "plt.show()"
   ]
  },
  {
   "cell_type": "code",
   "execution_count": 76,
   "id": "d9b8649f-4386-487c-a96b-aa9d5848fecc",
   "metadata": {},
   "outputs": [
    {
     "name": "stdout",
     "output_type": "stream",
     "text": [
      "Constant of equation:\n",
      "\n",
      " [2.52872626]\n",
      "\n",
      "Coefficents of equation:\n",
      "\n",
      " [[ 1.20723813e-02 -7.13820748e-01  1.79874604e-01  5.29605827e-02\n",
      "  -6.46486693e-03 -3.86625601e-01  5.21787097e-01  4.88023660e-01\n",
      "  -1.77177829e-05 -7.90310827e-04 -1.58937138e-01  4.62834415e-04\n",
      "  -1.13055308e-01 -2.70274887e+00 -4.69599911e-01  6.22922013e-01\n",
      "   2.32488371e-01  7.83855086e-01  8.27973235e-01  8.13946861e-01\n",
      "   2.08859461e-01  3.13968863e-01  5.04479442e-01  3.57045721e-01\n",
      "   2.68938357e-01  6.52713400e-01  8.47146330e-01  7.26707794e-02\n",
      "   8.94708195e-01]]\n"
     ]
    }
   ],
   "source": [
    "print(\"Constant of equation:\\n\\n\", logr_tuned.intercept_)\n",
    "\n",
    "print(\"\\nCoefficents of equation:\\n\\n\", logr_tuned.coef_)"
   ]
  },
  {
   "cell_type": "code",
   "execution_count": 77,
   "id": "cd550c98-7cb8-416e-9fe6-ff40938d587a",
   "metadata": {},
   "outputs": [
    {
     "name": "stderr",
     "output_type": "stream",
     "text": [
      "C:\\Users\\Mehmet\\anaconda3\\lib\\site-packages\\sklearn\\base.py:450: UserWarning: X does not have valid feature names, but LogisticRegression was fitted with feature names\n",
      "  warnings.warn(\n"
     ]
    }
   ],
   "source": [
    "input_data= (43, 0, 2, 5, 25, 6, 2, 4, 10388, 1961, 0.703, 10294, 61, 0.649, 0.189, 0,1,0,0,0,0,0,0,1,0,0,0,0,1)\n",
    "input_data= np.asarray(input_data)\n",
    "input_data= input_data.reshape(1,-1)\n",
    "prob= logr_tuned.predict_proba(input_data)[:, 1][0]"
   ]
  },
  {
   "cell_type": "code",
   "execution_count": 81,
   "id": "c5297295-a76d-41e7-8de6-d52fe05aa4e4",
   "metadata": {},
   "outputs": [
    {
     "name": "stdout",
     "output_type": "stream",
     "text": [
      "The probability of churn: % 0.4627061997532443\n",
      "\n",
      "The person is churned\n"
     ]
    }
   ],
   "source": [
    "def custom_predict(X, threshold):\n",
    "\n",
    "    return (prob > threshold).astype(int)\n",
    "    \n",
    "    \n",
    "result = custom_predict(X=input_data, threshold = logr_tuned_best_threshold) \n",
    "\n",
    "print(\"The probability of churn: %\", prob)\n",
    "\n",
    "if result==1:\n",
    "    print(\"\\nThe person is churned\")\n",
    "else:\n",
    "    print(\"\\nThe person is still customer\")"
   ]
  },
  {
   "cell_type": "markdown",
   "id": "9c23ed79-0d67-4f85-b1da-84069a327e80",
   "metadata": {},
   "source": [
    "## Random Forest"
   ]
  },
  {
   "cell_type": "code",
   "execution_count": 82,
   "id": "27eb1274-bf76-4536-8eb1-fdb9db0b0aa7",
   "metadata": {},
   "outputs": [
    {
     "data": {
      "text/plain": [
       "RandomForestClassifier()"
      ]
     },
     "execution_count": 82,
     "metadata": {},
     "output_type": "execute_result"
    }
   ],
   "source": [
    "rf= RandomForestClassifier()\n",
    "rf.fit(x_train, y_train)"
   ]
  },
  {
   "cell_type": "code",
   "execution_count": 83,
   "id": "1cc14aba-9806-4e1f-8691-e9329cc935ab",
   "metadata": {},
   "outputs": [],
   "source": [
    "rf_preds= rf.predict(x_test)"
   ]
  },
  {
   "cell_type": "code",
   "execution_count": 84,
   "id": "456d081e-b4e8-406b-83e2-09bc7fc03acb",
   "metadata": {},
   "outputs": [
    {
     "name": "stdout",
     "output_type": "stream",
     "text": [
      "\n",
      "Random Forest Confusion Matrix:\n",
      "\n",
      "[[2777   41]\n",
      " [  92  432]]\n"
     ]
    }
   ],
   "source": [
    "rf_cm= confusion_matrix(y_test, rf_preds)\n",
    "print(\"\\nRandom Forest Confusion Matrix:\\n\")\n",
    "print(rf_cm)"
   ]
  },
  {
   "cell_type": "code",
   "execution_count": 85,
   "id": "faa1a92b-d2bc-47fa-a7cf-95bf348472a2",
   "metadata": {},
   "outputs": [
    {
     "name": "stdout",
     "output_type": "stream",
     "text": [
      "              precision    recall  f1-score   support\n",
      "\n",
      " Not Churned       0.97      0.99      0.98      2818\n",
      "     Churned       0.91      0.82      0.87       524\n",
      "\n",
      "    accuracy                           0.96      3342\n",
      "   macro avg       0.94      0.90      0.92      3342\n",
      "weighted avg       0.96      0.96      0.96      3342\n",
      "\n"
     ]
    }
   ],
   "source": [
    "print(classification_report(y_test, rf_preds, target_names=target_names))"
   ]
  },
  {
   "cell_type": "markdown",
   "id": "c9f6b4a6-4180-4519-b956-eb2359ac9b24",
   "metadata": {},
   "source": [
    "* Precision-Recall Curve"
   ]
  },
  {
   "cell_type": "code",
   "execution_count": 86,
   "id": "2c73f7b2-daa7-4e6a-9659-48bf5d8fb25a",
   "metadata": {},
   "outputs": [
    {
     "name": "stdout",
     "output_type": "stream",
     "text": [
      "Threshold = 0.00 | Accuracy = 0.212, Completeness = 1.000 | F1 = 0.349\n",
      "Threshold = 0.01 | Accuracy = 0.260, Completeness = 1.000 | F1 = 0.413\n",
      "Threshold = 0.02 | Accuracy = 0.299, Completeness = 1.000 | F1 = 0.461\n",
      "Threshold = 0.03 | Accuracy = 0.331, Completeness = 1.000 | F1 = 0.497\n",
      "Threshold = 0.04 | Accuracy = 0.363, Completeness = 1.000 | F1 = 0.533\n",
      "Threshold = 0.05 | Accuracy = 0.389, Completeness = 1.000 | F1 = 0.560\n",
      "Threshold = 0.06 | Accuracy = 0.420, Completeness = 1.000 | F1 = 0.591\n",
      "Threshold = 0.07 | Accuracy = 0.441, Completeness = 0.998 | F1 = 0.612\n",
      "Threshold = 0.08 | Accuracy = 0.473, Completeness = 0.996 | F1 = 0.642\n",
      "Threshold = 0.09 | Accuracy = 0.500, Completeness = 0.996 | F1 = 0.666\n",
      "Threshold = 0.10 | Accuracy = 0.524, Completeness = 0.994 | F1 = 0.686\n",
      "Threshold = 0.11 | Accuracy = 0.545, Completeness = 0.990 | F1 = 0.703\n",
      "Threshold = 0.12 | Accuracy = 0.563, Completeness = 0.990 | F1 = 0.718\n",
      "Threshold = 0.13 | Accuracy = 0.577, Completeness = 0.990 | F1 = 0.729\n",
      "Threshold = 0.14 | Accuracy = 0.594, Completeness = 0.987 | F1 = 0.742\n",
      "Threshold = 0.15 | Accuracy = 0.616, Completeness = 0.987 | F1 = 0.759\n",
      "Threshold = 0.16 | Accuracy = 0.635, Completeness = 0.987 | F1 = 0.773\n",
      "Threshold = 0.17 | Accuracy = 0.649, Completeness = 0.983 | F1 = 0.782\n",
      "Threshold = 0.18 | Accuracy = 0.664, Completeness = 0.979 | F1 = 0.791\n",
      "Threshold = 0.19 | Accuracy = 0.679, Completeness = 0.977 | F1 = 0.801\n",
      "Threshold = 0.20 | Accuracy = 0.690, Completeness = 0.977 | F1 = 0.809\n",
      "Threshold = 0.21 | Accuracy = 0.703, Completeness = 0.977 | F1 = 0.818\n",
      "Threshold = 0.22 | Accuracy = 0.714, Completeness = 0.973 | F1 = 0.824\n",
      "Threshold = 0.23 | Accuracy = 0.725, Completeness = 0.973 | F1 = 0.831\n",
      "Threshold = 0.24 | Accuracy = 0.746, Completeness = 0.971 | F1 = 0.844\n",
      "Threshold = 0.25 | Accuracy = 0.761, Completeness = 0.968 | F1 = 0.852\n",
      "Threshold = 0.26 | Accuracy = 0.776, Completeness = 0.964 | F1 = 0.860\n",
      "Threshold = 0.27 | Accuracy = 0.788, Completeness = 0.960 | F1 = 0.866\n",
      "Threshold = 0.28 | Accuracy = 0.799, Completeness = 0.958 | F1 = 0.872\n",
      "Threshold = 0.29 | Accuracy = 0.808, Completeness = 0.956 | F1 = 0.876\n",
      "Threshold = 0.30 | Accuracy = 0.813, Completeness = 0.952 | F1 = 0.877\n",
      "Threshold = 0.31 | Accuracy = 0.824, Completeness = 0.948 | F1 = 0.882\n",
      "Threshold = 0.32 | Accuracy = 0.830, Completeness = 0.941 | F1 = 0.882\n",
      "Threshold = 0.33 | Accuracy = 0.839, Completeness = 0.935 | F1 = 0.884\n",
      "Threshold = 0.34 | Accuracy = 0.846, Completeness = 0.931 | F1 = 0.886\n",
      "Threshold = 0.35 | Accuracy = 0.859, Completeness = 0.931 | F1 = 0.894\n",
      "Threshold = 0.36 | Accuracy = 0.862, Completeness = 0.927 | F1 = 0.893\n",
      "Threshold = 0.37 | Accuracy = 0.867, Completeness = 0.920 | F1 = 0.893\n",
      "Threshold = 0.38 | Accuracy = 0.871, Completeness = 0.912 | F1 = 0.891\n",
      "Threshold = 0.39 | Accuracy = 0.875, Completeness = 0.910 | F1 = 0.892\n",
      "Threshold = 0.40 | Accuracy = 0.881, Completeness = 0.901 | F1 = 0.891\n",
      "Threshold = 0.41 | Accuracy = 0.881, Completeness = 0.889 | F1 = 0.885\n",
      "Threshold = 0.42 | Accuracy = 0.883, Completeness = 0.882 | F1 = 0.883\n",
      "Threshold = 0.43 | Accuracy = 0.886, Completeness = 0.874 | F1 = 0.880\n",
      "Threshold = 0.44 | Accuracy = 0.893, Completeness = 0.872 | F1 = 0.882\n",
      "Threshold = 0.45 | Accuracy = 0.898, Completeness = 0.872 | F1 = 0.885\n",
      "Threshold = 0.46 | Accuracy = 0.903, Completeness = 0.866 | F1 = 0.884\n",
      "Threshold = 0.47 | Accuracy = 0.905, Completeness = 0.851 | F1 = 0.877\n",
      "Threshold = 0.48 | Accuracy = 0.905, Completeness = 0.840 | F1 = 0.871\n",
      "Threshold = 0.49 | Accuracy = 0.910, Completeness = 0.834 | F1 = 0.871\n",
      "Threshold = 0.50 | Accuracy = 0.913, Completeness = 0.824 | F1 = 0.867\n",
      "Threshold = 0.51 | Accuracy = 0.915, Completeness = 0.817 | F1 = 0.863\n",
      "Threshold = 0.52 | Accuracy = 0.917, Completeness = 0.803 | F1 = 0.857\n",
      "Threshold = 0.53 | Accuracy = 0.922, Completeness = 0.794 | F1 = 0.853\n",
      "Threshold = 0.54 | Accuracy = 0.923, Completeness = 0.781 | F1 = 0.846\n",
      "Threshold = 0.55 | Accuracy = 0.928, Completeness = 0.767 | F1 = 0.840\n",
      "Threshold = 0.56 | Accuracy = 0.927, Completeness = 0.750 | F1 = 0.829\n",
      "Threshold = 0.57 | Accuracy = 0.933, Completeness = 0.739 | F1 = 0.824\n",
      "Threshold = 0.58 | Accuracy = 0.934, Completeness = 0.733 | F1 = 0.821\n",
      "Threshold = 0.59 | Accuracy = 0.938, Completeness = 0.716 | F1 = 0.812\n",
      "Threshold = 0.60 | Accuracy = 0.942, Completeness = 0.708 | F1 = 0.808\n",
      "Threshold = 0.61 | Accuracy = 0.943, Completeness = 0.693 | F1 = 0.799\n",
      "Threshold = 0.62 | Accuracy = 0.949, Completeness = 0.679 | F1 = 0.792\n",
      "Threshold = 0.63 | Accuracy = 0.953, Completeness = 0.664 | F1 = 0.783\n",
      "Threshold = 0.64 | Accuracy = 0.953, Completeness = 0.658 | F1 = 0.779\n",
      "Threshold = 0.65 | Accuracy = 0.958, Completeness = 0.649 | F1 = 0.774\n",
      "Threshold = 0.66 | Accuracy = 0.960, Completeness = 0.637 | F1 = 0.766\n",
      "Threshold = 0.67 | Accuracy = 0.964, Completeness = 0.622 | F1 = 0.756\n",
      "Threshold = 0.68 | Accuracy = 0.966, Completeness = 0.605 | F1 = 0.744\n",
      "Threshold = 0.69 | Accuracy = 0.969, Completeness = 0.592 | F1 = 0.735\n",
      "Threshold = 0.70 | Accuracy = 0.968, Completeness = 0.571 | F1 = 0.718\n",
      "Threshold = 0.71 | Accuracy = 0.967, Completeness = 0.555 | F1 = 0.705\n",
      "Threshold = 0.72 | Accuracy = 0.966, Completeness = 0.534 | F1 = 0.688\n",
      "Threshold = 0.73 | Accuracy = 0.968, Completeness = 0.511 | F1 = 0.669\n",
      "Threshold = 0.74 | Accuracy = 0.970, Completeness = 0.496 | F1 = 0.657\n",
      "Threshold = 0.75 | Accuracy = 0.977, Completeness = 0.481 | F1 = 0.645\n",
      "Threshold = 0.76 | Accuracy = 0.976, Completeness = 0.460 | F1 = 0.625\n",
      "Threshold = 0.77 | Accuracy = 0.975, Completeness = 0.443 | F1 = 0.609\n",
      "Threshold = 0.78 | Accuracy = 0.983, Completeness = 0.429 | F1 = 0.598\n",
      "Threshold = 0.79 | Accuracy = 0.986, Completeness = 0.414 | F1 = 0.583\n",
      "Threshold = 0.80 | Accuracy = 0.986, Completeness = 0.395 | F1 = 0.564\n",
      "Threshold = 0.81 | Accuracy = 0.985, Completeness = 0.382 | F1 = 0.550\n",
      "Threshold = 0.82 | Accuracy = 0.984, Completeness = 0.357 | F1 = 0.524\n",
      "Threshold = 0.83 | Accuracy = 0.989, Completeness = 0.342 | F1 = 0.508\n",
      "Threshold = 0.84 | Accuracy = 0.988, Completeness = 0.321 | F1 = 0.484\n",
      "Threshold = 0.85 | Accuracy = 0.994, Completeness = 0.294 | F1 = 0.454\n",
      "Threshold = 0.86 | Accuracy = 1.000, Completeness = 0.269 | F1 = 0.424\n",
      "Threshold = 0.87 | Accuracy = 1.000, Completeness = 0.244 | F1 = 0.393\n",
      "Threshold = 0.88 | Accuracy = 1.000, Completeness = 0.225 | F1 = 0.368\n",
      "Threshold = 0.89 | Accuracy = 1.000, Completeness = 0.202 | F1 = 0.337\n",
      "Threshold = 0.90 | Accuracy = 1.000, Completeness = 0.185 | F1 = 0.312\n",
      "Threshold = 0.91 | Accuracy = 1.000, Completeness = 0.170 | F1 = 0.290\n",
      "Threshold = 0.92 | Accuracy = 1.000, Completeness = 0.147 | F1 = 0.256\n",
      "Threshold = 0.93 | Accuracy = 1.000, Completeness = 0.132 | F1 = 0.233\n",
      "Threshold = 0.94 | Accuracy = 1.000, Completeness = 0.116 | F1 = 0.209\n"
     ]
    }
   ],
   "source": [
    "rf_class1_probs = rf.predict_proba(x_test)[:, 1]\n",
    "\n",
    "\n",
    "f1_list = []\n",
    "\n",
    "for threshold in np.arange(0, 0.95, 0.01):\n",
    "    rf_thres_predicts = rf_class1_probs > threshold\n",
    "    precision = precision_score(y_test, rf_thres_predicts)\n",
    "    recall = recall_score(y_test, rf_thres_predicts)\n",
    "    f1 = f1_score(y_test, rf_thres_predicts)\n",
    "    f1_list.append(f1)\n",
    "\n",
    "    print(\"Threshold = {:.2f} | Accuracy = {:.3f}, Completeness = {:.3f} | F1 = {:.3f}\".format(\n",
    "        threshold, precision, recall, f1))"
   ]
  },
  {
   "cell_type": "code",
   "execution_count": 87,
   "id": "1d5937ab-262b-48a9-a240-ed2a41aa361d",
   "metadata": {},
   "outputs": [
    {
     "name": "stdout",
     "output_type": "stream",
     "text": [
      "Maximum f1 score is: 0.894 and best threshold is: 0.35000000000000003\n"
     ]
    }
   ],
   "source": [
    "f1_list = np.asarray(f1_list)\n",
    "\n",
    "for threshold in np.arange(0, 0.95, 0.01):\n",
    "    rf_thres_predicts = rf_class1_probs > threshold\n",
    "    f1 = f1_score(y_test, rf_thres_predicts)\n",
    "    if f1_list.max() == f1:\n",
    "        rf_best_threshold = threshold\n",
    "\n",
    "print(\"Maximum f1 score is: %.3f\" % f1_list.max(),\"and best threshold is:\", rf_best_threshold)"
   ]
  },
  {
   "cell_type": "code",
   "execution_count": 88,
   "id": "32fdb317-6c90-4585-831c-ff8d64a7ff8e",
   "metadata": {},
   "outputs": [
    {
     "data": {
      "image/png": "[encoded data removed]",
      "text/plain": [
       "<Figure size 720x720 with 1 Axes>"
      ]
     },
     "metadata": {},
     "output_type": "display_data"
    }
   ],
   "source": [
    "precision, recall, threshold = precision_recall_curve(y_test, rf_class1_probs)\n",
    "\n",
    "sns.set_theme(style= \"whitegrid\")\n",
    "plt.figure(figsize=(10,10))\n",
    "plt.step(recall, precision)\n",
    "plt.xlabel('Recall')\n",
    "plt.ylabel('Precision')\n",
    "plt.ylim([0.0, 1.05])\n",
    "plt.xlim([0.0, 1.0])\n",
    "plt.title('Precision-Recall')\n",
    "plt.show()"
   ]
  },
  {
   "cell_type": "code",
   "execution_count": 89,
   "id": "92d85d96-6d24-4e23-a827-24a69352201d",
   "metadata": {},
   "outputs": [
    {
     "name": "stdout",
     "output_type": "stream",
     "text": [
      "Random Forest AUC score: 0.948\n"
     ]
    }
   ],
   "source": [
    "print('Random Forest AUC score: %.3f' % average_precision_score(y_test, rf_class1_probs)) "
   ]
  },
  {
   "cell_type": "code",
   "execution_count": 90,
   "id": "5a0380a1-452e-4f19-b462-c8e0953093cb",
   "metadata": {},
   "outputs": [],
   "source": [
    "def custom_predict(X, threshold):\n",
    "    \n",
    "    return (rf_class1_probs > threshold).astype(int)\n",
    "    \n",
    "    \n",
    "rf_thres_preds = custom_predict(X=x_test, threshold=rf_best_threshold) "
   ]
  },
  {
   "cell_type": "code",
   "execution_count": 91,
   "id": "337b1736-db9a-40cc-8cd9-81727e66d165",
   "metadata": {},
   "outputs": [
    {
     "name": "stdout",
     "output_type": "stream",
     "text": [
      "\n",
      "Random Forest Confusion Matrix:\n",
      "\n",
      "[[2738   80]\n",
      " [  36  488]]\n"
     ]
    }
   ],
   "source": [
    "rf_thres_cm= confusion_matrix(y_test, rf_thres_preds)\n",
    "print(\"\\nRandom Forest Confusion Matrix:\\n\")\n",
    "print(rf_thres_cm)"
   ]
  },
  {
   "cell_type": "code",
   "execution_count": 92,
   "id": "1ff91224-3095-46d2-9c5d-19e1b4e1b547",
   "metadata": {},
   "outputs": [
    {
     "name": "stdout",
     "output_type": "stream",
     "text": [
      "              precision    recall  f1-score   support\n",
      "\n",
      " Not Churned       0.99      0.97      0.98      2818\n",
      "     Churned       0.86      0.93      0.89       524\n",
      "\n",
      "    accuracy                           0.97      3342\n",
      "   macro avg       0.92      0.95      0.94      3342\n",
      "weighted avg       0.97      0.97      0.97      3342\n",
      "\n"
     ]
    }
   ],
   "source": [
    "print(classification_report(y_test, rf_thres_preds, target_names=target_names))"
   ]
  },
  {
   "cell_type": "code",
   "execution_count": 93,
   "id": "c8329fe5-8f29-4a61-9936-294e4789bf10",
   "metadata": {},
   "outputs": [
    {
     "name": "stdout",
     "output_type": "stream",
     "text": [
      "Brier score: 0.033\n"
     ]
    }
   ],
   "source": [
    "print(\"Brier score: %.3f\"%brier_score_loss(y_test, rf_class1_probs))"
   ]
  },
  {
   "cell_type": "markdown",
   "id": "a0525206-573a-4cbc-8be5-26b951c2725c",
   "metadata": {},
   "source": [
    "* Model Tuning"
   ]
  },
  {
   "cell_type": "code",
   "execution_count": 94,
   "id": "4f76e51c-bc8e-4d49-9bee-38f7dd0e9dce",
   "metadata": {},
   "outputs": [],
   "source": [
    "rf_prmt = {\"criterion\": [\"gini\", \"entropy\"],\n",
    "           \"max_depth\": range(17,25),\n",
    "           \"max_features\": [\"auto\", \"sqrt\", \"log2\"],\n",
    "           \"class_weight\": ['balanced', 'weight']}"
   ]
  },
  {
   "cell_type": "code",
   "execution_count": 95,
   "id": "13c46056-4fdd-46a7-bbb5-3c560e006558",
   "metadata": {},
   "outputs": [],
   "source": [
    "rf_cv_model = GridSearchCV(rf, \n",
    "                           rf_prmt, \n",
    "                           cv = 10, \n",
    "                            n_jobs = -1)"
   ]
  },
  {
   "cell_type": "code",
   "execution_count": 96,
   "id": "cbb4b633-592d-4f5f-9173-9ea7d7756134",
   "metadata": {},
   "outputs": [
    {
     "name": "stderr",
     "output_type": "stream",
     "text": [
      "C:\\Users\\Mehmet\\anaconda3\\lib\\site-packages\\sklearn\\model_selection\\_validation.py:372: FitFailedWarning: \n",
      "480 fits failed out of a total of 960.\n",
      "The score on these train-test partitions for these parameters will be set to nan.\n",
      "If these failures are not expected, you can try to debug them by setting error_score='raise'.\n",
      "\n",
      "Below are more details about the failures:\n",
      "--------------------------------------------------------------------------------\n",
      "480 fits failed with the following error:\n",
      "Traceback (most recent call last):\n",
      "  File \"C:\\Users\\Mehmet\\anaconda3\\lib\\site-packages\\sklearn\\model_selection\\_validation.py\", line 680, in _fit_and_score\n",
      "    estimator.fit(X_train, y_train, **fit_params)\n",
      "  File \"C:\\Users\\Mehmet\\anaconda3\\lib\\site-packages\\sklearn\\ensemble\\_forest.py\", line 367, in fit\n",
      "    y, expanded_class_weight = self._validate_y_class_weight(y)\n",
      "  File \"C:\\Users\\Mehmet\\anaconda3\\lib\\site-packages\\sklearn\\ensemble\\_forest.py\", line 758, in _validate_y_class_weight\n",
      "    raise ValueError(\n",
      "ValueError: Valid presets for class_weight include \"balanced\" and \"balanced_subsample\".Given \"weight\".\n",
      "\n",
      "  warnings.warn(some_fits_failed_message, FitFailedWarning)\n",
      "C:\\Users\\Mehmet\\anaconda3\\lib\\site-packages\\sklearn\\model_selection\\_search.py:969: UserWarning: One or more of the test scores are non-finite: [0.94827245 0.94841798 0.94281652 0.94635374 0.94664872 0.94414417\n",
      " 0.9479742  0.94561714 0.944586   0.94635309 0.94635483 0.94443829\n",
      " 0.94709077 0.94664872 0.94193352 0.94576377 0.94679622 0.94370256\n",
      " 0.94753303 0.94679535 0.94031175 0.94576355 0.94753346 0.94163702\n",
      " 0.95151207 0.95033365 0.94679665 0.95033452 0.95004062 0.94738575\n",
      " 0.94871275 0.95048136 0.94650123 0.94900795 0.95077656 0.94650058\n",
      " 0.94974368 0.95092427 0.94767965 0.95033256 0.95033278 0.94694414\n",
      " 0.95092297 0.9519552  0.94635352 0.94989139 0.95077591 0.94532238\n",
      "        nan        nan        nan        nan        nan        nan\n",
      "        nan        nan        nan        nan        nan        nan\n",
      "        nan        nan        nan        nan        nan        nan\n",
      "        nan        nan        nan        nan        nan        nan\n",
      "        nan        nan        nan        nan        nan        nan\n",
      "        nan        nan        nan        nan        nan        nan\n",
      "        nan        nan        nan        nan        nan        nan\n",
      "        nan        nan        nan        nan        nan        nan]\n",
      "  warnings.warn(\n"
     ]
    },
    {
     "data": {
      "text/plain": [
       "GridSearchCV(cv=10, estimator=RandomForestClassifier(), n_jobs=-1,\n",
       "             param_grid={'class_weight': ['balanced', 'weight'],\n",
       "                         'criterion': ['gini', 'entropy'],\n",
       "                         'max_depth': range(17, 25),\n",
       "                         'max_features': ['auto', 'sqrt', 'log2']})"
      ]
     },
     "execution_count": 96,
     "metadata": {},
     "output_type": "execute_result"
    }
   ],
   "source": [
    "rf_cv_model.fit(x_train, y_train)"
   ]
  },
  {
   "cell_type": "code",
   "execution_count": 97,
   "id": "1ed21c2b-9e98-4539-b647-1c01d7481bc2",
   "metadata": {},
   "outputs": [
    {
     "name": "stdout",
     "output_type": "stream",
     "text": [
      "Best parameters: {'class_weight': 'balanced', 'criterion': 'entropy', 'max_depth': 23, 'max_features': 'sqrt'}\n"
     ]
    }
   ],
   "source": [
    "print(\"Best parameters:\", rf_cv_model.best_params_)"
   ]
  },
  {
   "cell_type": "code",
   "execution_count": 98,
   "id": "ca12649d-5ff3-4121-b66b-34eea98c29a1",
   "metadata": {},
   "outputs": [
    {
     "data": {
      "text/plain": [
       "RandomForestClassifier(class_weight='balanced', criterion='entropy',\n",
       "                       max_depth=23, max_features='sqrt')"
      ]
     },
     "execution_count": 98,
     "metadata": {},
     "output_type": "execute_result"
    }
   ],
   "source": [
    "rf_tuned= RandomForestClassifier(criterion=rf_cv_model.best_params_[\"criterion\"], \n",
    "                             class_weight=rf_cv_model.best_params_[\"class_weight\"],\n",
    "                             max_depth=rf_cv_model.best_params_[\"max_depth\"],\n",
    "                             max_features=rf_cv_model.best_params_[\"max_features\"]\n",
    "                            )\n",
    "\n",
    "rf_tuned.fit(x_train, y_train)"
   ]
  },
  {
   "cell_type": "code",
   "execution_count": 99,
   "id": "f76afeb1-3ed2-42f6-a857-5f93b3194d8f",
   "metadata": {},
   "outputs": [
    {
     "name": "stdout",
     "output_type": "stream",
     "text": [
      "\n",
      "Random Forest Confusion Matrix:\n",
      "\n",
      "[[2779   39]\n",
      " [ 105  419]]\n"
     ]
    }
   ],
   "source": [
    "rf_tuned_predicts= rf_tuned.predict(x_test)\n",
    "\n",
    "rf_tuned_cm= confusion_matrix(y_test, rf_tuned_predicts)\n",
    "print(\"\\nRandom Forest Confusion Matrix:\\n\")\n",
    "print(rf_tuned_cm)"
   ]
  },
  {
   "cell_type": "code",
   "execution_count": 100,
   "id": "912b9029-1eae-45cf-a367-003307eac016",
   "metadata": {},
   "outputs": [
    {
     "name": "stdout",
     "output_type": "stream",
     "text": [
      "              precision    recall  f1-score   support\n",
      "\n",
      " Not Churned       0.96      0.99      0.97      2818\n",
      "     Churned       0.91      0.80      0.85       524\n",
      "\n",
      "    accuracy                           0.96      3342\n",
      "   macro avg       0.94      0.89      0.91      3342\n",
      "weighted avg       0.96      0.96      0.96      3342\n",
      "\n"
     ]
    }
   ],
   "source": [
    "print(classification_report(y_test, rf_tuned_predicts, target_names=target_names))"
   ]
  },
  {
   "cell_type": "markdown",
   "id": "b75a5330-c85b-414b-bd07-38651bcf448e",
   "metadata": {},
   "source": [
    "* Final Model"
   ]
  },
  {
   "cell_type": "code",
   "execution_count": 101,
   "id": "409510a0-37b0-46ed-a666-edb8164b5e42",
   "metadata": {},
   "outputs": [
    {
     "name": "stdout",
     "output_type": "stream",
     "text": [
      "Threshold = 0.00 | Accuracy = 0.215, Completeness = 1.000 | F1 = 0.354\n",
      "Threshold = 0.01 | Accuracy = 0.268, Completeness = 1.000 | F1 = 0.423\n",
      "Threshold = 0.02 | Accuracy = 0.313, Completeness = 1.000 | F1 = 0.477\n",
      "Threshold = 0.03 | Accuracy = 0.353, Completeness = 1.000 | F1 = 0.522\n",
      "Threshold = 0.04 | Accuracy = 0.379, Completeness = 1.000 | F1 = 0.550\n",
      "Threshold = 0.05 | Accuracy = 0.410, Completeness = 1.000 | F1 = 0.582\n",
      "Threshold = 0.06 | Accuracy = 0.441, Completeness = 0.998 | F1 = 0.612\n",
      "Threshold = 0.07 | Accuracy = 0.465, Completeness = 0.998 | F1 = 0.634\n",
      "Threshold = 0.08 | Accuracy = 0.497, Completeness = 0.996 | F1 = 0.663\n",
      "Threshold = 0.09 | Accuracy = 0.522, Completeness = 0.992 | F1 = 0.684\n",
      "Threshold = 0.10 | Accuracy = 0.536, Completeness = 0.990 | F1 = 0.696\n",
      "Threshold = 0.11 | Accuracy = 0.556, Completeness = 0.989 | F1 = 0.712\n",
      "Threshold = 0.12 | Accuracy = 0.577, Completeness = 0.989 | F1 = 0.729\n",
      "Threshold = 0.13 | Accuracy = 0.596, Completeness = 0.989 | F1 = 0.744\n",
      "Threshold = 0.14 | Accuracy = 0.613, Completeness = 0.989 | F1 = 0.757\n",
      "Threshold = 0.15 | Accuracy = 0.633, Completeness = 0.989 | F1 = 0.772\n",
      "Threshold = 0.16 | Accuracy = 0.653, Completeness = 0.987 | F1 = 0.786\n",
      "Threshold = 0.17 | Accuracy = 0.668, Completeness = 0.985 | F1 = 0.796\n",
      "Threshold = 0.18 | Accuracy = 0.682, Completeness = 0.979 | F1 = 0.804\n",
      "Threshold = 0.19 | Accuracy = 0.699, Completeness = 0.977 | F1 = 0.815\n",
      "Threshold = 0.20 | Accuracy = 0.718, Completeness = 0.975 | F1 = 0.827\n",
      "Threshold = 0.21 | Accuracy = 0.734, Completeness = 0.975 | F1 = 0.838\n",
      "Threshold = 0.22 | Accuracy = 0.745, Completeness = 0.973 | F1 = 0.844\n",
      "Threshold = 0.23 | Accuracy = 0.757, Completeness = 0.973 | F1 = 0.851\n",
      "Threshold = 0.24 | Accuracy = 0.770, Completeness = 0.969 | F1 = 0.858\n",
      "Threshold = 0.25 | Accuracy = 0.777, Completeness = 0.964 | F1 = 0.860\n",
      "Threshold = 0.26 | Accuracy = 0.789, Completeness = 0.964 | F1 = 0.868\n",
      "Threshold = 0.27 | Accuracy = 0.800, Completeness = 0.954 | F1 = 0.870\n",
      "Threshold = 0.28 | Accuracy = 0.803, Completeness = 0.954 | F1 = 0.872\n",
      "Threshold = 0.29 | Accuracy = 0.810, Completeness = 0.952 | F1 = 0.875\n",
      "Threshold = 0.30 | Accuracy = 0.819, Completeness = 0.952 | F1 = 0.881\n",
      "Threshold = 0.31 | Accuracy = 0.834, Completeness = 0.950 | F1 = 0.888\n",
      "Threshold = 0.32 | Accuracy = 0.842, Completeness = 0.945 | F1 = 0.890\n",
      "Threshold = 0.33 | Accuracy = 0.848, Completeness = 0.939 | F1 = 0.891\n",
      "Threshold = 0.34 | Accuracy = 0.855, Completeness = 0.935 | F1 = 0.893\n",
      "Threshold = 0.35 | Accuracy = 0.857, Completeness = 0.927 | F1 = 0.891\n",
      "Threshold = 0.36 | Accuracy = 0.858, Completeness = 0.922 | F1 = 0.889\n",
      "Threshold = 0.37 | Accuracy = 0.860, Completeness = 0.914 | F1 = 0.886\n",
      "Threshold = 0.38 | Accuracy = 0.865, Completeness = 0.908 | F1 = 0.886\n",
      "Threshold = 0.39 | Accuracy = 0.864, Completeness = 0.895 | F1 = 0.879\n",
      "Threshold = 0.40 | Accuracy = 0.869, Completeness = 0.887 | F1 = 0.878\n",
      "Threshold = 0.41 | Accuracy = 0.873, Completeness = 0.880 | F1 = 0.876\n",
      "Threshold = 0.42 | Accuracy = 0.876, Completeness = 0.876 | F1 = 0.876\n",
      "Threshold = 0.43 | Accuracy = 0.880, Completeness = 0.857 | F1 = 0.868\n",
      "Threshold = 0.44 | Accuracy = 0.883, Completeness = 0.853 | F1 = 0.868\n",
      "Threshold = 0.45 | Accuracy = 0.890, Completeness = 0.845 | F1 = 0.867\n",
      "Threshold = 0.46 | Accuracy = 0.899, Completeness = 0.834 | F1 = 0.865\n",
      "Threshold = 0.47 | Accuracy = 0.907, Completeness = 0.821 | F1 = 0.862\n",
      "Threshold = 0.48 | Accuracy = 0.909, Completeness = 0.817 | F1 = 0.860\n",
      "Threshold = 0.49 | Accuracy = 0.909, Completeness = 0.805 | F1 = 0.854\n",
      "Threshold = 0.50 | Accuracy = 0.913, Completeness = 0.798 | F1 = 0.851\n",
      "Threshold = 0.51 | Accuracy = 0.922, Completeness = 0.788 | F1 = 0.850\n",
      "Threshold = 0.52 | Accuracy = 0.927, Completeness = 0.779 | F1 = 0.846\n",
      "Threshold = 0.53 | Accuracy = 0.926, Completeness = 0.767 | F1 = 0.839\n",
      "Threshold = 0.54 | Accuracy = 0.927, Completeness = 0.752 | F1 = 0.830\n",
      "Threshold = 0.55 | Accuracy = 0.929, Completeness = 0.746 | F1 = 0.828\n",
      "Threshold = 0.56 | Accuracy = 0.933, Completeness = 0.739 | F1 = 0.824\n",
      "Threshold = 0.57 | Accuracy = 0.936, Completeness = 0.731 | F1 = 0.821\n",
      "Threshold = 0.58 | Accuracy = 0.940, Completeness = 0.714 | F1 = 0.811\n",
      "Threshold = 0.59 | Accuracy = 0.941, Completeness = 0.698 | F1 = 0.802\n",
      "Threshold = 0.60 | Accuracy = 0.945, Completeness = 0.687 | F1 = 0.796\n",
      "Threshold = 0.61 | Accuracy = 0.951, Completeness = 0.670 | F1 = 0.786\n",
      "Threshold = 0.62 | Accuracy = 0.951, Completeness = 0.660 | F1 = 0.779\n",
      "Threshold = 0.63 | Accuracy = 0.952, Completeness = 0.643 | F1 = 0.768\n",
      "Threshold = 0.64 | Accuracy = 0.951, Completeness = 0.630 | F1 = 0.758\n",
      "Threshold = 0.65 | Accuracy = 0.950, Completeness = 0.613 | F1 = 0.745\n",
      "Threshold = 0.66 | Accuracy = 0.954, Completeness = 0.597 | F1 = 0.735\n",
      "Threshold = 0.67 | Accuracy = 0.959, Completeness = 0.582 | F1 = 0.724\n",
      "Threshold = 0.68 | Accuracy = 0.965, Completeness = 0.578 | F1 = 0.723\n",
      "Threshold = 0.69 | Accuracy = 0.967, Completeness = 0.565 | F1 = 0.713\n",
      "Threshold = 0.70 | Accuracy = 0.970, Completeness = 0.548 | F1 = 0.700\n",
      "Threshold = 0.71 | Accuracy = 0.969, Completeness = 0.529 | F1 = 0.684\n",
      "Threshold = 0.72 | Accuracy = 0.971, Completeness = 0.510 | F1 = 0.668\n",
      "Threshold = 0.73 | Accuracy = 0.974, Completeness = 0.494 | F1 = 0.656\n",
      "Threshold = 0.74 | Accuracy = 0.973, Completeness = 0.479 | F1 = 0.642\n",
      "Threshold = 0.75 | Accuracy = 0.980, Completeness = 0.466 | F1 = 0.631\n",
      "Threshold = 0.76 | Accuracy = 0.983, Completeness = 0.454 | F1 = 0.621\n",
      "Threshold = 0.77 | Accuracy = 0.983, Completeness = 0.439 | F1 = 0.607\n",
      "Threshold = 0.78 | Accuracy = 0.982, Completeness = 0.424 | F1 = 0.592\n",
      "Threshold = 0.79 | Accuracy = 0.986, Completeness = 0.393 | F1 = 0.562\n",
      "Threshold = 0.80 | Accuracy = 0.985, Completeness = 0.372 | F1 = 0.540\n",
      "Threshold = 0.81 | Accuracy = 0.984, Completeness = 0.355 | F1 = 0.522\n",
      "Threshold = 0.82 | Accuracy = 0.983, Completeness = 0.338 | F1 = 0.503\n",
      "Threshold = 0.83 | Accuracy = 0.982, Completeness = 0.319 | F1 = 0.481\n",
      "Threshold = 0.84 | Accuracy = 0.981, Completeness = 0.292 | F1 = 0.450\n",
      "Threshold = 0.85 | Accuracy = 0.979, Completeness = 0.273 | F1 = 0.427\n",
      "Threshold = 0.86 | Accuracy = 0.986, Completeness = 0.265 | F1 = 0.418\n",
      "Threshold = 0.87 | Accuracy = 0.985, Completeness = 0.250 | F1 = 0.399\n",
      "Threshold = 0.88 | Accuracy = 1.000, Completeness = 0.227 | F1 = 0.370\n",
      "Threshold = 0.89 | Accuracy = 1.000, Completeness = 0.208 | F1 = 0.344\n",
      "Threshold = 0.90 | Accuracy = 1.000, Completeness = 0.185 | F1 = 0.312\n",
      "Threshold = 0.91 | Accuracy = 1.000, Completeness = 0.172 | F1 = 0.293\n",
      "Threshold = 0.92 | Accuracy = 1.000, Completeness = 0.155 | F1 = 0.268\n",
      "Threshold = 0.93 | Accuracy = 1.000, Completeness = 0.134 | F1 = 0.236\n",
      "Threshold = 0.94 | Accuracy = 1.000, Completeness = 0.115 | F1 = 0.205\n"
     ]
    }
   ],
   "source": [
    "rf_final = RandomForestClassifier(criterion=rf_cv_model.best_params_[\"criterion\"], \n",
    "                             class_weight=rf_cv_model.best_params_[\"class_weight\"],\n",
    "                             max_depth=rf_cv_model.best_params_[\"max_depth\"],\n",
    "                             max_features=rf_cv_model.best_params_[\"max_features\"])\n",
    "rf_final.fit(x_train, y_train)\n",
    "rf_final_class1_probs = rf_final.predict_proba(x_test)[:, 1] \n",
    "\n",
    "f1_list = []\n",
    "for threshold in np.arange(0, 0.95, 0.01):\n",
    "    rf_final_thres_predicts = rf_final_class1_probs > threshold\n",
    "    precision = precision_score(y_test, rf_final_thres_predicts)\n",
    "    recall = recall_score(y_test, rf_final_thres_predicts)\n",
    "    f1 = f1_score(y_test, rf_final_thres_predicts)\n",
    "    f1_list.append(f1)\n",
    "\n",
    "    print(\"Threshold = {:.2f} | Accuracy = {:.3f}, Completeness = {:.3f} | F1 = {:.3f}\".format(\n",
    "        threshold, precision, recall, f1))"
   ]
  },
  {
   "cell_type": "code",
   "execution_count": 102,
   "id": "275f5f02-1124-4b7b-8779-64d9b9193a93",
   "metadata": {},
   "outputs": [
    {
     "name": "stdout",
     "output_type": "stream",
     "text": [
      "Maximum f1 score is: 0.893 and best threshold is: 0.34\n"
     ]
    }
   ],
   "source": [
    "f1_list = np.asarray(f1_list)\n",
    "f1_list.max()\n",
    "\n",
    "\n",
    "for threshold in np.arange(0, 0.95, 0.01):\n",
    "    rf_final_thres_predicts = rf_final_class1_probs > threshold\n",
    "    f1 = f1_score(y_test, rf_final_thres_predicts)\n",
    "    if f1_list.max() == f1:\n",
    "        rf_final_best_threshold = threshold\n",
    "\n",
    "\n",
    "print(\"Maximum f1 score is: %.3f\" % f1_list.max(),\"and best threshold is:\", rf_final_best_threshold)"
   ]
  },
  {
   "cell_type": "code",
   "execution_count": 103,
   "id": "040c918a-b5ad-4925-b838-1fd226094fef",
   "metadata": {},
   "outputs": [
    {
     "data": {
      "image/png": "[encoded data removed]",
      "text/plain": [
       "<Figure size 720x720 with 1 Axes>"
      ]
     },
     "metadata": {},
     "output_type": "display_data"
    }
   ],
   "source": [
    "precision, recall, threshold = precision_recall_curve(y_test, rf_final_class1_probs)\n",
    "\n",
    "sns.set_theme(style= \"whitegrid\")\n",
    "plt.figure(figsize=(10,10))\n",
    "plt.step(recall, precision)\n",
    "plt.xlabel('Recall')\n",
    "plt.ylabel('Precision')\n",
    "plt.ylim([0.0, 1.05])\n",
    "plt.xlim([0.0, 1.0])\n",
    "plt.title('Precision-Recall')\n",
    "plt.show() "
   ]
  },
  {
   "cell_type": "code",
   "execution_count": 104,
   "id": "364e7200-04bd-4eca-8529-78fb8d8fbb34",
   "metadata": {},
   "outputs": [
    {
     "name": "stdout",
     "output_type": "stream",
     "text": [
      "Tuned Random Forest AUC score: 0.945\n"
     ]
    }
   ],
   "source": [
    "print('Tuned Random Forest AUC score: %.3f' % average_precision_score(y_test, rf_final_class1_probs))"
   ]
  },
  {
   "cell_type": "code",
   "execution_count": 105,
   "id": "a3c9425f-7e4e-4ba2-9668-13895c2f9c2f",
   "metadata": {},
   "outputs": [],
   "source": [
    "def custom_predict(X, threshold):\n",
    "    \n",
    "    return (rf_final_class1_probs > threshold).astype(int)\n",
    "    \n",
    "    \n",
    "rf_final_preds = custom_predict(X=x_test, threshold=rf_final_best_threshold) "
   ]
  },
  {
   "cell_type": "code",
   "execution_count": 106,
   "id": "22d84028-6ba2-4dea-86df-1233cf670a09",
   "metadata": {},
   "outputs": [
    {
     "name": "stdout",
     "output_type": "stream",
     "text": [
      "\n",
      "Random Forest Confusion Matrix:\n",
      "\n",
      "[[2735   83]\n",
      " [  34  490]]\n"
     ]
    }
   ],
   "source": [
    "rf_final_cm= confusion_matrix(y_test, rf_final_preds)\n",
    "print(\"\\nRandom Forest Confusion Matrix:\\n\")\n",
    "print(rf_final_cm)"
   ]
  },
  {
   "cell_type": "code",
   "execution_count": 107,
   "id": "7c9da653-762c-4648-99dd-bb72cc57512e",
   "metadata": {},
   "outputs": [
    {
     "name": "stdout",
     "output_type": "stream",
     "text": [
      "              precision    recall  f1-score   support\n",
      "\n",
      " Not Churned       0.99      0.97      0.98      2818\n",
      "     Churned       0.86      0.94      0.89       524\n",
      "\n",
      "    accuracy                           0.96      3342\n",
      "   macro avg       0.92      0.95      0.94      3342\n",
      "weighted avg       0.97      0.96      0.97      3342\n",
      "\n"
     ]
    }
   ],
   "source": [
    "print(classification_report(y_test, rf_final_preds, target_names=target_names))"
   ]
  },
  {
   "cell_type": "code",
   "execution_count": 108,
   "id": "f6943646-5bc7-42f5-8d64-4dba422115fc",
   "metadata": {},
   "outputs": [
    {
     "name": "stdout",
     "output_type": "stream",
     "text": [
      "Brier score: 0.034\n"
     ]
    }
   ],
   "source": [
    "print(\"Brier score: %.3f\"%brier_score_loss(y_test, rf_final_class1_probs))"
   ]
  },
  {
   "cell_type": "code",
   "execution_count": 109,
   "id": "fdf51431-0a6a-41e0-8b1b-956b4a65dbea",
   "metadata": {},
   "outputs": [
    {
     "data": {
      "image/png": "[encoded data removed]",
      "text/plain": [
       "<Figure size 432x288 with 1 Axes>"
      ]
     },
     "metadata": {},
     "output_type": "display_data"
    }
   ],
   "source": [
    "brier_scores = [brier_score_loss(y_test, rf_class1_probs), brier_score_loss(y_test, rf_final_class1_probs)]\n",
    "f1_scores =[f1_score(y_test, rf_preds), f1_score(y_test, rf_final_preds)]\n",
    "X = ['Random Forest','Random Forest Tuned']\n",
    "\n",
    "  \n",
    "X_axis = np.arange(len(X))\n",
    "  \n",
    "plt.bar(X_axis - 0.2, brier_scores, 0.4, label = 'Brier')\n",
    "plt.bar(X_axis + 0.2, f1_scores, 0.4, label = 'F1')\n",
    "  \n",
    "plt.xticks(X_axis, X)\n",
    "plt.xlabel(\"Algorithms\")\n",
    "plt.ylabel(\"Scores\")\n",
    "plt.title(\"Comparing Brier and F1 Scores for Random Forest\")\n",
    "plt.legend()\n",
    "plt.show()"
   ]
  },
  {
   "cell_type": "code",
   "execution_count": 113,
   "id": "21a272e4-3492-4b37-a76f-a2be5e977fcf",
   "metadata": {},
   "outputs": [
    {
     "name": "stderr",
     "output_type": "stream",
     "text": [
      "C:\\Users\\Mehmet\\anaconda3\\lib\\site-packages\\sklearn\\base.py:450: UserWarning: X does not have valid feature names, but RandomForestClassifier was fitted with feature names\n",
      "  warnings.warn(\n"
     ]
    }
   ],
   "source": [
    "input_data= (43, 0, 2, 5, 25, 6, 2, 4, 10388, 1961, 0.703, 10294, 61, 0.649, 0.189, 0,1,0,0,0,0,0,0,1,0,0,0,0,1)\n",
    "input_data= np.asarray(input_data)\n",
    "input_data= input_data.reshape(1,-1)\n",
    "prob= rf_final.predict_proba(input_data)[:, 1][0]"
   ]
  },
  {
   "cell_type": "code",
   "execution_count": 114,
   "id": "fdac5242-ea79-439c-befa-ad9bf498e18a",
   "metadata": {},
   "outputs": [
    {
     "name": "stdout",
     "output_type": "stream",
     "text": [
      "The probability of churn: % 0.86\n",
      "\n",
      "The person is churned\n"
     ]
    }
   ],
   "source": [
    "def custom_predict(X, threshold):\n",
    "\n",
    "    return (prob > threshold).astype(int)\n",
    "    \n",
    "    \n",
    "result = custom_predict(X=input_data, threshold = rf_final_best_threshold) \n",
    "\n",
    "print(\"The probability of churn: %\", prob)\n",
    "\n",
    "if result==1:\n",
    "    print(\"\\nThe person is churned\")\n",
    "else:\n",
    "    print(\"\\nThe person is still customer\")"
   ]
  },
  {
   "cell_type": "markdown",
   "id": "50d64636-4352-4c1f-8c8c-f862d8e479ed",
   "metadata": {},
   "source": [
    "# Comparing"
   ]
  },
  {
   "cell_type": "code",
   "execution_count": 116,
   "id": "53b522d2-92ed-42c9-9a4d-e5af0cbc9c30",
   "metadata": {},
   "outputs": [
    {
     "data": {
      "image/png": "[encoded data removed]",
      "text/plain": [
       "<Figure size 720x720 with 1 Axes>"
      ]
     },
     "metadata": {},
     "output_type": "display_data"
    }
   ],
   "source": [
    "plt.figure(figsize=(10,10))\n",
    "\n",
    "brier_scores = [brier_score_loss(y_test, rf_class1_probs), brier_score_loss(y_test, rf_final_class1_probs),\n",
    "               brier_score_loss(y_test, logr_class1_probs), brier_score_loss(y_test, logr_class1_probs_tuned)]\n",
    "\n",
    "f1_scores =[f1_score(y_test, rf_preds), f1_score(y_test, rf_final_preds),\n",
    "           f1_score(y_test, logr_predicts), f1_score(y_test, logr_final_predicts)]\n",
    "\n",
    "X = ['Random Forest','Random Forest Tuned',\"LogR\", \"LogR Tuned\"]\n",
    "\n",
    "  \n",
    "X_axis = np.arange(len(X))\n",
    "  \n",
    "plt.bar(X_axis - 0.2, brier_scores, 0.4, label = 'Brier')\n",
    "plt.bar(X_axis + 0.2, f1_scores, 0.4, label = 'F1')\n",
    "  \n",
    "plt.xticks(X_axis, X)\n",
    "plt.xlabel(\"Algorithms\")\n",
    "plt.ylabel(\"Scores\")\n",
    "plt.title(\"Comparing Brier and F1 Scores\")\n",
    "plt.legend()\n",
    "plt.show()"
   ]
  },
  {
   "cell_type": "code",
   "execution_count": null,
   "id": "38bd4bf4-9005-45ac-980c-3fc5c01a8d89",
   "metadata": {},
   "outputs": [],
   "source": []
  }
 ],
 "metadata": {
  "kernelspec": {
   "display_name": "Python 3 (ipykernel)",
   "language": "python",
   "name": "python3"
  },
  "language_info": {
   "codemirror_mode": {
    "name": "ipython",
    "version": 3
   },
   "file_extension": ".py",
   "mimetype": "text/x-python",
   "name": "python",
   "nbconvert_exporter": "python",
   "pygments_lexer": "ipython3",
   "version": "3.9.12"
  }
 },
 "nbformat": 4,
 "nbformat_minor": 5
}
